{
  "nbformat": 4,
  "nbformat_minor": 0,
  "metadata": {
    "colab": {
      "provenance": [],
      "toc_visible": true
    },
    "kernelspec": {
      "name": "python3",
      "display_name": "Python 3"
    },
    "language_info": {
      "name": "python"
    },
    "accelerator": "GPU",
    "gpuClass": "standard"
  },
  "cells": [
    {
      "cell_type": "markdown",
      "source": [
        "# Name: Hanan Fared Mohamed Omara , ID =  20398559"
      ],
      "metadata": {
        "id": "ifWspB84bxpE"
      }
    },
    {
      "cell_type": "markdown",
      "source": [
        "# Data Science LifeCycle 🤓\n",
        "- Business Understanding \n",
        " - the dataset combined with some available data. Some nosies are added to the dataset and is not clean so we need to clean it well , The goal is to predict which better match people in speed dating events. We did have another online dating dataset (Tinder-like) but that one is super dirty which requires extensive cleaning, so we do this one instead. This is a binary classification task. we are going to predict the probability (0-1, float) that the dating session will lead to a successful match.\n",
        "- Load Dataset 😃\n",
        "  - The dataset is (Tinder-like) dataset.\n",
        "  - Dataset on kaggle include two parts (train dataset,test dataset)\n",
        "- Data Preprataion 🧐\n",
        "  - Check duplication\n",
        "  - Check null\n",
        "  - check unique\n",
        "-Feature Engineering\n",
        "-Modeling\n",
        "  - do different models at least 6 times using\n",
        "    - one grid search trial\n",
        "    - one random search trial\n",
        "    - one bayesian search trial\n",
        "- Model Evaluation 🥳      \n",
        "  - Evalute on training dataset and on validation dataset\n",
        "  \n",
        "\n",
        "\n"
      ],
      "metadata": {
        "id": "HJ5lppmpeZJX"
      }
    },
    {
      "cell_type": "markdown",
      "source": [
        "## Define the problem. What is the input? What is the output?\n",
        "- The goal of the problem is to predict which better match people in speed dating events.based on other features of the people. The input is the various features of partners such as gender, position,salary,wave,round,order and \n",
        "Others The output is the predicted column called `match`, which is binary 0 or 1 as 0 means not matched and 1 means match. The goal is to estimate how\n",
        "these partners match together.\n"
      ],
      "metadata": {
        "id": "w9MD9mhIEJM6"
      }
    },
    {
      "cell_type": "markdown",
      "source": [
        "## What data mining function is required?\n",
        "- The data mining function required is classification since the goal is to predict the matching of people.\n"
      ],
      "metadata": {
        "id": "Id-WfbpVEhL4"
      }
    },
    {
      "cell_type": "markdown",
      "source": [
        "## What could be the challenges? 🤯\n",
        "- The challenges could include dealing with noisy data, missing values, and irrelevant or unnecessary features.\n",
        " Also, the features included in the dataset may not be sufficient to accurately predict the product rating, which may require additional data sources or feature engineering."
      ],
      "metadata": {
        "id": "2OaNopdjEhEQ"
      }
    },
    {
      "cell_type": "markdown",
      "source": [
        "## What is the impact?\n",
        "- The impact of accurately predicting matching is that it can help people to know if this partner is goog and match with them or not .\n",
        " \n",
        "\n"
      ],
      "metadata": {
        "id": "nZjyNpGDEg7g"
      }
    },
    {
      "cell_type": "markdown",
      "source": [
        "## What is an ideal solution? 🤔\n",
        "- My experiment tries to reach to the highest accuracy to predict correct and gives the best benefits to people, in general, an ideal solution would be to develop a machine learning model that accurately predicts \n",
        "the matching  based on the available features, while also being able to handle missing or noisy data. The model should also be easily interpretable, so that businesses can understand the factors that are most important for predicting product ratings. Additionally, the model should be regularly updated with new data to ensure its accuracy over time and develope it regulary.\n"
      ],
      "metadata": {
        "id": "UeRmlT10GdS4"
      }
    },
    {
      "cell_type": "markdown",
      "source": [
        "##Import Libraries"
      ],
      "metadata": {
        "id": "DVCdM8u-y3Gi"
      }
    },
    {
      "cell_type": "code",
      "execution_count": null,
      "metadata": {
        "id": "6BBkapSk0ckd"
      },
      "outputs": [],
      "source": [
        "#import all the important libraries which we need in our experiment.\n",
        "import pandas as pd\n",
        "import numpy as np\n",
        "import seaborn as sns\n",
        "from matplotlib import pyplot as plt\n",
        "from sklearn.metrics import precision_score, recall_score, f1_score, accuracy_score\n",
        "from sklearn.model_selection import cross_val_score\n",
        "from sklearn.metrics import confusion_matrix\n",
        "from sklearn.model_selection import train_test_split, cross_val_score\n",
        "from sklearn.tree import DecisionTreeClassifier\n",
        "from sklearn.naive_bayes import GaussianNB \n",
        "from sklearn import svm\n",
        "from sklearn.model_selection import GridSearchCV\n",
        "from sklearn.feature_selection import RFE\n",
        "from sklearn.preprocessing import MinMaxScaler\n",
        "from sklearn.metrics import accuracy_score, classification_report, precision_score, recall_score \n",
        "from sklearn.tree import DecisionTreeClassifier, export_graphviz\n",
        "from sklearn import tree\n",
        "from numpy import loadtxt\n",
        "from xgboost import XGBClassifier\n",
        "from sklearn.model_selection import train_test_split\n",
        "from sklearn.metrics import accuracy_score\n",
        "from sklearn.compose import ColumnTransformer\n",
        "from sklearn.datasets import fetch_openml\n",
        "from sklearn.pipeline import Pipeline\n",
        "from sklearn.impute import SimpleImputer\n",
        "from sklearn.preprocessing import StandardScaler, OneHotEncoder\n",
        "from sklearn.linear_model import LogisticRegression\n",
        "from sklearn.ensemble import RandomForestClassifier\n",
        "from xgboost.sklearn import XGBClassifier\n"
      ]
    },
    {
      "cell_type": "markdown",
      "source": [
        "## Load dataset"
      ],
      "metadata": {
        "id": "7B8uoe6oy_dK"
      }
    },
    {
      "cell_type": "code",
      "source": [
        "#load the train and test dataset to our notebook\n",
        "train_df = pd.read_csv('/content/train_kaggle.csv')\n",
        "test_df = pd.read_csv('/content/test_kaggle.csv')"
      ],
      "metadata": {
        "id": "4O52Zj190m9B"
      },
      "execution_count": null,
      "outputs": []
    },
    {
      "cell_type": "markdown",
      "source": [
        "## preparation of train set"
      ],
      "metadata": {
        "id": "QoygRSuaFZC1"
      }
    },
    {
      "cell_type": "code",
      "source": [
        "#make a variable hold the values of id from test dataset\n",
        "match=train_df[\"match\"]"
      ],
      "metadata": {
        "id": "3LmDxVV62Kt2"
      },
      "execution_count": null,
      "outputs": []
    },
    {
      "cell_type": "code",
      "source": [
        "#check the type of train data\n",
        "train_df['match'].dtype"
      ],
      "metadata": {
        "colab": {
          "base_uri": "https://localhost:8080/"
        },
        "id": "qFje9MeRmS5T",
        "outputId": "9a3d6523-af30-4fca-c3ca-5c2d4e27f1ad"
      },
      "execution_count": null,
      "outputs": [
        {
          "output_type": "execute_result",
          "data": {
            "text/plain": [
              "dtype('int64')"
            ]
          },
          "metadata": {},
          "execution_count": 4
        }
      ]
    },
    {
      "cell_type": "code",
      "source": [
        "#check the shape of train dataset\n",
        "train_df.shape"
      ],
      "metadata": {
        "colab": {
          "base_uri": "https://localhost:8080/"
        },
        "id": "hKDL2QgR_Ce9",
        "outputId": "170bc5e1-3570-4cee-ccb0-dd3fc090c239"
      },
      "execution_count": null,
      "outputs": [
        {
          "output_type": "execute_result",
          "data": {
            "text/plain": [
              "(5909, 192)"
            ]
          },
          "metadata": {},
          "execution_count": 5
        }
      ]
    },
    {
      "cell_type": "code",
      "source": [
        "test_df.shape"
      ],
      "metadata": {
        "colab": {
          "base_uri": "https://localhost:8080/"
        },
        "id": "jFrR2g0f2jhr",
        "outputId": "28d5f901-80c1-4463-a302-eb0ec0ddc820"
      },
      "execution_count": null,
      "outputs": [
        {
          "output_type": "execute_result",
          "data": {
            "text/plain": [
              "(2469, 191)"
            ]
          },
          "metadata": {},
          "execution_count": 6
        }
      ]
    },
    {
      "cell_type": "code",
      "source": [
        "# make a copy of dataset to can do different preprocessing on it\n",
        "train_data = train_df.copy()\n"
      ],
      "metadata": {
        "id": "Kyy3cbig_SBc"
      },
      "execution_count": null,
      "outputs": []
    },
    {
      "cell_type": "code",
      "source": [
        "#show the first 5 rows in data\n",
        "train_data.head()"
      ],
      "metadata": {
        "colab": {
          "base_uri": "https://localhost:8080/",
          "height": 236
        },
        "id": "mXUwrRNhEOIl",
        "outputId": "c013a601-af0d-4c50-9589-96139fee27b1"
      },
      "execution_count": null,
      "outputs": [
        {
          "output_type": "execute_result",
          "data": {
            "text/plain": [
              "   gender  idg  condtn  wave  round  position  positin1  order  partner  \\\n",
              "0       0    3       2    14     18         2       2.0     14       12   \n",
              "1       1   14       1     3     10         2       NaN      8        8   \n",
              "2       1   14       1    13     10         8       8.0     10       10   \n",
              "3       1   38       2     9     20        18      13.0      6        7   \n",
              "4       1   24       2    14     20         6       6.0     20       17   \n",
              "\n",
              "     pid  ...  sinc3_3  intel3_3  fun3_3  amb3_3  attr5_3  sinc5_3  intel5_3  \\\n",
              "0  372.0  ...      NaN       NaN     NaN     NaN      NaN      NaN       NaN   \n",
              "1   63.0  ...      8.0       8.0     7.0     8.0      NaN      NaN       NaN   \n",
              "2  331.0  ...      NaN       NaN     NaN     NaN      NaN      NaN       NaN   \n",
              "3  200.0  ...      9.0       8.0     8.0     6.0      NaN      NaN       NaN   \n",
              "4  357.0  ...      NaN       NaN     NaN     NaN      NaN      NaN       NaN   \n",
              "\n",
              "   fun5_3  amb5_3    id  \n",
              "0     NaN     NaN  2583  \n",
              "1     NaN     NaN  6830  \n",
              "2     NaN     NaN  4840  \n",
              "3     NaN     NaN  5508  \n",
              "4     NaN     NaN  4828  \n",
              "\n",
              "[5 rows x 192 columns]"
            ],
            "text/html": [
              "\n",
              "  <div id=\"df-bac284fb-9b24-4870-a4bc-7d5abb17e9f9\">\n",
              "    <div class=\"colab-df-container\">\n",
              "      <div>\n",
              "<style scoped>\n",
              "    .dataframe tbody tr th:only-of-type {\n",
              "        vertical-align: middle;\n",
              "    }\n",
              "\n",
              "    .dataframe tbody tr th {\n",
              "        vertical-align: top;\n",
              "    }\n",
              "\n",
              "    .dataframe thead th {\n",
              "        text-align: right;\n",
              "    }\n",
              "</style>\n",
              "<table border=\"1\" class=\"dataframe\">\n",
              "  <thead>\n",
              "    <tr style=\"text-align: right;\">\n",
              "      <th></th>\n",
              "      <th>gender</th>\n",
              "      <th>idg</th>\n",
              "      <th>condtn</th>\n",
              "      <th>wave</th>\n",
              "      <th>round</th>\n",
              "      <th>position</th>\n",
              "      <th>positin1</th>\n",
              "      <th>order</th>\n",
              "      <th>partner</th>\n",
              "      <th>pid</th>\n",
              "      <th>...</th>\n",
              "      <th>sinc3_3</th>\n",
              "      <th>intel3_3</th>\n",
              "      <th>fun3_3</th>\n",
              "      <th>amb3_3</th>\n",
              "      <th>attr5_3</th>\n",
              "      <th>sinc5_3</th>\n",
              "      <th>intel5_3</th>\n",
              "      <th>fun5_3</th>\n",
              "      <th>amb5_3</th>\n",
              "      <th>id</th>\n",
              "    </tr>\n",
              "  </thead>\n",
              "  <tbody>\n",
              "    <tr>\n",
              "      <th>0</th>\n",
              "      <td>0</td>\n",
              "      <td>3</td>\n",
              "      <td>2</td>\n",
              "      <td>14</td>\n",
              "      <td>18</td>\n",
              "      <td>2</td>\n",
              "      <td>2.0</td>\n",
              "      <td>14</td>\n",
              "      <td>12</td>\n",
              "      <td>372.0</td>\n",
              "      <td>...</td>\n",
              "      <td>NaN</td>\n",
              "      <td>NaN</td>\n",
              "      <td>NaN</td>\n",
              "      <td>NaN</td>\n",
              "      <td>NaN</td>\n",
              "      <td>NaN</td>\n",
              "      <td>NaN</td>\n",
              "      <td>NaN</td>\n",
              "      <td>NaN</td>\n",
              "      <td>2583</td>\n",
              "    </tr>\n",
              "    <tr>\n",
              "      <th>1</th>\n",
              "      <td>1</td>\n",
              "      <td>14</td>\n",
              "      <td>1</td>\n",
              "      <td>3</td>\n",
              "      <td>10</td>\n",
              "      <td>2</td>\n",
              "      <td>NaN</td>\n",
              "      <td>8</td>\n",
              "      <td>8</td>\n",
              "      <td>63.0</td>\n",
              "      <td>...</td>\n",
              "      <td>8.0</td>\n",
              "      <td>8.0</td>\n",
              "      <td>7.0</td>\n",
              "      <td>8.0</td>\n",
              "      <td>NaN</td>\n",
              "      <td>NaN</td>\n",
              "      <td>NaN</td>\n",
              "      <td>NaN</td>\n",
              "      <td>NaN</td>\n",
              "      <td>6830</td>\n",
              "    </tr>\n",
              "    <tr>\n",
              "      <th>2</th>\n",
              "      <td>1</td>\n",
              "      <td>14</td>\n",
              "      <td>1</td>\n",
              "      <td>13</td>\n",
              "      <td>10</td>\n",
              "      <td>8</td>\n",
              "      <td>8.0</td>\n",
              "      <td>10</td>\n",
              "      <td>10</td>\n",
              "      <td>331.0</td>\n",
              "      <td>...</td>\n",
              "      <td>NaN</td>\n",
              "      <td>NaN</td>\n",
              "      <td>NaN</td>\n",
              "      <td>NaN</td>\n",
              "      <td>NaN</td>\n",
              "      <td>NaN</td>\n",
              "      <td>NaN</td>\n",
              "      <td>NaN</td>\n",
              "      <td>NaN</td>\n",
              "      <td>4840</td>\n",
              "    </tr>\n",
              "    <tr>\n",
              "      <th>3</th>\n",
              "      <td>1</td>\n",
              "      <td>38</td>\n",
              "      <td>2</td>\n",
              "      <td>9</td>\n",
              "      <td>20</td>\n",
              "      <td>18</td>\n",
              "      <td>13.0</td>\n",
              "      <td>6</td>\n",
              "      <td>7</td>\n",
              "      <td>200.0</td>\n",
              "      <td>...</td>\n",
              "      <td>9.0</td>\n",
              "      <td>8.0</td>\n",
              "      <td>8.0</td>\n",
              "      <td>6.0</td>\n",
              "      <td>NaN</td>\n",
              "      <td>NaN</td>\n",
              "      <td>NaN</td>\n",
              "      <td>NaN</td>\n",
              "      <td>NaN</td>\n",
              "      <td>5508</td>\n",
              "    </tr>\n",
              "    <tr>\n",
              "      <th>4</th>\n",
              "      <td>1</td>\n",
              "      <td>24</td>\n",
              "      <td>2</td>\n",
              "      <td>14</td>\n",
              "      <td>20</td>\n",
              "      <td>6</td>\n",
              "      <td>6.0</td>\n",
              "      <td>20</td>\n",
              "      <td>17</td>\n",
              "      <td>357.0</td>\n",
              "      <td>...</td>\n",
              "      <td>NaN</td>\n",
              "      <td>NaN</td>\n",
              "      <td>NaN</td>\n",
              "      <td>NaN</td>\n",
              "      <td>NaN</td>\n",
              "      <td>NaN</td>\n",
              "      <td>NaN</td>\n",
              "      <td>NaN</td>\n",
              "      <td>NaN</td>\n",
              "      <td>4828</td>\n",
              "    </tr>\n",
              "  </tbody>\n",
              "</table>\n",
              "<p>5 rows × 192 columns</p>\n",
              "</div>\n",
              "      <button class=\"colab-df-convert\" onclick=\"convertToInteractive('df-bac284fb-9b24-4870-a4bc-7d5abb17e9f9')\"\n",
              "              title=\"Convert this dataframe to an interactive table.\"\n",
              "              style=\"display:none;\">\n",
              "        \n",
              "  <svg xmlns=\"http://www.w3.org/2000/svg\" height=\"24px\"viewBox=\"0 0 24 24\"\n",
              "       width=\"24px\">\n",
              "    <path d=\"M0 0h24v24H0V0z\" fill=\"none\"/>\n",
              "    <path d=\"M18.56 5.44l.94 2.06.94-2.06 2.06-.94-2.06-.94-.94-2.06-.94 2.06-2.06.94zm-11 1L8.5 8.5l.94-2.06 2.06-.94-2.06-.94L8.5 2.5l-.94 2.06-2.06.94zm10 10l.94 2.06.94-2.06 2.06-.94-2.06-.94-.94-2.06-.94 2.06-2.06.94z\"/><path d=\"M17.41 7.96l-1.37-1.37c-.4-.4-.92-.59-1.43-.59-.52 0-1.04.2-1.43.59L10.3 9.45l-7.72 7.72c-.78.78-.78 2.05 0 2.83L4 21.41c.39.39.9.59 1.41.59.51 0 1.02-.2 1.41-.59l7.78-7.78 2.81-2.81c.8-.78.8-2.07 0-2.86zM5.41 20L4 18.59l7.72-7.72 1.47 1.35L5.41 20z\"/>\n",
              "  </svg>\n",
              "      </button>\n",
              "      \n",
              "  <style>\n",
              "    .colab-df-container {\n",
              "      display:flex;\n",
              "      flex-wrap:wrap;\n",
              "      gap: 12px;\n",
              "    }\n",
              "\n",
              "    .colab-df-convert {\n",
              "      background-color: #E8F0FE;\n",
              "      border: none;\n",
              "      border-radius: 50%;\n",
              "      cursor: pointer;\n",
              "      display: none;\n",
              "      fill: #1967D2;\n",
              "      height: 32px;\n",
              "      padding: 0 0 0 0;\n",
              "      width: 32px;\n",
              "    }\n",
              "\n",
              "    .colab-df-convert:hover {\n",
              "      background-color: #E2EBFA;\n",
              "      box-shadow: 0px 1px 2px rgba(60, 64, 67, 0.3), 0px 1px 3px 1px rgba(60, 64, 67, 0.15);\n",
              "      fill: #174EA6;\n",
              "    }\n",
              "\n",
              "    [theme=dark] .colab-df-convert {\n",
              "      background-color: #3B4455;\n",
              "      fill: #D2E3FC;\n",
              "    }\n",
              "\n",
              "    [theme=dark] .colab-df-convert:hover {\n",
              "      background-color: #434B5C;\n",
              "      box-shadow: 0px 1px 3px 1px rgba(0, 0, 0, 0.15);\n",
              "      filter: drop-shadow(0px 1px 2px rgba(0, 0, 0, 0.3));\n",
              "      fill: #FFFFFF;\n",
              "    }\n",
              "  </style>\n",
              "\n",
              "      <script>\n",
              "        const buttonEl =\n",
              "          document.querySelector('#df-bac284fb-9b24-4870-a4bc-7d5abb17e9f9 button.colab-df-convert');\n",
              "        buttonEl.style.display =\n",
              "          google.colab.kernel.accessAllowed ? 'block' : 'none';\n",
              "\n",
              "        async function convertToInteractive(key) {\n",
              "          const element = document.querySelector('#df-bac284fb-9b24-4870-a4bc-7d5abb17e9f9');\n",
              "          const dataTable =\n",
              "            await google.colab.kernel.invokeFunction('convertToInteractive',\n",
              "                                                     [key], {});\n",
              "          if (!dataTable) return;\n",
              "\n",
              "          const docLinkHtml = 'Like what you see? Visit the ' +\n",
              "            '<a target=\"_blank\" href=https://colab.research.google.com/notebooks/data_table.ipynb>data table notebook</a>'\n",
              "            + ' to learn more about interactive tables.';\n",
              "          element.innerHTML = '';\n",
              "          dataTable['output_type'] = 'display_data';\n",
              "          await google.colab.output.renderOutput(dataTable, element);\n",
              "          const docLink = document.createElement('div');\n",
              "          docLink.innerHTML = docLinkHtml;\n",
              "          element.appendChild(docLink);\n",
              "        }\n",
              "      </script>\n",
              "    </div>\n",
              "  </div>\n",
              "  "
            ]
          },
          "metadata": {},
          "execution_count": 8
        }
      ]
    },
    {
      "cell_type": "markdown",
      "source": [
        "- we note here, there are many missing values which contain` NaN` ,SO We will solve this problem later.\n",
        "- also the data values don't have the same scale so we want to do ` Normalization ` to keep all values on the same scale from 0 to 1"
      ],
      "metadata": {
        "id": "flzfq0c825SU"
      }
    },
    {
      "cell_type": "code",
      "source": [
        "# describe the statistical of data\n",
        "train_data.describe()\n"
      ],
      "metadata": {
        "colab": {
          "base_uri": "https://localhost:8080/",
          "height": 394
        },
        "id": "OL6lNgM-00Lg",
        "outputId": "7a59d999-a6b6-43a7-d6cf-7bc9ce335b83"
      },
      "execution_count": null,
      "outputs": [
        {
          "output_type": "execute_result",
          "data": {
            "text/plain": [
              "            gender          idg       condtn         wave        round  \\\n",
              "count  5909.000000  5909.000000  5909.000000  5909.000000  5909.000000   \n",
              "mean      0.505331    17.360298     1.824843    11.347436    16.850228   \n",
              "std       0.500014    10.947542     0.380133     6.011495     4.389246   \n",
              "min       0.000000     1.000000     1.000000     1.000000     5.000000   \n",
              "25%       0.000000     8.000000     2.000000     7.000000    14.000000   \n",
              "50%       1.000000    16.000000     2.000000    11.000000    18.000000   \n",
              "75%       1.000000    26.000000     2.000000    15.000000    20.000000   \n",
              "max       1.000000    44.000000     2.000000    21.000000    22.000000   \n",
              "\n",
              "          position     positin1       order      partner          pid  ...  \\\n",
              "count  5909.000000  4591.000000  5909.00000  5909.000000  5901.000000  ...   \n",
              "mean      9.001523     9.254846     8.91166     8.962938   283.733266  ...   \n",
              "std       5.482368     5.611803     5.45710     5.500706   158.993002  ...   \n",
              "min       1.000000     1.000000     1.00000     1.000000     1.000000  ...   \n",
              "25%       4.000000     4.000000     4.00000     4.000000   153.000000  ...   \n",
              "50%       8.000000     9.000000     8.00000     8.000000   280.000000  ...   \n",
              "75%      13.000000    14.000000    13.00000    13.000000   409.000000  ...   \n",
              "max      22.000000    22.000000    22.00000    22.000000   552.000000  ...   \n",
              "\n",
              "           sinc3_3     intel3_3       fun3_3       amb3_3      attr5_3  \\\n",
              "count  2804.000000  2804.000000  2804.000000  2804.000000  1413.000000   \n",
              "mean      8.105563     8.377318     7.644437     7.398716     6.799717   \n",
              "std       1.601011     1.459013     1.757559     1.956924     1.535768   \n",
              "min       2.000000     3.000000     2.000000     1.000000     2.000000   \n",
              "25%       7.000000     8.000000     7.000000     6.000000     6.000000   \n",
              "50%       8.000000     8.000000     8.000000     8.000000     7.000000   \n",
              "75%       9.000000     9.000000     9.000000     9.000000     8.000000   \n",
              "max      12.000000    12.000000    12.000000    12.000000    10.000000   \n",
              "\n",
              "           sinc5_3     intel5_3       fun5_3       amb5_3           id  \n",
              "count  1413.000000  1413.000000  1413.000000  1413.000000  5909.000000  \n",
              "mean      7.631989     7.944798     7.162774     7.092711  4191.314943  \n",
              "std       1.498024     1.320919     1.687431     1.713729  2408.009173  \n",
              "min       2.000000     4.000000     1.000000     1.000000     0.000000  \n",
              "25%       7.000000     7.000000     6.000000     6.000000  2124.000000  \n",
              "50%       8.000000     8.000000     7.000000     7.000000  4210.000000  \n",
              "75%       9.000000     9.000000     8.000000     8.000000  6266.000000  \n",
              "max      10.000000    10.000000    10.000000    10.000000  8372.000000  \n",
              "\n",
              "[8 rows x 184 columns]"
            ],
            "text/html": [
              "\n",
              "  <div id=\"df-6ff8155b-c8bb-4444-925e-2febe8bb2699\">\n",
              "    <div class=\"colab-df-container\">\n",
              "      <div>\n",
              "<style scoped>\n",
              "    .dataframe tbody tr th:only-of-type {\n",
              "        vertical-align: middle;\n",
              "    }\n",
              "\n",
              "    .dataframe tbody tr th {\n",
              "        vertical-align: top;\n",
              "    }\n",
              "\n",
              "    .dataframe thead th {\n",
              "        text-align: right;\n",
              "    }\n",
              "</style>\n",
              "<table border=\"1\" class=\"dataframe\">\n",
              "  <thead>\n",
              "    <tr style=\"text-align: right;\">\n",
              "      <th></th>\n",
              "      <th>gender</th>\n",
              "      <th>idg</th>\n",
              "      <th>condtn</th>\n",
              "      <th>wave</th>\n",
              "      <th>round</th>\n",
              "      <th>position</th>\n",
              "      <th>positin1</th>\n",
              "      <th>order</th>\n",
              "      <th>partner</th>\n",
              "      <th>pid</th>\n",
              "      <th>...</th>\n",
              "      <th>sinc3_3</th>\n",
              "      <th>intel3_3</th>\n",
              "      <th>fun3_3</th>\n",
              "      <th>amb3_3</th>\n",
              "      <th>attr5_3</th>\n",
              "      <th>sinc5_3</th>\n",
              "      <th>intel5_3</th>\n",
              "      <th>fun5_3</th>\n",
              "      <th>amb5_3</th>\n",
              "      <th>id</th>\n",
              "    </tr>\n",
              "  </thead>\n",
              "  <tbody>\n",
              "    <tr>\n",
              "      <th>count</th>\n",
              "      <td>5909.000000</td>\n",
              "      <td>5909.000000</td>\n",
              "      <td>5909.000000</td>\n",
              "      <td>5909.000000</td>\n",
              "      <td>5909.000000</td>\n",
              "      <td>5909.000000</td>\n",
              "      <td>4591.000000</td>\n",
              "      <td>5909.00000</td>\n",
              "      <td>5909.000000</td>\n",
              "      <td>5901.000000</td>\n",
              "      <td>...</td>\n",
              "      <td>2804.000000</td>\n",
              "      <td>2804.000000</td>\n",
              "      <td>2804.000000</td>\n",
              "      <td>2804.000000</td>\n",
              "      <td>1413.000000</td>\n",
              "      <td>1413.000000</td>\n",
              "      <td>1413.000000</td>\n",
              "      <td>1413.000000</td>\n",
              "      <td>1413.000000</td>\n",
              "      <td>5909.000000</td>\n",
              "    </tr>\n",
              "    <tr>\n",
              "      <th>mean</th>\n",
              "      <td>0.505331</td>\n",
              "      <td>17.360298</td>\n",
              "      <td>1.824843</td>\n",
              "      <td>11.347436</td>\n",
              "      <td>16.850228</td>\n",
              "      <td>9.001523</td>\n",
              "      <td>9.254846</td>\n",
              "      <td>8.91166</td>\n",
              "      <td>8.962938</td>\n",
              "      <td>283.733266</td>\n",
              "      <td>...</td>\n",
              "      <td>8.105563</td>\n",
              "      <td>8.377318</td>\n",
              "      <td>7.644437</td>\n",
              "      <td>7.398716</td>\n",
              "      <td>6.799717</td>\n",
              "      <td>7.631989</td>\n",
              "      <td>7.944798</td>\n",
              "      <td>7.162774</td>\n",
              "      <td>7.092711</td>\n",
              "      <td>4191.314943</td>\n",
              "    </tr>\n",
              "    <tr>\n",
              "      <th>std</th>\n",
              "      <td>0.500014</td>\n",
              "      <td>10.947542</td>\n",
              "      <td>0.380133</td>\n",
              "      <td>6.011495</td>\n",
              "      <td>4.389246</td>\n",
              "      <td>5.482368</td>\n",
              "      <td>5.611803</td>\n",
              "      <td>5.45710</td>\n",
              "      <td>5.500706</td>\n",
              "      <td>158.993002</td>\n",
              "      <td>...</td>\n",
              "      <td>1.601011</td>\n",
              "      <td>1.459013</td>\n",
              "      <td>1.757559</td>\n",
              "      <td>1.956924</td>\n",
              "      <td>1.535768</td>\n",
              "      <td>1.498024</td>\n",
              "      <td>1.320919</td>\n",
              "      <td>1.687431</td>\n",
              "      <td>1.713729</td>\n",
              "      <td>2408.009173</td>\n",
              "    </tr>\n",
              "    <tr>\n",
              "      <th>min</th>\n",
              "      <td>0.000000</td>\n",
              "      <td>1.000000</td>\n",
              "      <td>1.000000</td>\n",
              "      <td>1.000000</td>\n",
              "      <td>5.000000</td>\n",
              "      <td>1.000000</td>\n",
              "      <td>1.000000</td>\n",
              "      <td>1.00000</td>\n",
              "      <td>1.000000</td>\n",
              "      <td>1.000000</td>\n",
              "      <td>...</td>\n",
              "      <td>2.000000</td>\n",
              "      <td>3.000000</td>\n",
              "      <td>2.000000</td>\n",
              "      <td>1.000000</td>\n",
              "      <td>2.000000</td>\n",
              "      <td>2.000000</td>\n",
              "      <td>4.000000</td>\n",
              "      <td>1.000000</td>\n",
              "      <td>1.000000</td>\n",
              "      <td>0.000000</td>\n",
              "    </tr>\n",
              "    <tr>\n",
              "      <th>25%</th>\n",
              "      <td>0.000000</td>\n",
              "      <td>8.000000</td>\n",
              "      <td>2.000000</td>\n",
              "      <td>7.000000</td>\n",
              "      <td>14.000000</td>\n",
              "      <td>4.000000</td>\n",
              "      <td>4.000000</td>\n",
              "      <td>4.00000</td>\n",
              "      <td>4.000000</td>\n",
              "      <td>153.000000</td>\n",
              "      <td>...</td>\n",
              "      <td>7.000000</td>\n",
              "      <td>8.000000</td>\n",
              "      <td>7.000000</td>\n",
              "      <td>6.000000</td>\n",
              "      <td>6.000000</td>\n",
              "      <td>7.000000</td>\n",
              "      <td>7.000000</td>\n",
              "      <td>6.000000</td>\n",
              "      <td>6.000000</td>\n",
              "      <td>2124.000000</td>\n",
              "    </tr>\n",
              "    <tr>\n",
              "      <th>50%</th>\n",
              "      <td>1.000000</td>\n",
              "      <td>16.000000</td>\n",
              "      <td>2.000000</td>\n",
              "      <td>11.000000</td>\n",
              "      <td>18.000000</td>\n",
              "      <td>8.000000</td>\n",
              "      <td>9.000000</td>\n",
              "      <td>8.00000</td>\n",
              "      <td>8.000000</td>\n",
              "      <td>280.000000</td>\n",
              "      <td>...</td>\n",
              "      <td>8.000000</td>\n",
              "      <td>8.000000</td>\n",
              "      <td>8.000000</td>\n",
              "      <td>8.000000</td>\n",
              "      <td>7.000000</td>\n",
              "      <td>8.000000</td>\n",
              "      <td>8.000000</td>\n",
              "      <td>7.000000</td>\n",
              "      <td>7.000000</td>\n",
              "      <td>4210.000000</td>\n",
              "    </tr>\n",
              "    <tr>\n",
              "      <th>75%</th>\n",
              "      <td>1.000000</td>\n",
              "      <td>26.000000</td>\n",
              "      <td>2.000000</td>\n",
              "      <td>15.000000</td>\n",
              "      <td>20.000000</td>\n",
              "      <td>13.000000</td>\n",
              "      <td>14.000000</td>\n",
              "      <td>13.00000</td>\n",
              "      <td>13.000000</td>\n",
              "      <td>409.000000</td>\n",
              "      <td>...</td>\n",
              "      <td>9.000000</td>\n",
              "      <td>9.000000</td>\n",
              "      <td>9.000000</td>\n",
              "      <td>9.000000</td>\n",
              "      <td>8.000000</td>\n",
              "      <td>9.000000</td>\n",
              "      <td>9.000000</td>\n",
              "      <td>8.000000</td>\n",
              "      <td>8.000000</td>\n",
              "      <td>6266.000000</td>\n",
              "    </tr>\n",
              "    <tr>\n",
              "      <th>max</th>\n",
              "      <td>1.000000</td>\n",
              "      <td>44.000000</td>\n",
              "      <td>2.000000</td>\n",
              "      <td>21.000000</td>\n",
              "      <td>22.000000</td>\n",
              "      <td>22.000000</td>\n",
              "      <td>22.000000</td>\n",
              "      <td>22.00000</td>\n",
              "      <td>22.000000</td>\n",
              "      <td>552.000000</td>\n",
              "      <td>...</td>\n",
              "      <td>12.000000</td>\n",
              "      <td>12.000000</td>\n",
              "      <td>12.000000</td>\n",
              "      <td>12.000000</td>\n",
              "      <td>10.000000</td>\n",
              "      <td>10.000000</td>\n",
              "      <td>10.000000</td>\n",
              "      <td>10.000000</td>\n",
              "      <td>10.000000</td>\n",
              "      <td>8372.000000</td>\n",
              "    </tr>\n",
              "  </tbody>\n",
              "</table>\n",
              "<p>8 rows × 184 columns</p>\n",
              "</div>\n",
              "      <button class=\"colab-df-convert\" onclick=\"convertToInteractive('df-6ff8155b-c8bb-4444-925e-2febe8bb2699')\"\n",
              "              title=\"Convert this dataframe to an interactive table.\"\n",
              "              style=\"display:none;\">\n",
              "        \n",
              "  <svg xmlns=\"http://www.w3.org/2000/svg\" height=\"24px\"viewBox=\"0 0 24 24\"\n",
              "       width=\"24px\">\n",
              "    <path d=\"M0 0h24v24H0V0z\" fill=\"none\"/>\n",
              "    <path d=\"M18.56 5.44l.94 2.06.94-2.06 2.06-.94-2.06-.94-.94-2.06-.94 2.06-2.06.94zm-11 1L8.5 8.5l.94-2.06 2.06-.94-2.06-.94L8.5 2.5l-.94 2.06-2.06.94zm10 10l.94 2.06.94-2.06 2.06-.94-2.06-.94-.94-2.06-.94 2.06-2.06.94z\"/><path d=\"M17.41 7.96l-1.37-1.37c-.4-.4-.92-.59-1.43-.59-.52 0-1.04.2-1.43.59L10.3 9.45l-7.72 7.72c-.78.78-.78 2.05 0 2.83L4 21.41c.39.39.9.59 1.41.59.51 0 1.02-.2 1.41-.59l7.78-7.78 2.81-2.81c.8-.78.8-2.07 0-2.86zM5.41 20L4 18.59l7.72-7.72 1.47 1.35L5.41 20z\"/>\n",
              "  </svg>\n",
              "      </button>\n",
              "      \n",
              "  <style>\n",
              "    .colab-df-container {\n",
              "      display:flex;\n",
              "      flex-wrap:wrap;\n",
              "      gap: 12px;\n",
              "    }\n",
              "\n",
              "    .colab-df-convert {\n",
              "      background-color: #E8F0FE;\n",
              "      border: none;\n",
              "      border-radius: 50%;\n",
              "      cursor: pointer;\n",
              "      display: none;\n",
              "      fill: #1967D2;\n",
              "      height: 32px;\n",
              "      padding: 0 0 0 0;\n",
              "      width: 32px;\n",
              "    }\n",
              "\n",
              "    .colab-df-convert:hover {\n",
              "      background-color: #E2EBFA;\n",
              "      box-shadow: 0px 1px 2px rgba(60, 64, 67, 0.3), 0px 1px 3px 1px rgba(60, 64, 67, 0.15);\n",
              "      fill: #174EA6;\n",
              "    }\n",
              "\n",
              "    [theme=dark] .colab-df-convert {\n",
              "      background-color: #3B4455;\n",
              "      fill: #D2E3FC;\n",
              "    }\n",
              "\n",
              "    [theme=dark] .colab-df-convert:hover {\n",
              "      background-color: #434B5C;\n",
              "      box-shadow: 0px 1px 3px 1px rgba(0, 0, 0, 0.15);\n",
              "      filter: drop-shadow(0px 1px 2px rgba(0, 0, 0, 0.3));\n",
              "      fill: #FFFFFF;\n",
              "    }\n",
              "  </style>\n",
              "\n",
              "      <script>\n",
              "        const buttonEl =\n",
              "          document.querySelector('#df-6ff8155b-c8bb-4444-925e-2febe8bb2699 button.colab-df-convert');\n",
              "        buttonEl.style.display =\n",
              "          google.colab.kernel.accessAllowed ? 'block' : 'none';\n",
              "\n",
              "        async function convertToInteractive(key) {\n",
              "          const element = document.querySelector('#df-6ff8155b-c8bb-4444-925e-2febe8bb2699');\n",
              "          const dataTable =\n",
              "            await google.colab.kernel.invokeFunction('convertToInteractive',\n",
              "                                                     [key], {});\n",
              "          if (!dataTable) return;\n",
              "\n",
              "          const docLinkHtml = 'Like what you see? Visit the ' +\n",
              "            '<a target=\"_blank\" href=https://colab.research.google.com/notebooks/data_table.ipynb>data table notebook</a>'\n",
              "            + ' to learn more about interactive tables.';\n",
              "          element.innerHTML = '';\n",
              "          dataTable['output_type'] = 'display_data';\n",
              "          await google.colab.output.renderOutput(dataTable, element);\n",
              "          const docLink = document.createElement('div');\n",
              "          docLink.innerHTML = docLinkHtml;\n",
              "          element.appendChild(docLink);\n",
              "        }\n",
              "      </script>\n",
              "    </div>\n",
              "  </div>\n",
              "  "
            ]
          },
          "metadata": {},
          "execution_count": 9
        }
      ]
    },
    {
      "cell_type": "markdown",
      "source": [
        "- from this describe we note that, mean not equal zero and sandard deivation not equal 1 .so we will this problem with applying `Standardization`."
      ],
      "metadata": {
        "id": "v-LTjURS34J0"
      }
    },
    {
      "cell_type": "markdown",
      "source": [
        "### check duplication\n"
      ],
      "metadata": {
        "id": "APUHo1vB2fEQ"
      }
    },
    {
      "cell_type": "code",
      "source": [
        "#for train we find there is no duplicated rows\n",
        "duplicated= train_data[train_data.duplicated()]\n",
        "duplicated\n"
      ],
      "metadata": {
        "colab": {
          "base_uri": "https://localhost:8080/",
          "height": 79
        },
        "id": "7OPG86Fmoj4_",
        "outputId": "bc43adba-003a-4b10-c7bb-816d9681cedc"
      },
      "execution_count": null,
      "outputs": [
        {
          "output_type": "execute_result",
          "data": {
            "text/plain": [
              "Empty DataFrame\n",
              "Columns: [gender, idg, condtn, wave, round, position, positin1, order, partner, pid, match, int_corr, samerace, age_o, race_o, pf_o_att, pf_o_sin, pf_o_int, pf_o_fun, pf_o_amb, pf_o_sha, attr_o, sinc_o, intel_o, fun_o, amb_o, shar_o, like_o, prob_o, met_o, age, field, field_cd, undergra, mn_sat, tuition, race, imprace, imprelig, from, zipcode, income, goal, date, go_out, career, career_c, sports, tvsports, exercise, dining, museums, art, hiking, gaming, clubbing, reading, tv, theater, movies, concerts, music, shopping, yoga, exphappy, expnum, attr1_1, sinc1_1, intel1_1, fun1_1, amb1_1, shar1_1, attr4_1, sinc4_1, intel4_1, fun4_1, amb4_1, shar4_1, attr2_1, sinc2_1, intel2_1, fun2_1, amb2_1, shar2_1, attr3_1, sinc3_1, fun3_1, intel3_1, amb3_1, attr5_1, sinc5_1, intel5_1, fun5_1, amb5_1, attr, sinc, intel, fun, amb, shar, ...]\n",
              "Index: []\n",
              "\n",
              "[0 rows x 192 columns]"
            ],
            "text/html": [
              "\n",
              "  <div id=\"df-2a426dbb-323e-4212-a72b-2ce742ee7578\">\n",
              "    <div class=\"colab-df-container\">\n",
              "      <div>\n",
              "<style scoped>\n",
              "    .dataframe tbody tr th:only-of-type {\n",
              "        vertical-align: middle;\n",
              "    }\n",
              "\n",
              "    .dataframe tbody tr th {\n",
              "        vertical-align: top;\n",
              "    }\n",
              "\n",
              "    .dataframe thead th {\n",
              "        text-align: right;\n",
              "    }\n",
              "</style>\n",
              "<table border=\"1\" class=\"dataframe\">\n",
              "  <thead>\n",
              "    <tr style=\"text-align: right;\">\n",
              "      <th></th>\n",
              "      <th>gender</th>\n",
              "      <th>idg</th>\n",
              "      <th>condtn</th>\n",
              "      <th>wave</th>\n",
              "      <th>round</th>\n",
              "      <th>position</th>\n",
              "      <th>positin1</th>\n",
              "      <th>order</th>\n",
              "      <th>partner</th>\n",
              "      <th>pid</th>\n",
              "      <th>...</th>\n",
              "      <th>sinc3_3</th>\n",
              "      <th>intel3_3</th>\n",
              "      <th>fun3_3</th>\n",
              "      <th>amb3_3</th>\n",
              "      <th>attr5_3</th>\n",
              "      <th>sinc5_3</th>\n",
              "      <th>intel5_3</th>\n",
              "      <th>fun5_3</th>\n",
              "      <th>amb5_3</th>\n",
              "      <th>id</th>\n",
              "    </tr>\n",
              "  </thead>\n",
              "  <tbody>\n",
              "  </tbody>\n",
              "</table>\n",
              "<p>0 rows × 192 columns</p>\n",
              "</div>\n",
              "      <button class=\"colab-df-convert\" onclick=\"convertToInteractive('df-2a426dbb-323e-4212-a72b-2ce742ee7578')\"\n",
              "              title=\"Convert this dataframe to an interactive table.\"\n",
              "              style=\"display:none;\">\n",
              "        \n",
              "  <svg xmlns=\"http://www.w3.org/2000/svg\" height=\"24px\"viewBox=\"0 0 24 24\"\n",
              "       width=\"24px\">\n",
              "    <path d=\"M0 0h24v24H0V0z\" fill=\"none\"/>\n",
              "    <path d=\"M18.56 5.44l.94 2.06.94-2.06 2.06-.94-2.06-.94-.94-2.06-.94 2.06-2.06.94zm-11 1L8.5 8.5l.94-2.06 2.06-.94-2.06-.94L8.5 2.5l-.94 2.06-2.06.94zm10 10l.94 2.06.94-2.06 2.06-.94-2.06-.94-.94-2.06-.94 2.06-2.06.94z\"/><path d=\"M17.41 7.96l-1.37-1.37c-.4-.4-.92-.59-1.43-.59-.52 0-1.04.2-1.43.59L10.3 9.45l-7.72 7.72c-.78.78-.78 2.05 0 2.83L4 21.41c.39.39.9.59 1.41.59.51 0 1.02-.2 1.41-.59l7.78-7.78 2.81-2.81c.8-.78.8-2.07 0-2.86zM5.41 20L4 18.59l7.72-7.72 1.47 1.35L5.41 20z\"/>\n",
              "  </svg>\n",
              "      </button>\n",
              "      \n",
              "  <style>\n",
              "    .colab-df-container {\n",
              "      display:flex;\n",
              "      flex-wrap:wrap;\n",
              "      gap: 12px;\n",
              "    }\n",
              "\n",
              "    .colab-df-convert {\n",
              "      background-color: #E8F0FE;\n",
              "      border: none;\n",
              "      border-radius: 50%;\n",
              "      cursor: pointer;\n",
              "      display: none;\n",
              "      fill: #1967D2;\n",
              "      height: 32px;\n",
              "      padding: 0 0 0 0;\n",
              "      width: 32px;\n",
              "    }\n",
              "\n",
              "    .colab-df-convert:hover {\n",
              "      background-color: #E2EBFA;\n",
              "      box-shadow: 0px 1px 2px rgba(60, 64, 67, 0.3), 0px 1px 3px 1px rgba(60, 64, 67, 0.15);\n",
              "      fill: #174EA6;\n",
              "    }\n",
              "\n",
              "    [theme=dark] .colab-df-convert {\n",
              "      background-color: #3B4455;\n",
              "      fill: #D2E3FC;\n",
              "    }\n",
              "\n",
              "    [theme=dark] .colab-df-convert:hover {\n",
              "      background-color: #434B5C;\n",
              "      box-shadow: 0px 1px 3px 1px rgba(0, 0, 0, 0.15);\n",
              "      filter: drop-shadow(0px 1px 2px rgba(0, 0, 0, 0.3));\n",
              "      fill: #FFFFFF;\n",
              "    }\n",
              "  </style>\n",
              "\n",
              "      <script>\n",
              "        const buttonEl =\n",
              "          document.querySelector('#df-2a426dbb-323e-4212-a72b-2ce742ee7578 button.colab-df-convert');\n",
              "        buttonEl.style.display =\n",
              "          google.colab.kernel.accessAllowed ? 'block' : 'none';\n",
              "\n",
              "        async function convertToInteractive(key) {\n",
              "          const element = document.querySelector('#df-2a426dbb-323e-4212-a72b-2ce742ee7578');\n",
              "          const dataTable =\n",
              "            await google.colab.kernel.invokeFunction('convertToInteractive',\n",
              "                                                     [key], {});\n",
              "          if (!dataTable) return;\n",
              "\n",
              "          const docLinkHtml = 'Like what you see? Visit the ' +\n",
              "            '<a target=\"_blank\" href=https://colab.research.google.com/notebooks/data_table.ipynb>data table notebook</a>'\n",
              "            + ' to learn more about interactive tables.';\n",
              "          element.innerHTML = '';\n",
              "          dataTable['output_type'] = 'display_data';\n",
              "          await google.colab.output.renderOutput(dataTable, element);\n",
              "          const docLink = document.createElement('div');\n",
              "          docLink.innerHTML = docLinkHtml;\n",
              "          element.appendChild(docLink);\n",
              "        }\n",
              "      </script>\n",
              "    </div>\n",
              "  </div>\n",
              "  "
            ]
          },
          "metadata": {},
          "execution_count": 10
        }
      ]
    },
    {
      "cell_type": "markdown",
      "source": [
        "### check Null"
      ],
      "metadata": {
        "id": "T-pZv7O22ljQ"
      }
    },
    {
      "cell_type": "code",
      "source": [
        "#check the null cells in train data\n",
        "train_data.isnull().sum()"
      ],
      "metadata": {
        "colab": {
          "base_uri": "https://localhost:8080/"
        },
        "id": "NYs0-3yS12Pw",
        "outputId": "1eb1ff70-3917-4641-80e5-277ed2bdd168"
      },
      "execution_count": null,
      "outputs": [
        {
          "output_type": "execute_result",
          "data": {
            "text/plain": [
              "gender         0\n",
              "idg            0\n",
              "condtn         0\n",
              "wave           0\n",
              "round          0\n",
              "            ... \n",
              "sinc5_3     4496\n",
              "intel5_3    4496\n",
              "fun5_3      4496\n",
              "amb5_3      4496\n",
              "id             0\n",
              "Length: 192, dtype: int64"
            ]
          },
          "metadata": {},
          "execution_count": 11
        }
      ]
    },
    {
      "cell_type": "code",
      "source": [
        "# anything missing?\n",
        "total=train_data[:20].isnull().sum().sort_values(ascending=False)\n",
        "total"
      ],
      "metadata": {
        "colab": {
          "base_uri": "https://localhost:8080/"
        },
        "id": "0q1xALPZb2sc",
        "outputId": "a28e349e-1479-49b7-bb6c-43f8042f3d3f"
      },
      "execution_count": null,
      "outputs": [
        {
          "output_type": "execute_result",
          "data": {
            "text/plain": [
              "num_in_3    19\n",
              "numdat_3    18\n",
              "intel7_2    17\n",
              "fun7_2      17\n",
              "shar7_3     17\n",
              "            ..\n",
              "yoga         0\n",
              "exphappy     0\n",
              "attr1_1      0\n",
              "sinc1_1      0\n",
              "id           0\n",
              "Length: 192, dtype: int64"
            ]
          },
          "metadata": {},
          "execution_count": 12
        }
      ]
    },
    {
      "cell_type": "code",
      "source": [
        "# anything missing?\n",
        "total=train_data[:20:50].isnull().sum().sort_values(ascending=False)\n",
        "total"
      ],
      "metadata": {
        "colab": {
          "base_uri": "https://localhost:8080/"
        },
        "id": "ZtYQLQow0Vph",
        "outputId": "a24fd8f9-414f-4e46-9bfa-5dd977a47d50"
      },
      "execution_count": null,
      "outputs": [
        {
          "output_type": "execute_result",
          "data": {
            "text/plain": [
              "shar        1\n",
              "fun1_s      1\n",
              "fun1_3      1\n",
              "intel1_3    1\n",
              "attr1_3     1\n",
              "           ..\n",
              "intel1_1    0\n",
              "fun1_1      0\n",
              "amb1_1      0\n",
              "shar1_1     0\n",
              "id          0\n",
              "Length: 192, dtype: int64"
            ]
          },
          "metadata": {},
          "execution_count": 13
        }
      ]
    },
    {
      "cell_type": "code",
      "source": [
        "# missing values percentage per-column\n",
        "percent = (train_data.isnull().sum()/train_data.isnull().count()).sort_values(ascending=False)\n",
        "percent"
      ],
      "metadata": {
        "colab": {
          "base_uri": "https://localhost:8080/"
        },
        "id": "_DgYOk1xeW05",
        "outputId": "8c174245-1e43-4c34-d306-c08ef5554e11"
      },
      "execution_count": null,
      "outputs": [
        {
          "output_type": "execute_result",
          "data": {
            "text/plain": [
              "num_in_3    0.922153\n",
              "numdat_3    0.820613\n",
              "expnum      0.783043\n",
              "amb7_2      0.764766\n",
              "sinc7_2     0.764766\n",
              "              ...   \n",
              "position    0.000000\n",
              "round       0.000000\n",
              "wave        0.000000\n",
              "condtn      0.000000\n",
              "id          0.000000\n",
              "Length: 192, dtype: float64"
            ]
          },
          "metadata": {},
          "execution_count": 14
        }
      ]
    },
    {
      "cell_type": "code",
      "source": [
        "missing_data = pd.concat([total, percent], axis=1, keys=['Total', 'Percent'])\n",
        "f, ax = plt.subplots(figsize=(15, 6))\n",
        "plt.xticks(rotation='horizontal')\n",
        "sns.barplot(x=missing_data.index, y=missing_data['Percent'])\n",
        "plt.xlabel('df_cont', fontsize=15)\n",
        "plt.ylabel('Percent of missing values', fontsize=15)\n",
        "plt.title('Percent missing data by feature', fontsize=15)\n",
        "missing_data"
      ],
      "metadata": {
        "colab": {
          "base_uri": "https://localhost:8080/",
          "height": 980
        },
        "id": "Y_DtV3D_bP8y",
        "outputId": "47753a7e-f320-4163-f4fe-d1ec085c893f"
      },
      "execution_count": null,
      "outputs": [
        {
          "output_type": "execute_result",
          "data": {
            "text/plain": [
              "          Total   Percent\n",
              "shar          1  0.128956\n",
              "fun1_s        1  0.506685\n",
              "fun1_3        1  0.525470\n",
              "intel1_3      1  0.525470\n",
              "attr1_3       1  0.525470\n",
              "...         ...       ...\n",
              "intel1_1      0  0.009816\n",
              "fun1_1        0  0.011000\n",
              "amb1_1        0  0.012016\n",
              "shar1_1       0  0.014893\n",
              "id            0  0.000000\n",
              "\n",
              "[192 rows x 2 columns]"
            ],
            "text/html": [
              "\n",
              "  <div id=\"df-4043ae63-e9db-4f57-9dcf-89ffe0c1568e\">\n",
              "    <div class=\"colab-df-container\">\n",
              "      <div>\n",
              "<style scoped>\n",
              "    .dataframe tbody tr th:only-of-type {\n",
              "        vertical-align: middle;\n",
              "    }\n",
              "\n",
              "    .dataframe tbody tr th {\n",
              "        vertical-align: top;\n",
              "    }\n",
              "\n",
              "    .dataframe thead th {\n",
              "        text-align: right;\n",
              "    }\n",
              "</style>\n",
              "<table border=\"1\" class=\"dataframe\">\n",
              "  <thead>\n",
              "    <tr style=\"text-align: right;\">\n",
              "      <th></th>\n",
              "      <th>Total</th>\n",
              "      <th>Percent</th>\n",
              "    </tr>\n",
              "  </thead>\n",
              "  <tbody>\n",
              "    <tr>\n",
              "      <th>shar</th>\n",
              "      <td>1</td>\n",
              "      <td>0.128956</td>\n",
              "    </tr>\n",
              "    <tr>\n",
              "      <th>fun1_s</th>\n",
              "      <td>1</td>\n",
              "      <td>0.506685</td>\n",
              "    </tr>\n",
              "    <tr>\n",
              "      <th>fun1_3</th>\n",
              "      <td>1</td>\n",
              "      <td>0.525470</td>\n",
              "    </tr>\n",
              "    <tr>\n",
              "      <th>intel1_3</th>\n",
              "      <td>1</td>\n",
              "      <td>0.525470</td>\n",
              "    </tr>\n",
              "    <tr>\n",
              "      <th>attr1_3</th>\n",
              "      <td>1</td>\n",
              "      <td>0.525470</td>\n",
              "    </tr>\n",
              "    <tr>\n",
              "      <th>...</th>\n",
              "      <td>...</td>\n",
              "      <td>...</td>\n",
              "    </tr>\n",
              "    <tr>\n",
              "      <th>intel1_1</th>\n",
              "      <td>0</td>\n",
              "      <td>0.009816</td>\n",
              "    </tr>\n",
              "    <tr>\n",
              "      <th>fun1_1</th>\n",
              "      <td>0</td>\n",
              "      <td>0.011000</td>\n",
              "    </tr>\n",
              "    <tr>\n",
              "      <th>amb1_1</th>\n",
              "      <td>0</td>\n",
              "      <td>0.012016</td>\n",
              "    </tr>\n",
              "    <tr>\n",
              "      <th>shar1_1</th>\n",
              "      <td>0</td>\n",
              "      <td>0.014893</td>\n",
              "    </tr>\n",
              "    <tr>\n",
              "      <th>id</th>\n",
              "      <td>0</td>\n",
              "      <td>0.000000</td>\n",
              "    </tr>\n",
              "  </tbody>\n",
              "</table>\n",
              "<p>192 rows × 2 columns</p>\n",
              "</div>\n",
              "      <button class=\"colab-df-convert\" onclick=\"convertToInteractive('df-4043ae63-e9db-4f57-9dcf-89ffe0c1568e')\"\n",
              "              title=\"Convert this dataframe to an interactive table.\"\n",
              "              style=\"display:none;\">\n",
              "        \n",
              "  <svg xmlns=\"http://www.w3.org/2000/svg\" height=\"24px\"viewBox=\"0 0 24 24\"\n",
              "       width=\"24px\">\n",
              "    <path d=\"M0 0h24v24H0V0z\" fill=\"none\"/>\n",
              "    <path d=\"M18.56 5.44l.94 2.06.94-2.06 2.06-.94-2.06-.94-.94-2.06-.94 2.06-2.06.94zm-11 1L8.5 8.5l.94-2.06 2.06-.94-2.06-.94L8.5 2.5l-.94 2.06-2.06.94zm10 10l.94 2.06.94-2.06 2.06-.94-2.06-.94-.94-2.06-.94 2.06-2.06.94z\"/><path d=\"M17.41 7.96l-1.37-1.37c-.4-.4-.92-.59-1.43-.59-.52 0-1.04.2-1.43.59L10.3 9.45l-7.72 7.72c-.78.78-.78 2.05 0 2.83L4 21.41c.39.39.9.59 1.41.59.51 0 1.02-.2 1.41-.59l7.78-7.78 2.81-2.81c.8-.78.8-2.07 0-2.86zM5.41 20L4 18.59l7.72-7.72 1.47 1.35L5.41 20z\"/>\n",
              "  </svg>\n",
              "      </button>\n",
              "      \n",
              "  <style>\n",
              "    .colab-df-container {\n",
              "      display:flex;\n",
              "      flex-wrap:wrap;\n",
              "      gap: 12px;\n",
              "    }\n",
              "\n",
              "    .colab-df-convert {\n",
              "      background-color: #E8F0FE;\n",
              "      border: none;\n",
              "      border-radius: 50%;\n",
              "      cursor: pointer;\n",
              "      display: none;\n",
              "      fill: #1967D2;\n",
              "      height: 32px;\n",
              "      padding: 0 0 0 0;\n",
              "      width: 32px;\n",
              "    }\n",
              "\n",
              "    .colab-df-convert:hover {\n",
              "      background-color: #E2EBFA;\n",
              "      box-shadow: 0px 1px 2px rgba(60, 64, 67, 0.3), 0px 1px 3px 1px rgba(60, 64, 67, 0.15);\n",
              "      fill: #174EA6;\n",
              "    }\n",
              "\n",
              "    [theme=dark] .colab-df-convert {\n",
              "      background-color: #3B4455;\n",
              "      fill: #D2E3FC;\n",
              "    }\n",
              "\n",
              "    [theme=dark] .colab-df-convert:hover {\n",
              "      background-color: #434B5C;\n",
              "      box-shadow: 0px 1px 3px 1px rgba(0, 0, 0, 0.15);\n",
              "      filter: drop-shadow(0px 1px 2px rgba(0, 0, 0, 0.3));\n",
              "      fill: #FFFFFF;\n",
              "    }\n",
              "  </style>\n",
              "\n",
              "      <script>\n",
              "        const buttonEl =\n",
              "          document.querySelector('#df-4043ae63-e9db-4f57-9dcf-89ffe0c1568e button.colab-df-convert');\n",
              "        buttonEl.style.display =\n",
              "          google.colab.kernel.accessAllowed ? 'block' : 'none';\n",
              "\n",
              "        async function convertToInteractive(key) {\n",
              "          const element = document.querySelector('#df-4043ae63-e9db-4f57-9dcf-89ffe0c1568e');\n",
              "          const dataTable =\n",
              "            await google.colab.kernel.invokeFunction('convertToInteractive',\n",
              "                                                     [key], {});\n",
              "          if (!dataTable) return;\n",
              "\n",
              "          const docLinkHtml = 'Like what you see? Visit the ' +\n",
              "            '<a target=\"_blank\" href=https://colab.research.google.com/notebooks/data_table.ipynb>data table notebook</a>'\n",
              "            + ' to learn more about interactive tables.';\n",
              "          element.innerHTML = '';\n",
              "          dataTable['output_type'] = 'display_data';\n",
              "          await google.colab.output.renderOutput(dataTable, element);\n",
              "          const docLink = document.createElement('div');\n",
              "          docLink.innerHTML = docLinkHtml;\n",
              "          element.appendChild(docLink);\n",
              "        }\n",
              "      </script>\n",
              "    </div>\n",
              "  </div>\n",
              "  "
            ]
          },
          "metadata": {},
          "execution_count": 15
        },
        {
          "output_type": "display_data",
          "data": {
            "text/plain": [
              "<Figure size 1500x600 with 1 Axes>"
            ],
            "image/png": "[encoded data removed]"
          },
          "metadata": {}
        }
      ]
    },
    {
      "cell_type": "code",
      "source": [
        "train_data.info()"
      ],
      "metadata": {
        "colab": {
          "base_uri": "https://localhost:8080/"
        },
        "id": "UJSIipSretNp",
        "outputId": "0c58eee2-7033-4f8c-b533-8347059c32e1"
      },
      "execution_count": null,
      "outputs": [
        {
          "output_type": "stream",
          "name": "stdout",
          "text": [
            "<class 'pandas.core.frame.DataFrame'>\n",
            "RangeIndex: 5909 entries, 0 to 5908\n",
            "Columns: 192 entries, gender to id\n",
            "dtypes: float64(173), int64(11), object(8)\n",
            "memory usage: 8.7+ MB\n"
          ]
        }
      ]
    },
    {
      "cell_type": "markdown",
      "source": [
        "### check unique data"
      ],
      "metadata": {
        "id": "CVNn49l_2wc4"
      }
    },
    {
      "cell_type": "code",
      "source": [
        "def check_unique(df):\n",
        "  ls=[]\n",
        "  for col in df.columns:\n",
        "    n=df[col].nunique()\n",
        "    if n==1: ls.append(col)\n",
        "    elif  n>100 and df[col].dtypes == object:\n",
        "      ls.append(col)\n",
        "  return ls"
      ],
      "metadata": {
        "id": "1BN2mYPt2wE4"
      },
      "execution_count": null,
      "outputs": []
    },
    {
      "cell_type": "code",
      "source": [
        "#for train \n",
        "drop_column=check_unique(train_data)\n",
        "drop_column\n"
      ],
      "metadata": {
        "colab": {
          "base_uri": "https://localhost:8080/"
        },
        "id": "2n2KmyWn4Mlh",
        "outputId": "c5b4e7ed-7830-4c61-8b8e-c8837390f22c"
      },
      "execution_count": null,
      "outputs": [
        {
          "output_type": "execute_result",
          "data": {
            "text/plain": [
              "['field', 'undergra', 'tuition', 'from', 'zipcode', 'income', 'career']"
            ]
          },
          "metadata": {},
          "execution_count": 19
        }
      ]
    },
    {
      "cell_type": "code",
      "source": [
        "# make a a list of different columns which we see useless\n",
        "dropped=['mn_sat','tuition','zipcode','undergra','expnum','attr1_s','sinc1_s','intel1_s','fun1_s',\n",
        "         'amb1_s','shar1_s','attr3_s','sinc3_s','intel3_s','fun3_s','amb3_s','attr7_2','sinc7_2',\n",
        "         'intel7_2','fun7_2','amb7_2','shar7_2','them_cal','date_3','numdat_3','num_in_3','attr1_3',\n",
        "         'sinc1_3','intel1_3','fun1_3','amb1_3','shar1_3','attr7_3','sinc7_3','intel7_3','fun7_3',\n",
        "         'amb7_3','shar7_3','attr4_3','sinc4_3','intel4_3','fun4_3','amb4_3','shar4_3','attr2_3',\n",
        "         'sinc2_3','intel2_3','fun2_3','amb2_3','shar2_3','attr3_3','sinc3_3','intel3_3','fun3_3',\n",
        "         'amb3_3','attr5_3','sinc5_3','intel5_3','fun5_3','amb5_3']\n",
        "train_data.drop(dropped, axis=1, inplace=True)"
      ],
      "metadata": {
        "id": "1hIDTWc9elpE"
      },
      "execution_count": null,
      "outputs": []
    },
    {
      "cell_type": "code",
      "source": [
        "#drop the target column\n",
        "train_data.drop('match', axis=1, inplace=True)"
      ],
      "metadata": {
        "id": "I9vFNd1zj9xg"
      },
      "execution_count": null,
      "outputs": []
    },
    {
      "cell_type": "code",
      "source": [
        "percent = (train_data.isnull().sum()/train_data.isnull().count()).sort_values(ascending=False)\n",
        "percent"
      ],
      "metadata": {
        "colab": {
          "base_uri": "https://localhost:8080/"
        },
        "id": "-E19W6AqfRg5",
        "outputId": "795dda39-9fbe-42d9-a372-9d6969b0310a"
      },
      "execution_count": null,
      "outputs": [
        {
          "output_type": "execute_result",
          "data": {
            "text/plain": [
              "you_call    0.525470\n",
              "income      0.484346\n",
              "amb5_2      0.477407\n",
              "fun5_2      0.477407\n",
              "intel5_2    0.477407\n",
              "              ...   \n",
              "position    0.000000\n",
              "round       0.000000\n",
              "wave        0.000000\n",
              "condtn      0.000000\n",
              "id          0.000000\n",
              "Length: 131, dtype: float64"
            ]
          },
          "metadata": {},
          "execution_count": 22
        }
      ]
    },
    {
      "cell_type": "code",
      "source": [
        "train_data.drop(['you_call','amb5_2','fun5_2','intel5_2'], axis=1, inplace=True)"
      ],
      "metadata": {
        "id": "6wtCiM80fW6g"
      },
      "execution_count": null,
      "outputs": []
    },
    {
      "cell_type": "code",
      "source": [
        "percent = (train_data.isnull().sum()/train_data.isnull().count()).sort_values(ascending=False)\n",
        "percent"
      ],
      "metadata": {
        "colab": {
          "base_uri": "https://localhost:8080/"
        },
        "id": "M8uRjI4wf4fZ",
        "outputId": "733c44fa-a1b0-4dbe-e6ef-ec018cb93ebb"
      },
      "execution_count": null,
      "outputs": [
        {
          "output_type": "execute_result",
          "data": {
            "text/plain": [
              "income      0.484346\n",
              "sinc5_2     0.477407\n",
              "attr5_2     0.477407\n",
              "amb5_1      0.414960\n",
              "fun5_1      0.414960\n",
              "              ...   \n",
              "position    0.000000\n",
              "round       0.000000\n",
              "wave        0.000000\n",
              "condtn      0.000000\n",
              "id          0.000000\n",
              "Length: 127, dtype: float64"
            ]
          },
          "metadata": {},
          "execution_count": 24
        }
      ]
    },
    {
      "cell_type": "code",
      "source": [
        "# show the head of datato understand it well \n",
        "train_data.head()"
      ],
      "metadata": {
        "colab": {
          "base_uri": "https://localhost:8080/",
          "height": 236
        },
        "id": "z-Tl-snHiger",
        "outputId": "5f0248a2-56af-4648-fa34-51d9f2fe4708"
      },
      "execution_count": null,
      "outputs": [
        {
          "output_type": "execute_result",
          "data": {
            "text/plain": [
              "   gender  idg  condtn  wave  round  position  positin1  order  partner  \\\n",
              "0       0    3       2    14     18         2       2.0     14       12   \n",
              "1       1   14       1     3     10         2       NaN      8        8   \n",
              "2       1   14       1    13     10         8       8.0     10       10   \n",
              "3       1   38       2     9     20        18      13.0      6        7   \n",
              "4       1   24       2    14     20         6       6.0     20       17   \n",
              "\n",
              "     pid  ...  amb2_2  shar2_2  attr3_2  sinc3_2  intel3_2  fun3_2  amb3_2  \\\n",
              "0  372.0  ...    0.00     0.00     10.0     10.0      10.0     9.0    10.0   \n",
              "1   63.0  ...     NaN      NaN      6.0      7.0       7.0     7.0     8.0   \n",
              "2  331.0  ...   15.00    10.00      7.0      9.0       9.0     8.0    10.0   \n",
              "3  200.0  ...   17.02    12.77      8.0      9.0       8.0     8.0     7.0   \n",
              "4  357.0  ...   20.00    10.00      7.0      8.0       9.0     9.0     8.0   \n",
              "\n",
              "   attr5_2  sinc5_2    id  \n",
              "0     10.0      9.0  2583  \n",
              "1      NaN      NaN  6830  \n",
              "2      7.0      9.0  4840  \n",
              "3      NaN      NaN  5508  \n",
              "4      7.0      7.0  4828  \n",
              "\n",
              "[5 rows x 127 columns]"
            ],
            "text/html": [
              "\n",
              "  <div id=\"df-d6ba8427-2e15-48fe-98a5-80e69388511f\">\n",
              "    <div class=\"colab-df-container\">\n",
              "      <div>\n",
              "<style scoped>\n",
              "    .dataframe tbody tr th:only-of-type {\n",
              "        vertical-align: middle;\n",
              "    }\n",
              "\n",
              "    .dataframe tbody tr th {\n",
              "        vertical-align: top;\n",
              "    }\n",
              "\n",
              "    .dataframe thead th {\n",
              "        text-align: right;\n",
              "    }\n",
              "</style>\n",
              "<table border=\"1\" class=\"dataframe\">\n",
              "  <thead>\n",
              "    <tr style=\"text-align: right;\">\n",
              "      <th></th>\n",
              "      <th>gender</th>\n",
              "      <th>idg</th>\n",
              "      <th>condtn</th>\n",
              "      <th>wave</th>\n",
              "      <th>round</th>\n",
              "      <th>position</th>\n",
              "      <th>positin1</th>\n",
              "      <th>order</th>\n",
              "      <th>partner</th>\n",
              "      <th>pid</th>\n",
              "      <th>...</th>\n",
              "      <th>amb2_2</th>\n",
              "      <th>shar2_2</th>\n",
              "      <th>attr3_2</th>\n",
              "      <th>sinc3_2</th>\n",
              "      <th>intel3_2</th>\n",
              "      <th>fun3_2</th>\n",
              "      <th>amb3_2</th>\n",
              "      <th>attr5_2</th>\n",
              "      <th>sinc5_2</th>\n",
              "      <th>id</th>\n",
              "    </tr>\n",
              "  </thead>\n",
              "  <tbody>\n",
              "    <tr>\n",
              "      <th>0</th>\n",
              "      <td>0</td>\n",
              "      <td>3</td>\n",
              "      <td>2</td>\n",
              "      <td>14</td>\n",
              "      <td>18</td>\n",
              "      <td>2</td>\n",
              "      <td>2.0</td>\n",
              "      <td>14</td>\n",
              "      <td>12</td>\n",
              "      <td>372.0</td>\n",
              "      <td>...</td>\n",
              "      <td>0.00</td>\n",
              "      <td>0.00</td>\n",
              "      <td>10.0</td>\n",
              "      <td>10.0</td>\n",
              "      <td>10.0</td>\n",
              "      <td>9.0</td>\n",
              "      <td>10.0</td>\n",
              "      <td>10.0</td>\n",
              "      <td>9.0</td>\n",
              "      <td>2583</td>\n",
              "    </tr>\n",
              "    <tr>\n",
              "      <th>1</th>\n",
              "      <td>1</td>\n",
              "      <td>14</td>\n",
              "      <td>1</td>\n",
              "      <td>3</td>\n",
              "      <td>10</td>\n",
              "      <td>2</td>\n",
              "      <td>NaN</td>\n",
              "      <td>8</td>\n",
              "      <td>8</td>\n",
              "      <td>63.0</td>\n",
              "      <td>...</td>\n",
              "      <td>NaN</td>\n",
              "      <td>NaN</td>\n",
              "      <td>6.0</td>\n",
              "      <td>7.0</td>\n",
              "      <td>7.0</td>\n",
              "      <td>7.0</td>\n",
              "      <td>8.0</td>\n",
              "      <td>NaN</td>\n",
              "      <td>NaN</td>\n",
              "      <td>6830</td>\n",
              "    </tr>\n",
              "    <tr>\n",
              "      <th>2</th>\n",
              "      <td>1</td>\n",
              "      <td>14</td>\n",
              "      <td>1</td>\n",
              "      <td>13</td>\n",
              "      <td>10</td>\n",
              "      <td>8</td>\n",
              "      <td>8.0</td>\n",
              "      <td>10</td>\n",
              "      <td>10</td>\n",
              "      <td>331.0</td>\n",
              "      <td>...</td>\n",
              "      <td>15.00</td>\n",
              "      <td>10.00</td>\n",
              "      <td>7.0</td>\n",
              "      <td>9.0</td>\n",
              "      <td>9.0</td>\n",
              "      <td>8.0</td>\n",
              "      <td>10.0</td>\n",
              "      <td>7.0</td>\n",
              "      <td>9.0</td>\n",
              "      <td>4840</td>\n",
              "    </tr>\n",
              "    <tr>\n",
              "      <th>3</th>\n",
              "      <td>1</td>\n",
              "      <td>38</td>\n",
              "      <td>2</td>\n",
              "      <td>9</td>\n",
              "      <td>20</td>\n",
              "      <td>18</td>\n",
              "      <td>13.0</td>\n",
              "      <td>6</td>\n",
              "      <td>7</td>\n",
              "      <td>200.0</td>\n",
              "      <td>...</td>\n",
              "      <td>17.02</td>\n",
              "      <td>12.77</td>\n",
              "      <td>8.0</td>\n",
              "      <td>9.0</td>\n",
              "      <td>8.0</td>\n",
              "      <td>8.0</td>\n",
              "      <td>7.0</td>\n",
              "      <td>NaN</td>\n",
              "      <td>NaN</td>\n",
              "      <td>5508</td>\n",
              "    </tr>\n",
              "    <tr>\n",
              "      <th>4</th>\n",
              "      <td>1</td>\n",
              "      <td>24</td>\n",
              "      <td>2</td>\n",
              "      <td>14</td>\n",
              "      <td>20</td>\n",
              "      <td>6</td>\n",
              "      <td>6.0</td>\n",
              "      <td>20</td>\n",
              "      <td>17</td>\n",
              "      <td>357.0</td>\n",
              "      <td>...</td>\n",
              "      <td>20.00</td>\n",
              "      <td>10.00</td>\n",
              "      <td>7.0</td>\n",
              "      <td>8.0</td>\n",
              "      <td>9.0</td>\n",
              "      <td>9.0</td>\n",
              "      <td>8.0</td>\n",
              "      <td>7.0</td>\n",
              "      <td>7.0</td>\n",
              "      <td>4828</td>\n",
              "    </tr>\n",
              "  </tbody>\n",
              "</table>\n",
              "<p>5 rows × 127 columns</p>\n",
              "</div>\n",
              "      <button class=\"colab-df-convert\" onclick=\"convertToInteractive('df-d6ba8427-2e15-48fe-98a5-80e69388511f')\"\n",
              "              title=\"Convert this dataframe to an interactive table.\"\n",
              "              style=\"display:none;\">\n",
              "        \n",
              "  <svg xmlns=\"http://www.w3.org/2000/svg\" height=\"24px\"viewBox=\"0 0 24 24\"\n",
              "       width=\"24px\">\n",
              "    <path d=\"M0 0h24v24H0V0z\" fill=\"none\"/>\n",
              "    <path d=\"M18.56 5.44l.94 2.06.94-2.06 2.06-.94-2.06-.94-.94-2.06-.94 2.06-2.06.94zm-11 1L8.5 8.5l.94-2.06 2.06-.94-2.06-.94L8.5 2.5l-.94 2.06-2.06.94zm10 10l.94 2.06.94-2.06 2.06-.94-2.06-.94-.94-2.06-.94 2.06-2.06.94z\"/><path d=\"M17.41 7.96l-1.37-1.37c-.4-.4-.92-.59-1.43-.59-.52 0-1.04.2-1.43.59L10.3 9.45l-7.72 7.72c-.78.78-.78 2.05 0 2.83L4 21.41c.39.39.9.59 1.41.59.51 0 1.02-.2 1.41-.59l7.78-7.78 2.81-2.81c.8-.78.8-2.07 0-2.86zM5.41 20L4 18.59l7.72-7.72 1.47 1.35L5.41 20z\"/>\n",
              "  </svg>\n",
              "      </button>\n",
              "      \n",
              "  <style>\n",
              "    .colab-df-container {\n",
              "      display:flex;\n",
              "      flex-wrap:wrap;\n",
              "      gap: 12px;\n",
              "    }\n",
              "\n",
              "    .colab-df-convert {\n",
              "      background-color: #E8F0FE;\n",
              "      border: none;\n",
              "      border-radius: 50%;\n",
              "      cursor: pointer;\n",
              "      display: none;\n",
              "      fill: #1967D2;\n",
              "      height: 32px;\n",
              "      padding: 0 0 0 0;\n",
              "      width: 32px;\n",
              "    }\n",
              "\n",
              "    .colab-df-convert:hover {\n",
              "      background-color: #E2EBFA;\n",
              "      box-shadow: 0px 1px 2px rgba(60, 64, 67, 0.3), 0px 1px 3px 1px rgba(60, 64, 67, 0.15);\n",
              "      fill: #174EA6;\n",
              "    }\n",
              "\n",
              "    [theme=dark] .colab-df-convert {\n",
              "      background-color: #3B4455;\n",
              "      fill: #D2E3FC;\n",
              "    }\n",
              "\n",
              "    [theme=dark] .colab-df-convert:hover {\n",
              "      background-color: #434B5C;\n",
              "      box-shadow: 0px 1px 3px 1px rgba(0, 0, 0, 0.15);\n",
              "      filter: drop-shadow(0px 1px 2px rgba(0, 0, 0, 0.3));\n",
              "      fill: #FFFFFF;\n",
              "    }\n",
              "  </style>\n",
              "\n",
              "      <script>\n",
              "        const buttonEl =\n",
              "          document.querySelector('#df-d6ba8427-2e15-48fe-98a5-80e69388511f button.colab-df-convert');\n",
              "        buttonEl.style.display =\n",
              "          google.colab.kernel.accessAllowed ? 'block' : 'none';\n",
              "\n",
              "        async function convertToInteractive(key) {\n",
              "          const element = document.querySelector('#df-d6ba8427-2e15-48fe-98a5-80e69388511f');\n",
              "          const dataTable =\n",
              "            await google.colab.kernel.invokeFunction('convertToInteractive',\n",
              "                                                     [key], {});\n",
              "          if (!dataTable) return;\n",
              "\n",
              "          const docLinkHtml = 'Like what you see? Visit the ' +\n",
              "            '<a target=\"_blank\" href=https://colab.research.google.com/notebooks/data_table.ipynb>data table notebook</a>'\n",
              "            + ' to learn more about interactive tables.';\n",
              "          element.innerHTML = '';\n",
              "          dataTable['output_type'] = 'display_data';\n",
              "          await google.colab.output.renderOutput(dataTable, element);\n",
              "          const docLink = document.createElement('div');\n",
              "          docLink.innerHTML = docLinkHtml;\n",
              "          element.appendChild(docLink);\n",
              "        }\n",
              "      </script>\n",
              "    </div>\n",
              "  </div>\n",
              "  "
            ]
          },
          "metadata": {},
          "execution_count": 25
        }
      ]
    },
    {
      "cell_type": "code",
      "source": [
        "#check the shape\n",
        "train_data.shape"
      ],
      "metadata": {
        "colab": {
          "base_uri": "https://localhost:8080/"
        },
        "id": "w7MYyzSGiaGz",
        "outputId": "8eecd758-1914-475d-ff92-2fb76ba02dff"
      },
      "execution_count": null,
      "outputs": [
        {
          "output_type": "execute_result",
          "data": {
            "text/plain": [
              "(5909, 127)"
            ]
          },
          "metadata": {},
          "execution_count": 26
        }
      ]
    },
    {
      "cell_type": "markdown",
      "source": [
        "## Data cleaning 🧹"
      ],
      "metadata": {
        "id": "IClUl8PGrxqF"
      }
    },
    {
      "cell_type": "code",
      "source": [
        "# check the correlation between all features to benefits of it if there is any high correlation between features\n",
        "corr = train_data.corr()\n",
        "corr"
      ],
      "metadata": {
        "colab": {
          "base_uri": "https://localhost:8080/",
          "height": 488
        },
        "id": "kMBF7_66sCCd",
        "outputId": "5d983879-4ebb-46c5-ac24-153a92d5c5b8"
      },
      "execution_count": null,
      "outputs": [
        {
          "output_type": "execute_result",
          "data": {
            "text/plain": [
              "           gender       idg    condtn      wave     round  position  positin1  \\\n",
              "gender   1.000000  0.032132 -0.000875 -0.004192  0.017755 -0.004047  0.000410   \n",
              "idg      0.032132  1.000000  0.330587  0.093823  0.391918  0.164705  0.174651   \n",
              "condtn  -0.000875  0.330587  1.000000  0.219735  0.820898  0.331013  0.306722   \n",
              "wave    -0.004192  0.093823  0.219735  1.000000  0.228917  0.079820  0.061166   \n",
              "round    0.017755  0.391918  0.820898  0.228917  1.000000  0.380632  0.368352   \n",
              "...           ...       ...       ...       ...       ...       ...       ...   \n",
              "fun3_2  -0.116650  0.008124  0.008403  0.070527  0.003904 -0.050530 -0.076781   \n",
              "amb3_2  -0.007924  0.039601  0.040339  0.091290  0.054940  0.077231 -0.001756   \n",
              "attr5_2 -0.001287 -0.021981 -0.000160 -0.048536  0.017414 -0.039660 -0.037168   \n",
              "sinc5_2 -0.178150 -0.061233 -0.042388 -0.072139 -0.069566 -0.063697 -0.138315   \n",
              "id       0.006340 -0.036693 -0.044675 -0.001863 -0.029700 -0.026828 -0.011816   \n",
              "\n",
              "            order   partner       pid  ...    amb2_2   shar2_2   attr3_2  \\\n",
              "gender   0.009850  0.010318 -0.056275  ...  0.363901 -0.169447 -0.083599   \n",
              "idg      0.161976  0.139034  0.088372  ... -0.039150  0.016351 -0.013440   \n",
              "condtn   0.331402  0.322467  0.218009  ... -0.035504  0.032716  0.011033   \n",
              "wave     0.093478  0.087904  0.996714  ... -0.310607 -0.231347  0.008712   \n",
              "round    0.397952  0.390320  0.218901  ... -0.070813  0.035671  0.036352   \n",
              "...           ...       ...       ...  ...       ...       ...       ...   \n",
              "fun3_2  -0.022651 -0.001706  0.077710  ... -0.074894 -0.077963  0.447901   \n",
              "amb3_2   0.016422  0.018675  0.090609  ... -0.039334 -0.079089  0.330028   \n",
              "attr5_2  0.011537 -0.005290 -0.052292  ... -0.099667  0.002513  0.849260   \n",
              "sinc5_2 -0.043010 -0.030502 -0.052526  ... -0.094171  0.024966  0.221485   \n",
              "id      -0.016321  0.006595 -0.002027  ... -0.007276  0.003793 -0.005457   \n",
              "\n",
              "          sinc3_2  intel3_2    fun3_2    amb3_2   attr5_2   sinc5_2        id  \n",
              "gender  -0.140321  0.095417 -0.116650 -0.007924 -0.001287 -0.178150  0.006340  \n",
              "idg      0.009154 -0.005050  0.008124  0.039601 -0.021981 -0.061233 -0.036693  \n",
              "condtn   0.043116  0.049328  0.008403  0.040339 -0.000160 -0.042388 -0.044675  \n",
              "wave     0.030243 -0.005593  0.070527  0.091290 -0.048536 -0.072139 -0.001863  \n",
              "round    0.012534  0.057628  0.003904  0.054940  0.017414 -0.069566 -0.029700  \n",
              "...           ...       ...       ...       ...       ...       ...       ...  \n",
              "fun3_2   0.286365  0.328200  1.000000  0.354353  0.417500  0.357390 -0.016433  \n",
              "amb3_2   0.220786  0.393804  0.354353  1.000000  0.195820  0.173968 -0.004165  \n",
              "attr5_2  0.213589  0.300626  0.417500  0.195820  1.000000  0.266563 -0.018410  \n",
              "sinc5_2  0.647121  0.378100  0.357390  0.173968  0.266563  1.000000  0.004089  \n",
              "id      -0.015575  0.006043 -0.016433 -0.004165 -0.018410  0.004089  1.000000  \n",
              "\n",
              "[123 rows x 123 columns]"
            ],
            "text/html": [
              "\n",
              "  <div id=\"df-e5afe15b-f252-44ff-9316-863593b6aa14\">\n",
              "    <div class=\"colab-df-container\">\n",
              "      <div>\n",
              "<style scoped>\n",
              "    .dataframe tbody tr th:only-of-type {\n",
              "        vertical-align: middle;\n",
              "    }\n",
              "\n",
              "    .dataframe tbody tr th {\n",
              "        vertical-align: top;\n",
              "    }\n",
              "\n",
              "    .dataframe thead th {\n",
              "        text-align: right;\n",
              "    }\n",
              "</style>\n",
              "<table border=\"1\" class=\"dataframe\">\n",
              "  <thead>\n",
              "    <tr style=\"text-align: right;\">\n",
              "      <th></th>\n",
              "      <th>gender</th>\n",
              "      <th>idg</th>\n",
              "      <th>condtn</th>\n",
              "      <th>wave</th>\n",
              "      <th>round</th>\n",
              "      <th>position</th>\n",
              "      <th>positin1</th>\n",
              "      <th>order</th>\n",
              "      <th>partner</th>\n",
              "      <th>pid</th>\n",
              "      <th>...</th>\n",
              "      <th>amb2_2</th>\n",
              "      <th>shar2_2</th>\n",
              "      <th>attr3_2</th>\n",
              "      <th>sinc3_2</th>\n",
              "      <th>intel3_2</th>\n",
              "      <th>fun3_2</th>\n",
              "      <th>amb3_2</th>\n",
              "      <th>attr5_2</th>\n",
              "      <th>sinc5_2</th>\n",
              "      <th>id</th>\n",
              "    </tr>\n",
              "  </thead>\n",
              "  <tbody>\n",
              "    <tr>\n",
              "      <th>gender</th>\n",
              "      <td>1.000000</td>\n",
              "      <td>0.032132</td>\n",
              "      <td>-0.000875</td>\n",
              "      <td>-0.004192</td>\n",
              "      <td>0.017755</td>\n",
              "      <td>-0.004047</td>\n",
              "      <td>0.000410</td>\n",
              "      <td>0.009850</td>\n",
              "      <td>0.010318</td>\n",
              "      <td>-0.056275</td>\n",
              "      <td>...</td>\n",
              "      <td>0.363901</td>\n",
              "      <td>-0.169447</td>\n",
              "      <td>-0.083599</td>\n",
              "      <td>-0.140321</td>\n",
              "      <td>0.095417</td>\n",
              "      <td>-0.116650</td>\n",
              "      <td>-0.007924</td>\n",
              "      <td>-0.001287</td>\n",
              "      <td>-0.178150</td>\n",
              "      <td>0.006340</td>\n",
              "    </tr>\n",
              "    <tr>\n",
              "      <th>idg</th>\n",
              "      <td>0.032132</td>\n",
              "      <td>1.000000</td>\n",
              "      <td>0.330587</td>\n",
              "      <td>0.093823</td>\n",
              "      <td>0.391918</td>\n",
              "      <td>0.164705</td>\n",
              "      <td>0.174651</td>\n",
              "      <td>0.161976</td>\n",
              "      <td>0.139034</td>\n",
              "      <td>0.088372</td>\n",
              "      <td>...</td>\n",
              "      <td>-0.039150</td>\n",
              "      <td>0.016351</td>\n",
              "      <td>-0.013440</td>\n",
              "      <td>0.009154</td>\n",
              "      <td>-0.005050</td>\n",
              "      <td>0.008124</td>\n",
              "      <td>0.039601</td>\n",
              "      <td>-0.021981</td>\n",
              "      <td>-0.061233</td>\n",
              "      <td>-0.036693</td>\n",
              "    </tr>\n",
              "    <tr>\n",
              "      <th>condtn</th>\n",
              "      <td>-0.000875</td>\n",
              "      <td>0.330587</td>\n",
              "      <td>1.000000</td>\n",
              "      <td>0.219735</td>\n",
              "      <td>0.820898</td>\n",
              "      <td>0.331013</td>\n",
              "      <td>0.306722</td>\n",
              "      <td>0.331402</td>\n",
              "      <td>0.322467</td>\n",
              "      <td>0.218009</td>\n",
              "      <td>...</td>\n",
              "      <td>-0.035504</td>\n",
              "      <td>0.032716</td>\n",
              "      <td>0.011033</td>\n",
              "      <td>0.043116</td>\n",
              "      <td>0.049328</td>\n",
              "      <td>0.008403</td>\n",
              "      <td>0.040339</td>\n",
              "      <td>-0.000160</td>\n",
              "      <td>-0.042388</td>\n",
              "      <td>-0.044675</td>\n",
              "    </tr>\n",
              "    <tr>\n",
              "      <th>wave</th>\n",
              "      <td>-0.004192</td>\n",
              "      <td>0.093823</td>\n",
              "      <td>0.219735</td>\n",
              "      <td>1.000000</td>\n",
              "      <td>0.228917</td>\n",
              "      <td>0.079820</td>\n",
              "      <td>0.061166</td>\n",
              "      <td>0.093478</td>\n",
              "      <td>0.087904</td>\n",
              "      <td>0.996714</td>\n",
              "      <td>...</td>\n",
              "      <td>-0.310607</td>\n",
              "      <td>-0.231347</td>\n",
              "      <td>0.008712</td>\n",
              "      <td>0.030243</td>\n",
              "      <td>-0.005593</td>\n",
              "      <td>0.070527</td>\n",
              "      <td>0.091290</td>\n",
              "      <td>-0.048536</td>\n",
              "      <td>-0.072139</td>\n",
              "      <td>-0.001863</td>\n",
              "    </tr>\n",
              "    <tr>\n",
              "      <th>round</th>\n",
              "      <td>0.017755</td>\n",
              "      <td>0.391918</td>\n",
              "      <td>0.820898</td>\n",
              "      <td>0.228917</td>\n",
              "      <td>1.000000</td>\n",
              "      <td>0.380632</td>\n",
              "      <td>0.368352</td>\n",
              "      <td>0.397952</td>\n",
              "      <td>0.390320</td>\n",
              "      <td>0.218901</td>\n",
              "      <td>...</td>\n",
              "      <td>-0.070813</td>\n",
              "      <td>0.035671</td>\n",
              "      <td>0.036352</td>\n",
              "      <td>0.012534</td>\n",
              "      <td>0.057628</td>\n",
              "      <td>0.003904</td>\n",
              "      <td>0.054940</td>\n",
              "      <td>0.017414</td>\n",
              "      <td>-0.069566</td>\n",
              "      <td>-0.029700</td>\n",
              "    </tr>\n",
              "    <tr>\n",
              "      <th>...</th>\n",
              "      <td>...</td>\n",
              "      <td>...</td>\n",
              "      <td>...</td>\n",
              "      <td>...</td>\n",
              "      <td>...</td>\n",
              "      <td>...</td>\n",
              "      <td>...</td>\n",
              "      <td>...</td>\n",
              "      <td>...</td>\n",
              "      <td>...</td>\n",
              "      <td>...</td>\n",
              "      <td>...</td>\n",
              "      <td>...</td>\n",
              "      <td>...</td>\n",
              "      <td>...</td>\n",
              "      <td>...</td>\n",
              "      <td>...</td>\n",
              "      <td>...</td>\n",
              "      <td>...</td>\n",
              "      <td>...</td>\n",
              "      <td>...</td>\n",
              "    </tr>\n",
              "    <tr>\n",
              "      <th>fun3_2</th>\n",
              "      <td>-0.116650</td>\n",
              "      <td>0.008124</td>\n",
              "      <td>0.008403</td>\n",
              "      <td>0.070527</td>\n",
              "      <td>0.003904</td>\n",
              "      <td>-0.050530</td>\n",
              "      <td>-0.076781</td>\n",
              "      <td>-0.022651</td>\n",
              "      <td>-0.001706</td>\n",
              "      <td>0.077710</td>\n",
              "      <td>...</td>\n",
              "      <td>-0.074894</td>\n",
              "      <td>-0.077963</td>\n",
              "      <td>0.447901</td>\n",
              "      <td>0.286365</td>\n",
              "      <td>0.328200</td>\n",
              "      <td>1.000000</td>\n",
              "      <td>0.354353</td>\n",
              "      <td>0.417500</td>\n",
              "      <td>0.357390</td>\n",
              "      <td>-0.016433</td>\n",
              "    </tr>\n",
              "    <tr>\n",
              "      <th>amb3_2</th>\n",
              "      <td>-0.007924</td>\n",
              "      <td>0.039601</td>\n",
              "      <td>0.040339</td>\n",
              "      <td>0.091290</td>\n",
              "      <td>0.054940</td>\n",
              "      <td>0.077231</td>\n",
              "      <td>-0.001756</td>\n",
              "      <td>0.016422</td>\n",
              "      <td>0.018675</td>\n",
              "      <td>0.090609</td>\n",
              "      <td>...</td>\n",
              "      <td>-0.039334</td>\n",
              "      <td>-0.079089</td>\n",
              "      <td>0.330028</td>\n",
              "      <td>0.220786</td>\n",
              "      <td>0.393804</td>\n",
              "      <td>0.354353</td>\n",
              "      <td>1.000000</td>\n",
              "      <td>0.195820</td>\n",
              "      <td>0.173968</td>\n",
              "      <td>-0.004165</td>\n",
              "    </tr>\n",
              "    <tr>\n",
              "      <th>attr5_2</th>\n",
              "      <td>-0.001287</td>\n",
              "      <td>-0.021981</td>\n",
              "      <td>-0.000160</td>\n",
              "      <td>-0.048536</td>\n",
              "      <td>0.017414</td>\n",
              "      <td>-0.039660</td>\n",
              "      <td>-0.037168</td>\n",
              "      <td>0.011537</td>\n",
              "      <td>-0.005290</td>\n",
              "      <td>-0.052292</td>\n",
              "      <td>...</td>\n",
              "      <td>-0.099667</td>\n",
              "      <td>0.002513</td>\n",
              "      <td>0.849260</td>\n",
              "      <td>0.213589</td>\n",
              "      <td>0.300626</td>\n",
              "      <td>0.417500</td>\n",
              "      <td>0.195820</td>\n",
              "      <td>1.000000</td>\n",
              "      <td>0.266563</td>\n",
              "      <td>-0.018410</td>\n",
              "    </tr>\n",
              "    <tr>\n",
              "      <th>sinc5_2</th>\n",
              "      <td>-0.178150</td>\n",
              "      <td>-0.061233</td>\n",
              "      <td>-0.042388</td>\n",
              "      <td>-0.072139</td>\n",
              "      <td>-0.069566</td>\n",
              "      <td>-0.063697</td>\n",
              "      <td>-0.138315</td>\n",
              "      <td>-0.043010</td>\n",
              "      <td>-0.030502</td>\n",
              "      <td>-0.052526</td>\n",
              "      <td>...</td>\n",
              "      <td>-0.094171</td>\n",
              "      <td>0.024966</td>\n",
              "      <td>0.221485</td>\n",
              "      <td>0.647121</td>\n",
              "      <td>0.378100</td>\n",
              "      <td>0.357390</td>\n",
              "      <td>0.173968</td>\n",
              "      <td>0.266563</td>\n",
              "      <td>1.000000</td>\n",
              "      <td>0.004089</td>\n",
              "    </tr>\n",
              "    <tr>\n",
              "      <th>id</th>\n",
              "      <td>0.006340</td>\n",
              "      <td>-0.036693</td>\n",
              "      <td>-0.044675</td>\n",
              "      <td>-0.001863</td>\n",
              "      <td>-0.029700</td>\n",
              "      <td>-0.026828</td>\n",
              "      <td>-0.011816</td>\n",
              "      <td>-0.016321</td>\n",
              "      <td>0.006595</td>\n",
              "      <td>-0.002027</td>\n",
              "      <td>...</td>\n",
              "      <td>-0.007276</td>\n",
              "      <td>0.003793</td>\n",
              "      <td>-0.005457</td>\n",
              "      <td>-0.015575</td>\n",
              "      <td>0.006043</td>\n",
              "      <td>-0.016433</td>\n",
              "      <td>-0.004165</td>\n",
              "      <td>-0.018410</td>\n",
              "      <td>0.004089</td>\n",
              "      <td>1.000000</td>\n",
              "    </tr>\n",
              "  </tbody>\n",
              "</table>\n",
              "<p>123 rows × 123 columns</p>\n",
              "</div>\n",
              "      <button class=\"colab-df-convert\" onclick=\"convertToInteractive('df-e5afe15b-f252-44ff-9316-863593b6aa14')\"\n",
              "              title=\"Convert this dataframe to an interactive table.\"\n",
              "              style=\"display:none;\">\n",
              "        \n",
              "  <svg xmlns=\"http://www.w3.org/2000/svg\" height=\"24px\"viewBox=\"0 0 24 24\"\n",
              "       width=\"24px\">\n",
              "    <path d=\"M0 0h24v24H0V0z\" fill=\"none\"/>\n",
              "    <path d=\"M18.56 5.44l.94 2.06.94-2.06 2.06-.94-2.06-.94-.94-2.06-.94 2.06-2.06.94zm-11 1L8.5 8.5l.94-2.06 2.06-.94-2.06-.94L8.5 2.5l-.94 2.06-2.06.94zm10 10l.94 2.06.94-2.06 2.06-.94-2.06-.94-.94-2.06-.94 2.06-2.06.94z\"/><path d=\"M17.41 7.96l-1.37-1.37c-.4-.4-.92-.59-1.43-.59-.52 0-1.04.2-1.43.59L10.3 9.45l-7.72 7.72c-.78.78-.78 2.05 0 2.83L4 21.41c.39.39.9.59 1.41.59.51 0 1.02-.2 1.41-.59l7.78-7.78 2.81-2.81c.8-.78.8-2.07 0-2.86zM5.41 20L4 18.59l7.72-7.72 1.47 1.35L5.41 20z\"/>\n",
              "  </svg>\n",
              "      </button>\n",
              "      \n",
              "  <style>\n",
              "    .colab-df-container {\n",
              "      display:flex;\n",
              "      flex-wrap:wrap;\n",
              "      gap: 12px;\n",
              "    }\n",
              "\n",
              "    .colab-df-convert {\n",
              "      background-color: #E8F0FE;\n",
              "      border: none;\n",
              "      border-radius: 50%;\n",
              "      cursor: pointer;\n",
              "      display: none;\n",
              "      fill: #1967D2;\n",
              "      height: 32px;\n",
              "      padding: 0 0 0 0;\n",
              "      width: 32px;\n",
              "    }\n",
              "\n",
              "    .colab-df-convert:hover {\n",
              "      background-color: #E2EBFA;\n",
              "      box-shadow: 0px 1px 2px rgba(60, 64, 67, 0.3), 0px 1px 3px 1px rgba(60, 64, 67, 0.15);\n",
              "      fill: #174EA6;\n",
              "    }\n",
              "\n",
              "    [theme=dark] .colab-df-convert {\n",
              "      background-color: #3B4455;\n",
              "      fill: #D2E3FC;\n",
              "    }\n",
              "\n",
              "    [theme=dark] .colab-df-convert:hover {\n",
              "      background-color: #434B5C;\n",
              "      box-shadow: 0px 1px 3px 1px rgba(0, 0, 0, 0.15);\n",
              "      filter: drop-shadow(0px 1px 2px rgba(0, 0, 0, 0.3));\n",
              "      fill: #FFFFFF;\n",
              "    }\n",
              "  </style>\n",
              "\n",
              "      <script>\n",
              "        const buttonEl =\n",
              "          document.querySelector('#df-e5afe15b-f252-44ff-9316-863593b6aa14 button.colab-df-convert');\n",
              "        buttonEl.style.display =\n",
              "          google.colab.kernel.accessAllowed ? 'block' : 'none';\n",
              "\n",
              "        async function convertToInteractive(key) {\n",
              "          const element = document.querySelector('#df-e5afe15b-f252-44ff-9316-863593b6aa14');\n",
              "          const dataTable =\n",
              "            await google.colab.kernel.invokeFunction('convertToInteractive',\n",
              "                                                     [key], {});\n",
              "          if (!dataTable) return;\n",
              "\n",
              "          const docLinkHtml = 'Like what you see? Visit the ' +\n",
              "            '<a target=\"_blank\" href=https://colab.research.google.com/notebooks/data_table.ipynb>data table notebook</a>'\n",
              "            + ' to learn more about interactive tables.';\n",
              "          element.innerHTML = '';\n",
              "          dataTable['output_type'] = 'display_data';\n",
              "          await google.colab.output.renderOutput(dataTable, element);\n",
              "          const docLink = document.createElement('div');\n",
              "          docLink.innerHTML = docLinkHtml;\n",
              "          element.appendChild(docLink);\n",
              "        }\n",
              "      </script>\n",
              "    </div>\n",
              "  </div>\n",
              "  "
            ]
          },
          "metadata": {},
          "execution_count": 27
        }
      ]
    },
    {
      "cell_type": "code",
      "source": [
        "# setting the dimensions of the plot\n",
        "import matplotlib.pyplot as plt\n",
        "fig, ax = plt.subplots(figsize=(10, 10))\n",
        "# drawing the plot\n",
        "sns.heatmap(corr)\n",
        "plt.show()"
      ],
      "metadata": {
        "colab": {
          "base_uri": "https://localhost:8080/",
          "height": 891
        },
        "id": "8h3wVLh6sB-n",
        "outputId": "cbfc1063-4fcc-4914-8256-9ff6257acee1"
      },
      "execution_count": null,
      "outputs": [
        {
          "output_type": "display_data",
          "data": {
            "text/plain": [
              "<Figure size 1000x1000 with 2 Axes>"
            ],
            "image/png": "[encoded data removed]"
          },
          "metadata": {}
        }
      ]
    },
    {
      "cell_type": "markdown",
      "source": [
        "### A Tunable Pipeline\n",
        "In fact, any preprocessing steps can be considered as part of model and different configurations for these steps can be tunable. We can combine preprocessing steps and model as a single tunable pipeline with hyper-parameters.\n",
        "\n",
        "\n"
      ],
      "metadata": {
        "id": "fYdv0v-fl64o"
      }
    },
    {
      "cell_type": "code",
      "source": [
        "# we extract numeric features and categorical features names\n",
        "# for later use\n",
        "\n",
        "# numeric features can be selected by: (based on the train_data.info() output )\n",
        "features_numeric = list(train_data.select_dtypes(include=['float64', 'int64']))\n",
        "\n",
        "# categorical features can be selected by: (based on the train_data.info() output )\n",
        "features_categorical = list(train_data.select_dtypes(include=['object']))\n",
        "\n",
        "print('numeric features:', features_numeric)\n",
        "print('categorical features:', features_categorical)"
      ],
      "metadata": {
        "colab": {
          "base_uri": "https://localhost:8080/"
        },
        "id": "DT_6xoYMkmQ5",
        "outputId": "05c92c27-c703-47db-d71a-11a49fe0cc5b"
      },
      "execution_count": null,
      "outputs": [
        {
          "output_type": "stream",
          "name": "stdout",
          "text": [
            "numeric features: ['gender', 'idg', 'condtn', 'wave', 'round', 'position', 'positin1', 'order', 'partner', 'pid', 'int_corr', 'samerace', 'age_o', 'race_o', 'pf_o_att', 'pf_o_sin', 'pf_o_int', 'pf_o_fun', 'pf_o_amb', 'pf_o_sha', 'attr_o', 'sinc_o', 'intel_o', 'fun_o', 'amb_o', 'shar_o', 'like_o', 'prob_o', 'met_o', 'age', 'field_cd', 'race', 'imprace', 'imprelig', 'goal', 'date', 'go_out', 'career_c', 'sports', 'tvsports', 'exercise', 'dining', 'museums', 'art', 'hiking', 'gaming', 'clubbing', 'reading', 'tv', 'theater', 'movies', 'concerts', 'music', 'shopping', 'yoga', 'exphappy', 'attr1_1', 'sinc1_1', 'intel1_1', 'fun1_1', 'amb1_1', 'shar1_1', 'attr4_1', 'sinc4_1', 'intel4_1', 'fun4_1', 'amb4_1', 'shar4_1', 'attr2_1', 'sinc2_1', 'intel2_1', 'fun2_1', 'amb2_1', 'shar2_1', 'attr3_1', 'sinc3_1', 'fun3_1', 'intel3_1', 'amb3_1', 'attr5_1', 'sinc5_1', 'intel5_1', 'fun5_1', 'amb5_1', 'attr', 'sinc', 'intel', 'fun', 'amb', 'shar', 'like', 'prob', 'met', 'match_es', 'satis_2', 'length', 'numdat_2', 'attr1_2', 'sinc1_2', 'intel1_2', 'fun1_2', 'amb1_2', 'shar1_2', 'attr4_2', 'sinc4_2', 'intel4_2', 'fun4_2', 'amb4_2', 'shar4_2', 'attr2_2', 'sinc2_2', 'intel2_2', 'fun2_2', 'amb2_2', 'shar2_2', 'attr3_2', 'sinc3_2', 'intel3_2', 'fun3_2', 'amb3_2', 'attr5_2', 'sinc5_2', 'id']\n",
            "categorical features: ['field', 'from', 'income', 'career']\n"
          ]
        }
      ]
    },
    {
      "cell_type": "code",
      "source": [
        "np.random.seed(0)\n",
        "\n",
        "# define a pipe line for numeric feature preprocessing\n",
        "# we gave them a name so we can set their hyperparameters\n",
        "transformer_numeric = Pipeline(\n",
        "    steps=[\n",
        "        ('imputer', SimpleImputer()),\n",
        "        ('scaler', StandardScaler())]\n",
        ")\n",
        "\n",
        "# define a pipe line for categorical feature preprocessing\n",
        "# we gave them a name so we can set their hyperparameters\n",
        "transformer_categorical = Pipeline(\n",
        "    steps=[\n",
        "        ('imputer', SimpleImputer(strategy='constant')),\n",
        "        ('onehot', OneHotEncoder(handle_unknown='ignore'))\n",
        "    ]\n",
        ")\n",
        "# define the preprocessor \n",
        "# we gave them a name so we can set their hyperparameters\n",
        "# we also specify what are the categorical \n",
        "preprocessor = ColumnTransformer(\n",
        "    transformers=[\n",
        "        ('num', transformer_numeric, features_numeric),\n",
        "        ('cat', transformer_categorical, features_categorical)\n",
        "    ]\n",
        ")\n",
        "xgb = XGBClassifier(#silent=False, \n",
        "                      scale_pos_weight=1, \n",
        "                      colsample_bytree = 0.4,\n",
        "                      learning_rate=0.01,\n",
        "                       max_depth=10,\n",
        "                      n_estimators=800,\n",
        "                      subsample = 0.8,\n",
        "                      objective='binary:logistic', \n",
        "                      reg_alpha = 0)\n",
        "\n",
        "\n",
        "\n",
        "# combine the preprocessor with the model as a full tunable pipeline\n",
        "# we gave them a name so we can set their hyperparameters\n",
        "full_pipline = Pipeline(\n",
        "    steps=[\n",
        "        ('preprocessor', preprocessor),\n",
        "        ('my_classifier', xgb\n",
        "        )\n",
        "    ]\n",
        ")\n",
        "full_pipline"
      ],
      "metadata": {
        "colab": {
          "base_uri": "https://localhost:8080/",
          "height": 227
        },
        "id": "PkMH-AGdYXsT",
        "outputId": "57fb3c50-49c6-4993-d645-c8b7e728d091"
      },
      "execution_count": null,
      "outputs": [
        {
          "output_type": "execute_result",
          "data": {
            "text/plain": [
              "Pipeline(steps=[('preprocessor',\n",
              "                 ColumnTransformer(transformers=[('num',\n",
              "                                                  Pipeline(steps=[('imputer',\n",
              "                                                                   SimpleImputer()),\n",
              "                                                                  ('scaler',\n",
              "                                                                   StandardScaler())]),\n",
              "                                                  ['gender', 'idg', 'condtn',\n",
              "                                                   'wave', 'round', 'position',\n",
              "                                                   'positin1', 'order',\n",
              "                                                   'partner', 'pid', 'int_corr',\n",
              "                                                   'samerace', 'age_o',\n",
              "                                                   'race_o', 'pf_o_att',\n",
              "                                                   'pf_o_sin', 'pf_o_int',\n",
              "                                                   'pf_o_fun', 'pf_o_amb',\n",
              "                                                   'pf_o_sha', 'attr_o',\n",
              "                                                   'sinc...\n",
              "                               feature_types=None, gamma=None, gpu_id=None,\n",
              "                               grow_policy=None, importance_type=None,\n",
              "                               interaction_constraints=None, learning_rate=0.01,\n",
              "                               max_bin=None, max_cat_threshold=None,\n",
              "                               max_cat_to_onehot=None, max_delta_step=None,\n",
              "                               max_depth=10, max_leaves=None,\n",
              "                               min_child_weight=None, missing=nan,\n",
              "                               monotone_constraints=None, n_estimators=800,\n",
              "                               n_jobs=None, num_parallel_tree=None,\n",
              "                               predictor=None, random_state=None, ...))])"
            ],
            "text/html": [
              "<style>#sk-container-id-5 {color: black;background-color: white;}#sk-container-id-5 pre{padding: 0;}#sk-container-id-5 div.sk-toggleable {background-color: white;}#sk-container-id-5 label.sk-toggleable__label {cursor: pointer;display: block;width: 100%;margin-bottom: 0;padding: 0.3em;box-sizing: border-box;text-align: center;}#sk-container-id-5 label.sk-toggleable__label-arrow:before {content: \"▸\";float: left;margin-right: 0.25em;color: #696969;}#sk-container-id-5 label.sk-toggleable__label-arrow:hover:before {color: black;}#sk-container-id-5 div.sk-estimator:hover label.sk-toggleable__label-arrow:before {color: black;}#sk-container-id-5 div.sk-toggleable__content {max-height: 0;max-width: 0;overflow: hidden;text-align: left;background-color: #f0f8ff;}#sk-container-id-5 div.sk-toggleable__content pre {margin: 0.2em;color: black;border-radius: 0.25em;background-color: #f0f8ff;}#sk-container-id-5 input.sk-toggleable__control:checked~div.sk-toggleable__content {max-height: 200px;max-width: 100%;overflow: auto;}#sk-container-id-5 input.sk-toggleable__control:checked~label.sk-toggleable__label-arrow:before {content: \"▾\";}#sk-container-id-5 div.sk-estimator input.sk-toggleable__control:checked~label.sk-toggleable__label {background-color: #d4ebff;}#sk-container-id-5 div.sk-label input.sk-toggleable__control:checked~label.sk-toggleable__label {background-color: #d4ebff;}#sk-container-id-5 input.sk-hidden--visually {border: 0;clip: rect(1px 1px 1px 1px);clip: rect(1px, 1px, 1px, 1px);height: 1px;margin: -1px;overflow: hidden;padding: 0;position: absolute;width: 1px;}#sk-container-id-5 div.sk-estimator {font-family: monospace;background-color: #f0f8ff;border: 1px dotted black;border-radius: 0.25em;box-sizing: border-box;margin-bottom: 0.5em;}#sk-container-id-5 div.sk-estimator:hover {background-color: #d4ebff;}#sk-container-id-5 div.sk-parallel-item::after {content: \"\";width: 100%;border-bottom: 1px solid gray;flex-grow: 1;}#sk-container-id-5 div.sk-label:hover label.sk-toggleable__label {background-color: #d4ebff;}#sk-container-id-5 div.sk-serial::before {content: \"\";position: absolute;border-left: 1px solid gray;box-sizing: border-box;top: 0;bottom: 0;left: 50%;z-index: 0;}#sk-container-id-5 div.sk-serial {display: flex;flex-direction: column;align-items: center;background-color: white;padding-right: 0.2em;padding-left: 0.2em;position: relative;}#sk-container-id-5 div.sk-item {position: relative;z-index: 1;}#sk-container-id-5 div.sk-parallel {display: flex;align-items: stretch;justify-content: center;background-color: white;position: relative;}#sk-container-id-5 div.sk-item::before, #sk-container-id-5 div.sk-parallel-item::before {content: \"\";position: absolute;border-left: 1px solid gray;box-sizing: border-box;top: 0;bottom: 0;left: 50%;z-index: -1;}#sk-container-id-5 div.sk-parallel-item {display: flex;flex-direction: column;z-index: 1;position: relative;background-color: white;}#sk-container-id-5 div.sk-parallel-item:first-child::after {align-self: flex-end;width: 50%;}#sk-container-id-5 div.sk-parallel-item:last-child::after {align-self: flex-start;width: 50%;}#sk-container-id-5 div.sk-parallel-item:only-child::after {width: 0;}#sk-container-id-5 div.sk-dashed-wrapped {border: 1px dashed gray;margin: 0 0.4em 0.5em 0.4em;box-sizing: border-box;padding-bottom: 0.4em;background-color: white;}#sk-container-id-5 div.sk-label label {font-family: monospace;font-weight: bold;display: inline-block;line-height: 1.2em;}#sk-container-id-5 div.sk-label-container {text-align: center;}#sk-container-id-5 div.sk-container {/* jupyter's `normalize.less` sets `[hidden] { display: none; }` but bootstrap.min.css set `[hidden] { display: none !important; }` so we also need the `!important` here to be able to override the default hidden behavior on the sphinx rendered scikit-learn.org. See: https://github.com/scikit-learn/scikit-learn/issues/21755 */display: inline-block !important;position: relative;}#sk-container-id-5 div.sk-text-repr-fallback {display: none;}</style><div id=\"sk-container-id-5\" class=\"sk-top-container\"><div class=\"sk-text-repr-fallback\"><pre>Pipeline(steps=[(&#x27;preprocessor&#x27;,\n",
              "                 ColumnTransformer(transformers=[(&#x27;num&#x27;,\n",
              "                                                  Pipeline(steps=[(&#x27;imputer&#x27;,\n",
              "                                                                   SimpleImputer()),\n",
              "                                                                  (&#x27;scaler&#x27;,\n",
              "                                                                   StandardScaler())]),\n",
              "                                                  [&#x27;gender&#x27;, &#x27;idg&#x27;, &#x27;condtn&#x27;,\n",
              "                                                   &#x27;wave&#x27;, &#x27;round&#x27;, &#x27;position&#x27;,\n",
              "                                                   &#x27;positin1&#x27;, &#x27;order&#x27;,\n",
              "                                                   &#x27;partner&#x27;, &#x27;pid&#x27;, &#x27;int_corr&#x27;,\n",
              "                                                   &#x27;samerace&#x27;, &#x27;age_o&#x27;,\n",
              "                                                   &#x27;race_o&#x27;, &#x27;pf_o_att&#x27;,\n",
              "                                                   &#x27;pf_o_sin&#x27;, &#x27;pf_o_int&#x27;,\n",
              "                                                   &#x27;pf_o_fun&#x27;, &#x27;pf_o_amb&#x27;,\n",
              "                                                   &#x27;pf_o_sha&#x27;, &#x27;attr_o&#x27;,\n",
              "                                                   &#x27;sinc...\n",
              "                               feature_types=None, gamma=None, gpu_id=None,\n",
              "                               grow_policy=None, importance_type=None,\n",
              "                               interaction_constraints=None, learning_rate=0.01,\n",
              "                               max_bin=None, max_cat_threshold=None,\n",
              "                               max_cat_to_onehot=None, max_delta_step=None,\n",
              "                               max_depth=10, max_leaves=None,\n",
              "                               min_child_weight=None, missing=nan,\n",
              "                               monotone_constraints=None, n_estimators=800,\n",
              "                               n_jobs=None, num_parallel_tree=None,\n",
              "                               predictor=None, random_state=None, ...))])</pre><b>In a Jupyter environment, please rerun this cell to show the HTML representation or trust the notebook. <br />On GitHub, the HTML representation is unable to render, please try loading this page with nbviewer.org.</b></div><div class=\"sk-container\" hidden><div class=\"sk-item sk-dashed-wrapped\"><div class=\"sk-label-container\"><div class=\"sk-label sk-toggleable\"><input class=\"sk-toggleable__control sk-hidden--visually\" id=\"sk-estimator-id-37\" type=\"checkbox\" ><label for=\"sk-estimator-id-37\" class=\"sk-toggleable__label sk-toggleable__label-arrow\">Pipeline</label><div class=\"sk-toggleable__content\"><pre>Pipeline(steps=[(&#x27;preprocessor&#x27;,\n",
              "                 ColumnTransformer(transformers=[(&#x27;num&#x27;,\n",
              "                                                  Pipeline(steps=[(&#x27;imputer&#x27;,\n",
              "                                                                   SimpleImputer()),\n",
              "                                                                  (&#x27;scaler&#x27;,\n",
              "                                                                   StandardScaler())]),\n",
              "                                                  [&#x27;gender&#x27;, &#x27;idg&#x27;, &#x27;condtn&#x27;,\n",
              "                                                   &#x27;wave&#x27;, &#x27;round&#x27;, &#x27;position&#x27;,\n",
              "                                                   &#x27;positin1&#x27;, &#x27;order&#x27;,\n",
              "                                                   &#x27;partner&#x27;, &#x27;pid&#x27;, &#x27;int_corr&#x27;,\n",
              "                                                   &#x27;samerace&#x27;, &#x27;age_o&#x27;,\n",
              "                                                   &#x27;race_o&#x27;, &#x27;pf_o_att&#x27;,\n",
              "                                                   &#x27;pf_o_sin&#x27;, &#x27;pf_o_int&#x27;,\n",
              "                                                   &#x27;pf_o_fun&#x27;, &#x27;pf_o_amb&#x27;,\n",
              "                                                   &#x27;pf_o_sha&#x27;, &#x27;attr_o&#x27;,\n",
              "                                                   &#x27;sinc...\n",
              "                               feature_types=None, gamma=None, gpu_id=None,\n",
              "                               grow_policy=None, importance_type=None,\n",
              "                               interaction_constraints=None, learning_rate=0.01,\n",
              "                               max_bin=None, max_cat_threshold=None,\n",
              "                               max_cat_to_onehot=None, max_delta_step=None,\n",
              "                               max_depth=10, max_leaves=None,\n",
              "                               min_child_weight=None, missing=nan,\n",
              "                               monotone_constraints=None, n_estimators=800,\n",
              "                               n_jobs=None, num_parallel_tree=None,\n",
              "                               predictor=None, random_state=None, ...))])</pre></div></div></div><div class=\"sk-serial\"><div class=\"sk-item sk-dashed-wrapped\"><div class=\"sk-label-container\"><div class=\"sk-label sk-toggleable\"><input class=\"sk-toggleable__control sk-hidden--visually\" id=\"sk-estimator-id-38\" type=\"checkbox\" ><label for=\"sk-estimator-id-38\" class=\"sk-toggleable__label sk-toggleable__label-arrow\">preprocessor: ColumnTransformer</label><div class=\"sk-toggleable__content\"><pre>ColumnTransformer(transformers=[(&#x27;num&#x27;,\n",
              "                                 Pipeline(steps=[(&#x27;imputer&#x27;, SimpleImputer()),\n",
              "                                                 (&#x27;scaler&#x27;, StandardScaler())]),\n",
              "                                 [&#x27;gender&#x27;, &#x27;idg&#x27;, &#x27;condtn&#x27;, &#x27;wave&#x27;, &#x27;round&#x27;,\n",
              "                                  &#x27;position&#x27;, &#x27;positin1&#x27;, &#x27;order&#x27;, &#x27;partner&#x27;,\n",
              "                                  &#x27;pid&#x27;, &#x27;int_corr&#x27;, &#x27;samerace&#x27;, &#x27;age_o&#x27;,\n",
              "                                  &#x27;race_o&#x27;, &#x27;pf_o_att&#x27;, &#x27;pf_o_sin&#x27;, &#x27;pf_o_int&#x27;,\n",
              "                                  &#x27;pf_o_fun&#x27;, &#x27;pf_o_amb&#x27;, &#x27;pf_o_sha&#x27;, &#x27;attr_o&#x27;,\n",
              "                                  &#x27;sinc_o&#x27;, &#x27;intel_o&#x27;, &#x27;fun_o&#x27;, &#x27;amb_o&#x27;,\n",
              "                                  &#x27;shar_o&#x27;, &#x27;like_o&#x27;, &#x27;prob_o&#x27;, &#x27;met_o&#x27;, &#x27;age&#x27;, ...]),\n",
              "                                (&#x27;cat&#x27;,\n",
              "                                 Pipeline(steps=[(&#x27;imputer&#x27;,\n",
              "                                                  SimpleImputer(strategy=&#x27;constant&#x27;)),\n",
              "                                                 (&#x27;onehot&#x27;,\n",
              "                                                  OneHotEncoder(handle_unknown=&#x27;ignore&#x27;))]),\n",
              "                                 [&#x27;field&#x27;, &#x27;from&#x27;, &#x27;income&#x27;, &#x27;career&#x27;])])</pre></div></div></div><div class=\"sk-parallel\"><div class=\"sk-parallel-item\"><div class=\"sk-item\"><div class=\"sk-label-container\"><div class=\"sk-label sk-toggleable\"><input class=\"sk-toggleable__control sk-hidden--visually\" id=\"sk-estimator-id-39\" type=\"checkbox\" ><label for=\"sk-estimator-id-39\" class=\"sk-toggleable__label sk-toggleable__label-arrow\">num</label><div class=\"sk-toggleable__content\"><pre>[&#x27;gender&#x27;, &#x27;idg&#x27;, &#x27;condtn&#x27;, &#x27;wave&#x27;, &#x27;round&#x27;, &#x27;position&#x27;, &#x27;positin1&#x27;, &#x27;order&#x27;, &#x27;partner&#x27;, &#x27;pid&#x27;, &#x27;int_corr&#x27;, &#x27;samerace&#x27;, &#x27;age_o&#x27;, &#x27;race_o&#x27;, &#x27;pf_o_att&#x27;, &#x27;pf_o_sin&#x27;, &#x27;pf_o_int&#x27;, &#x27;pf_o_fun&#x27;, &#x27;pf_o_amb&#x27;, &#x27;pf_o_sha&#x27;, &#x27;attr_o&#x27;, &#x27;sinc_o&#x27;, &#x27;intel_o&#x27;, &#x27;fun_o&#x27;, &#x27;amb_o&#x27;, &#x27;shar_o&#x27;, &#x27;like_o&#x27;, &#x27;prob_o&#x27;, &#x27;met_o&#x27;, &#x27;age&#x27;, &#x27;field_cd&#x27;, &#x27;race&#x27;, &#x27;imprace&#x27;, &#x27;imprelig&#x27;, &#x27;goal&#x27;, &#x27;date&#x27;, &#x27;go_out&#x27;, &#x27;career_c&#x27;, &#x27;sports&#x27;, &#x27;tvsports&#x27;, &#x27;exercise&#x27;, &#x27;dining&#x27;, &#x27;museums&#x27;, &#x27;art&#x27;, &#x27;hiking&#x27;, &#x27;gaming&#x27;, &#x27;clubbing&#x27;, &#x27;reading&#x27;, &#x27;tv&#x27;, &#x27;theater&#x27;, &#x27;movies&#x27;, &#x27;concerts&#x27;, &#x27;music&#x27;, &#x27;shopping&#x27;, &#x27;yoga&#x27;, &#x27;exphappy&#x27;, &#x27;attr1_1&#x27;, &#x27;sinc1_1&#x27;, &#x27;intel1_1&#x27;, &#x27;fun1_1&#x27;, &#x27;amb1_1&#x27;, &#x27;shar1_1&#x27;, &#x27;attr4_1&#x27;, &#x27;sinc4_1&#x27;, &#x27;intel4_1&#x27;, &#x27;fun4_1&#x27;, &#x27;amb4_1&#x27;, &#x27;shar4_1&#x27;, &#x27;attr2_1&#x27;, &#x27;sinc2_1&#x27;, &#x27;intel2_1&#x27;, &#x27;fun2_1&#x27;, &#x27;amb2_1&#x27;, &#x27;shar2_1&#x27;, &#x27;attr3_1&#x27;, &#x27;sinc3_1&#x27;, &#x27;fun3_1&#x27;, &#x27;intel3_1&#x27;, &#x27;amb3_1&#x27;, &#x27;attr5_1&#x27;, &#x27;sinc5_1&#x27;, &#x27;intel5_1&#x27;, &#x27;fun5_1&#x27;, &#x27;amb5_1&#x27;, &#x27;attr&#x27;, &#x27;sinc&#x27;, &#x27;intel&#x27;, &#x27;fun&#x27;, &#x27;amb&#x27;, &#x27;shar&#x27;, &#x27;like&#x27;, &#x27;prob&#x27;, &#x27;met&#x27;, &#x27;match_es&#x27;, &#x27;satis_2&#x27;, &#x27;length&#x27;, &#x27;numdat_2&#x27;, &#x27;attr1_2&#x27;, &#x27;sinc1_2&#x27;, &#x27;intel1_2&#x27;, &#x27;fun1_2&#x27;, &#x27;amb1_2&#x27;, &#x27;shar1_2&#x27;, &#x27;attr4_2&#x27;, &#x27;sinc4_2&#x27;, &#x27;intel4_2&#x27;, &#x27;fun4_2&#x27;, &#x27;amb4_2&#x27;, &#x27;shar4_2&#x27;, &#x27;attr2_2&#x27;, &#x27;sinc2_2&#x27;, &#x27;intel2_2&#x27;, &#x27;fun2_2&#x27;, &#x27;amb2_2&#x27;, &#x27;shar2_2&#x27;, &#x27;attr3_2&#x27;, &#x27;sinc3_2&#x27;, &#x27;intel3_2&#x27;, &#x27;fun3_2&#x27;, &#x27;amb3_2&#x27;, &#x27;attr5_2&#x27;, &#x27;sinc5_2&#x27;, &#x27;id&#x27;]</pre></div></div></div><div class=\"sk-serial\"><div class=\"sk-item\"><div class=\"sk-serial\"><div class=\"sk-item\"><div class=\"sk-estimator sk-toggleable\"><input class=\"sk-toggleable__control sk-hidden--visually\" id=\"sk-estimator-id-40\" type=\"checkbox\" ><label for=\"sk-estimator-id-40\" class=\"sk-toggleable__label sk-toggleable__label-arrow\">SimpleImputer</label><div class=\"sk-toggleable__content\"><pre>SimpleImputer()</pre></div></div></div><div class=\"sk-item\"><div class=\"sk-estimator sk-toggleable\"><input class=\"sk-toggleable__control sk-hidden--visually\" id=\"sk-estimator-id-41\" type=\"checkbox\" ><label for=\"sk-estimator-id-41\" class=\"sk-toggleable__label sk-toggleable__label-arrow\">StandardScaler</label><div class=\"sk-toggleable__content\"><pre>StandardScaler()</pre></div></div></div></div></div></div></div></div><div class=\"sk-parallel-item\"><div class=\"sk-item\"><div class=\"sk-label-container\"><div class=\"sk-label sk-toggleable\"><input class=\"sk-toggleable__control sk-hidden--visually\" id=\"sk-estimator-id-42\" type=\"checkbox\" ><label for=\"sk-estimator-id-42\" class=\"sk-toggleable__label sk-toggleable__label-arrow\">cat</label><div class=\"sk-toggleable__content\"><pre>[&#x27;field&#x27;, &#x27;from&#x27;, &#x27;income&#x27;, &#x27;career&#x27;]</pre></div></div></div><div class=\"sk-serial\"><div class=\"sk-item\"><div class=\"sk-serial\"><div class=\"sk-item\"><div class=\"sk-estimator sk-toggleable\"><input class=\"sk-toggleable__control sk-hidden--visually\" id=\"sk-estimator-id-43\" type=\"checkbox\" ><label for=\"sk-estimator-id-43\" class=\"sk-toggleable__label sk-toggleable__label-arrow\">SimpleImputer</label><div class=\"sk-toggleable__content\"><pre>SimpleImputer(strategy=&#x27;constant&#x27;)</pre></div></div></div><div class=\"sk-item\"><div class=\"sk-estimator sk-toggleable\"><input class=\"sk-toggleable__control sk-hidden--visually\" id=\"sk-estimator-id-44\" type=\"checkbox\" ><label for=\"sk-estimator-id-44\" class=\"sk-toggleable__label sk-toggleable__label-arrow\">OneHotEncoder</label><div class=\"sk-toggleable__content\"><pre>OneHotEncoder(handle_unknown=&#x27;ignore&#x27;)</pre></div></div></div></div></div></div></div></div></div></div><div class=\"sk-item\"><div class=\"sk-estimator sk-toggleable\"><input class=\"sk-toggleable__control sk-hidden--visually\" id=\"sk-estimator-id-45\" type=\"checkbox\" ><label for=\"sk-estimator-id-45\" class=\"sk-toggleable__label sk-toggleable__label-arrow\">XGBClassifier</label><div class=\"sk-toggleable__content\"><pre>XGBClassifier(base_score=None, booster=None, callbacks=None,\n",
              "              colsample_bylevel=None, colsample_bynode=None,\n",
              "              colsample_bytree=0.4, early_stopping_rounds=None,\n",
              "              enable_categorical=False, eval_metric=None, feature_types=None,\n",
              "              gamma=None, gpu_id=None, grow_policy=None, importance_type=None,\n",
              "              interaction_constraints=None, learning_rate=0.01, max_bin=None,\n",
              "              max_cat_threshold=None, max_cat_to_onehot=None,\n",
              "              max_delta_step=None, max_depth=10, max_leaves=None,\n",
              "              min_child_weight=None, missing=nan, monotone_constraints=None,\n",
              "              n_estimators=800, n_jobs=None, num_parallel_tree=None,\n",
              "              predictor=None, random_state=None, ...)</pre></div></div></div></div></div></div></div>"
            ]
          },
          "metadata": {},
          "execution_count": 49
        }
      ]
    },
    {
      "cell_type": "code",
      "source": [
        "X=train_data\n",
        "y=match"
      ],
      "metadata": {
        "id": "AfGPP38-muDZ"
      },
      "execution_count": null,
      "outputs": []
    },
    {
      "cell_type": "code",
      "source": [
        "X_train, X_VAL, y_train, y_VAL = train_test_split(X, y, test_size=0.2, random_state=2)"
      ],
      "metadata": {
        "id": "8L_CRD5skmK4"
      },
      "execution_count": null,
      "outputs": []
    },
    {
      "cell_type": "code",
      "source": [
        "y_train.shape"
      ],
      "metadata": {
        "colab": {
          "base_uri": "https://localhost:8080/"
        },
        "id": "kKsQeZUblqGB",
        "outputId": "3c885ecd-aafe-4755-bd06-6fb422fb86f4"
      },
      "execution_count": null,
      "outputs": [
        {
          "output_type": "execute_result",
          "data": {
            "text/plain": [
              "(4727,)"
            ]
          },
          "metadata": {},
          "execution_count": 35
        }
      ]
    },
    {
      "cell_type": "code",
      "source": [
        "# The pipeline object can be used like any sk-learn model\n",
        "full_pipline = full_pipline.fit(X_train, y_train)\n",
        "OUT=full_pipline.predict(X_VAL)"
      ],
      "metadata": {
        "id": "A5VFki9wnODQ"
      },
      "execution_count": null,
      "outputs": []
    },
    {
      "cell_type": "code",
      "source": [
        "OUT[:100]"
      ],
      "metadata": {
        "colab": {
          "base_uri": "https://localhost:8080/"
        },
        "id": "FHRVVNLNnOAY",
        "outputId": "fd31d1ad-787d-424c-d59a-d774ef9e5f53"
      },
      "execution_count": null,
      "outputs": [
        {
          "output_type": "execute_result",
          "data": {
            "text/plain": [
              "array([0, 0, 0, 0, 0, 0, 0, 0, 1, 0, 0, 0, 0, 0, 0, 0, 0, 0, 0, 0, 0, 1,\n",
              "       0, 0, 0, 0, 0, 0, 0, 0, 0, 0, 0, 0, 0, 0, 0, 0, 0, 0, 0, 0, 0, 0,\n",
              "       0, 0, 0, 0, 1, 0, 0, 0, 0, 0, 0, 0, 0, 0, 0, 0, 0, 0, 0, 0, 0, 0,\n",
              "       0, 1, 0, 0, 0, 0, 0, 0, 0, 0, 0, 0, 0, 0, 1, 0, 0, 0, 0, 0, 1, 0,\n",
              "       0, 0, 1, 0, 0, 0, 0, 0, 0, 0, 0, 0])"
            ]
          },
          "metadata": {},
          "execution_count": 37
        }
      ]
    },
    {
      "cell_type": "markdown",
      "source": [
        "## Grid Search with Cross-validation\n",
        "We can tune the hyperparameters (including different preprocessing configurations using cross-validation and grid-search). Grid search tests all possible combination of hyperparameters by the options and ranges you specified."
      ],
      "metadata": {
        "id": "lRSIhwW5otAp"
      }
    },
    {
      "cell_type": "markdown",
      "source": [
        "## Trial 1"
      ],
      "metadata": {
        "id": "gBeDyqO1d-Gn"
      }
    },
    {
      "cell_type": "markdown",
      "source": [
        "### first time to tune with `Grid Search` with xbg  model with hyperparameter\n",
        "  - ' preprocessor__num__imputer__strategy '=mean\n",
        "  -  ' my_classifier__n_estimators ':[20, 30, 60]\n",
        "  - ' my_classifier__max_depth ': [10, 30, 60]"
      ],
      "metadata": {
        "id": "bbP6xCBdiU_B"
      }
    },
    {
      "cell_type": "code",
      "source": [
        "# here we specify the search space\n",
        "# `__` denotes an attribute of the preceeding name\n",
        "# (e.g. my_classifier__n_estimators means the `n_estimators` param for `my_classifier`)\n",
        "param_grid = {\n",
        "    'preprocessor__num__imputer__strategy': ['mean'],\n",
        "    # preprocessor__num__imputer__strategy points to preprocessor->num (a Pipeline)-> imputer -> strategy\n",
        "    'my_classifier__n_estimators': [20, 30, 60],  \n",
        "     # my_classifier__n_estimators points to my_classifier->n_estimators \n",
        "    'my_classifier__max_depth':[10, 30, 60]       \n",
        "}\n",
        "\n",
        "# cv=10 means ten-fold cross-validation\n",
        "# n_jobs means the cucurrent number of jobs\n",
        "# (on colab since we only have two cpu cores, we set it to 2)\n",
        "grid_search = GridSearchCV(\n",
        "    full_pipline, param_grid, cv=10, verbose=1, n_jobs=-1, \n",
        "    scoring='roc_auc')\n",
        "\n",
        "grid_search.fit(X_train, y_train)\n",
        "\n",
        "print('best score {}'.format(grid_search.best_score_))\n",
        "print('best score {}'.format(grid_search.best_params_))"
      ],
      "metadata": {
        "colab": {
          "base_uri": "https://localhost:8080/"
        },
        "id": "9YJwFYrcfI7Z",
        "outputId": "c8edf764-8168-4bc3-a60b-2aafa4dab588"
      },
      "execution_count": null,
      "outputs": [
        {
          "output_type": "stream",
          "name": "stdout",
          "text": [
            "Fitting 10 folds for each of 9 candidates, totalling 90 fits\n",
            "best score 0.8635642626344934\n",
            "best score {'my_classifier__max_depth': 30, 'my_classifier__n_estimators': 60, 'preprocessor__num__imputer__strategy': 'mean'}\n"
          ]
        }
      ]
    },
    {
      "cell_type": "code",
      "source": [
        "# the resulting model is the same pipeline with the best hyperparameters\n",
        "# trained on the full training set. we can use it directly\n",
        "grid_search.predict(X_VAL)"
      ],
      "metadata": {
        "colab": {
          "base_uri": "https://localhost:8080/"
        },
        "id": "cp3ViS7AnN7f",
        "outputId": "fd8f19d0-3fb4-405c-9763-9c13cdfe78ab"
      },
      "execution_count": null,
      "outputs": [
        {
          "output_type": "execute_result",
          "data": {
            "text/plain": [
              "array([0, 0, 0, ..., 0, 0, 0])"
            ]
          },
          "metadata": {},
          "execution_count": 51
        }
      ]
    },
    {
      "cell_type": "markdown",
      "source": [
        "## Trial 2"
      ],
      "metadata": {
        "id": "KmRxaxEceCBv"
      }
    },
    {
      "cell_type": "markdown",
      "source": [
        "### Second time(trial) to tune with `Grid Search` with xgb model with different hyperparameter\n",
        "  - ' preprocessor__num__imputer__strategy '=mean\n",
        "  -  ' my_classifier__n_estimators ':[700, 900, 1000]\n",
        "  - ' my_classifier__max_depth ': [5, 8, 10]"
      ],
      "metadata": {
        "id": "siwKYLtiAe9x"
      }
    },
    {
      "cell_type": "code",
      "source": [
        "# here we specify the search space\n",
        "# `__` denotes an attribute of the preceeding name\n",
        "# (e.g. my_classifier__n_estimators means the `n_estimators` param for `my_classifier`)\n",
        "param_grid = {\n",
        "    'preprocessor__num__imputer__strategy': ['mean'],\n",
        "    # preprocessor__num__imputer__strategy points to preprocessor->num (a Pipeline)-> imputer -> strategy\n",
        "    'my_classifier__n_estimators': [1000, 1500, 2000],  \n",
        "     # my_classifier__n_estimators points to my_classifier->n_estimators \n",
        "    'my_classifier__max_depth':[5, 8, 10]       \n",
        "}\n",
        "\n",
        "# cv=10 means ten-fold cross-validation\n",
        "# n_jobs means the cucurrent number of jobs\n",
        "# (on colab since we only have two cpu cores, we set it to 2)\n",
        "grid_search_second = GridSearchCV(\n",
        "    full_pipline, param_grid, cv=10, verbose=1, n_jobs=-1, \n",
        "    scoring='roc_auc')\n",
        "\n",
        "grid_search_second.fit(X_train, y_train)\n",
        "\n",
        "print('best score {}'.format(grid_search_second.best_score_))\n",
        "print('best score {}'.format(grid_search_second.best_params_))"
      ],
      "metadata": {
        "colab": {
          "base_uri": "https://localhost:8080/"
        },
        "outputId": "4af2a543-fe59-48fa-8281-b1727cd026d1",
        "id": "0TyXnFQYCEuZ"
      },
      "execution_count": null,
      "outputs": [
        {
          "output_type": "stream",
          "name": "stdout",
          "text": [
            "Fitting 10 folds for each of 9 candidates, totalling 90 fits\n",
            "best score 0.8842139590581407\n",
            "best score {'my_classifier__max_depth': 8, 'my_classifier__n_estimators': 1500, 'preprocessor__num__imputer__strategy': 'mean'}\n"
          ]
        }
      ]
    },
    {
      "cell_type": "code",
      "source": [
        "# the resulting model is the same pipeline with the best hyperparameters\n",
        "# trained on the full training set. we can use it directly\n",
        "grid_search_second.predict(X_VAL)"
      ],
      "metadata": {
        "colab": {
          "base_uri": "https://localhost:8080/"
        },
        "outputId": "276341b2-84ad-44be-a1c6-4a791a2f57b9",
        "id": "VpbO7G7MCI6p"
      },
      "execution_count": null,
      "outputs": [
        {
          "output_type": "execute_result",
          "data": {
            "text/plain": [
              "array([0, 0, 0, ..., 0, 0, 0])"
            ]
          },
          "metadata": {},
          "execution_count": 38
        }
      ]
    },
    {
      "cell_type": "markdown",
      "source": [
        "### Decision tree"
      ],
      "metadata": {
        "id": "ByRcyLqFemmV"
      }
    },
    {
      "cell_type": "code",
      "source": [
        "import numpy as np\n",
        "from sklearn.compose import ColumnTransformer\n",
        "from sklearn.datasets import fetch_openml\n",
        "from sklearn.pipeline import Pipeline\n",
        "from sklearn.impute import SimpleImputer\n",
        "from sklearn.preprocessing import StandardScaler, OneHotEncoder\n",
        "from sklearn.linear_model import LogisticRegression\n",
        "from sklearn.ensemble import RandomForestClassifier\n",
        "from sklearn.model_selection import train_test_split, GridSearchCV\n",
        "from xgboost.sklearn import XGBClassifier\n",
        "\n",
        "np.random.seed(0)\n",
        "\n",
        "# define a pipe line for numeric feature preprocessing\n",
        "# we gave them a name so we can set their hyperparameters\n",
        "transformer_numeric = Pipeline(\n",
        "    steps=[\n",
        "        ('imputer', SimpleImputer()),\n",
        "        ('scaler', StandardScaler())]\n",
        ")\n",
        "\n",
        "# define a pipe line for categorical feature preprocessing\n",
        "# we gave them a name so we can set their hyperparameters\n",
        "transformer_categorical = Pipeline(\n",
        "    steps=[\n",
        "        ('imputer', SimpleImputer(strategy='constant')),\n",
        "        ('onehot', OneHotEncoder(handle_unknown='ignore'))\n",
        "    ]\n",
        ")\n",
        "# define the preprocessor \n",
        "# we gave them a name so we can set their hyperparameters\n",
        "# we also specify what are the categorical \n",
        "preprocessor = ColumnTransformer(\n",
        "    transformers=[\n",
        "        ('num', transformer_numeric, features_numeric),\n",
        "        ('cat', transformer_categorical, features_categorical)\n",
        "    ]\n",
        ")\n",
        "\n",
        "# combine the preprocessor with the model as a full tunable pipeline\n",
        "# we gave them a name so we can set their hyperparameters\n",
        "full_pipline_dt= Pipeline(\n",
        "    steps=[\n",
        "        ('preprocessor', preprocessor),\n",
        "        ('my_classifier', DecisionTreeClassifier()\n",
        "        )\n",
        "    ]\n",
        ")\n",
        "full_pipline_dt"
      ],
      "metadata": {
        "colab": {
          "base_uri": "https://localhost:8080/",
          "height": 227
        },
        "outputId": "d0ba8307-ca14-4e05-dd11-694686e064f8",
        "id": "7R8TIraEfDLY"
      },
      "execution_count": null,
      "outputs": [
        {
          "output_type": "execute_result",
          "data": {
            "text/plain": [
              "Pipeline(steps=[('preprocessor',\n",
              "                 ColumnTransformer(transformers=[('num',\n",
              "                                                  Pipeline(steps=[('imputer',\n",
              "                                                                   SimpleImputer()),\n",
              "                                                                  ('scaler',\n",
              "                                                                   StandardScaler())]),\n",
              "                                                  ['gender', 'idg', 'condtn',\n",
              "                                                   'wave', 'round', 'position',\n",
              "                                                   'positin1', 'order',\n",
              "                                                   'partner', 'pid', 'int_corr',\n",
              "                                                   'samerace', 'age_o',\n",
              "                                                   'race_o', 'pf_o_att',\n",
              "                                                   'pf_o_sin', 'pf_o_int',\n",
              "                                                   'pf_o_fun', 'pf_o_amb',\n",
              "                                                   'pf_o_sha', 'attr_o',\n",
              "                                                   'sinc...\n",
              "                               feature_types=None, gamma=None, gpu_id=None,\n",
              "                               grow_policy=None, importance_type=None,\n",
              "                               interaction_constraints=None, learning_rate=0.02,\n",
              "                               max_bin=None, max_cat_threshold=None,\n",
              "                               max_cat_to_onehot=None, max_delta_step=None,\n",
              "                               max_depth=13, max_leaves=None,\n",
              "                               min_child_weight=None, missing=nan,\n",
              "                               monotone_constraints=None, n_estimators=600,\n",
              "                               n_jobs=None, num_parallel_tree=None,\n",
              "                               predictor=None, random_state=None, ...))])"
            ],
            "text/html": [
              "<style>#sk-container-id-1 {color: black;background-color: white;}#sk-container-id-1 pre{padding: 0;}#sk-container-id-1 div.sk-toggleable {background-color: white;}#sk-container-id-1 label.sk-toggleable__label {cursor: pointer;display: block;width: 100%;margin-bottom: 0;padding: 0.3em;box-sizing: border-box;text-align: center;}#sk-container-id-1 label.sk-toggleable__label-arrow:before {content: \"▸\";float: left;margin-right: 0.25em;color: #696969;}#sk-container-id-1 label.sk-toggleable__label-arrow:hover:before {color: black;}#sk-container-id-1 div.sk-estimator:hover label.sk-toggleable__label-arrow:before {color: black;}#sk-container-id-1 div.sk-toggleable__content {max-height: 0;max-width: 0;overflow: hidden;text-align: left;background-color: #f0f8ff;}#sk-container-id-1 div.sk-toggleable__content pre {margin: 0.2em;color: black;border-radius: 0.25em;background-color: #f0f8ff;}#sk-container-id-1 input.sk-toggleable__control:checked~div.sk-toggleable__content {max-height: 200px;max-width: 100%;overflow: auto;}#sk-container-id-1 input.sk-toggleable__control:checked~label.sk-toggleable__label-arrow:before {content: \"▾\";}#sk-container-id-1 div.sk-estimator input.sk-toggleable__control:checked~label.sk-toggleable__label {background-color: #d4ebff;}#sk-container-id-1 div.sk-label input.sk-toggleable__control:checked~label.sk-toggleable__label {background-color: #d4ebff;}#sk-container-id-1 input.sk-hidden--visually {border: 0;clip: rect(1px 1px 1px 1px);clip: rect(1px, 1px, 1px, 1px);height: 1px;margin: -1px;overflow: hidden;padding: 0;position: absolute;width: 1px;}#sk-container-id-1 div.sk-estimator {font-family: monospace;background-color: #f0f8ff;border: 1px dotted black;border-radius: 0.25em;box-sizing: border-box;margin-bottom: 0.5em;}#sk-container-id-1 div.sk-estimator:hover {background-color: #d4ebff;}#sk-container-id-1 div.sk-parallel-item::after {content: \"\";width: 100%;border-bottom: 1px solid gray;flex-grow: 1;}#sk-container-id-1 div.sk-label:hover label.sk-toggleable__label {background-color: #d4ebff;}#sk-container-id-1 div.sk-serial::before {content: \"\";position: absolute;border-left: 1px solid gray;box-sizing: border-box;top: 0;bottom: 0;left: 50%;z-index: 0;}#sk-container-id-1 div.sk-serial {display: flex;flex-direction: column;align-items: center;background-color: white;padding-right: 0.2em;padding-left: 0.2em;position: relative;}#sk-container-id-1 div.sk-item {position: relative;z-index: 1;}#sk-container-id-1 div.sk-parallel {display: flex;align-items: stretch;justify-content: center;background-color: white;position: relative;}#sk-container-id-1 div.sk-item::before, #sk-container-id-1 div.sk-parallel-item::before {content: \"\";position: absolute;border-left: 1px solid gray;box-sizing: border-box;top: 0;bottom: 0;left: 50%;z-index: -1;}#sk-container-id-1 div.sk-parallel-item {display: flex;flex-direction: column;z-index: 1;position: relative;background-color: white;}#sk-container-id-1 div.sk-parallel-item:first-child::after {align-self: flex-end;width: 50%;}#sk-container-id-1 div.sk-parallel-item:last-child::after {align-self: flex-start;width: 50%;}#sk-container-id-1 div.sk-parallel-item:only-child::after {width: 0;}#sk-container-id-1 div.sk-dashed-wrapped {border: 1px dashed gray;margin: 0 0.4em 0.5em 0.4em;box-sizing: border-box;padding-bottom: 0.4em;background-color: white;}#sk-container-id-1 div.sk-label label {font-family: monospace;font-weight: bold;display: inline-block;line-height: 1.2em;}#sk-container-id-1 div.sk-label-container {text-align: center;}#sk-container-id-1 div.sk-container {/* jupyter's `normalize.less` sets `[hidden] { display: none; }` but bootstrap.min.css set `[hidden] { display: none !important; }` so we also need the `!important` here to be able to override the default hidden behavior on the sphinx rendered scikit-learn.org. See: https://github.com/scikit-learn/scikit-learn/issues/21755 */display: inline-block !important;position: relative;}#sk-container-id-1 div.sk-text-repr-fallback {display: none;}</style><div id=\"sk-container-id-1\" class=\"sk-top-container\"><div class=\"sk-text-repr-fallback\"><pre>Pipeline(steps=[(&#x27;preprocessor&#x27;,\n",
              "                 ColumnTransformer(transformers=[(&#x27;num&#x27;,\n",
              "                                                  Pipeline(steps=[(&#x27;imputer&#x27;,\n",
              "                                                                   SimpleImputer()),\n",
              "                                                                  (&#x27;scaler&#x27;,\n",
              "                                                                   StandardScaler())]),\n",
              "                                                  [&#x27;gender&#x27;, &#x27;idg&#x27;, &#x27;condtn&#x27;,\n",
              "                                                   &#x27;wave&#x27;, &#x27;round&#x27;, &#x27;position&#x27;,\n",
              "                                                   &#x27;positin1&#x27;, &#x27;order&#x27;,\n",
              "                                                   &#x27;partner&#x27;, &#x27;pid&#x27;, &#x27;int_corr&#x27;,\n",
              "                                                   &#x27;samerace&#x27;, &#x27;age_o&#x27;,\n",
              "                                                   &#x27;race_o&#x27;, &#x27;pf_o_att&#x27;,\n",
              "                                                   &#x27;pf_o_sin&#x27;, &#x27;pf_o_int&#x27;,\n",
              "                                                   &#x27;pf_o_fun&#x27;, &#x27;pf_o_amb&#x27;,\n",
              "                                                   &#x27;pf_o_sha&#x27;, &#x27;attr_o&#x27;,\n",
              "                                                   &#x27;sinc...\n",
              "                               feature_types=None, gamma=None, gpu_id=None,\n",
              "                               grow_policy=None, importance_type=None,\n",
              "                               interaction_constraints=None, learning_rate=0.02,\n",
              "                               max_bin=None, max_cat_threshold=None,\n",
              "                               max_cat_to_onehot=None, max_delta_step=None,\n",
              "                               max_depth=13, max_leaves=None,\n",
              "                               min_child_weight=None, missing=nan,\n",
              "                               monotone_constraints=None, n_estimators=600,\n",
              "                               n_jobs=None, num_parallel_tree=None,\n",
              "                               predictor=None, random_state=None, ...))])</pre><b>In a Jupyter environment, please rerun this cell to show the HTML representation or trust the notebook. <br />On GitHub, the HTML representation is unable to render, please try loading this page with nbviewer.org.</b></div><div class=\"sk-container\" hidden><div class=\"sk-item sk-dashed-wrapped\"><div class=\"sk-label-container\"><div class=\"sk-label sk-toggleable\"><input class=\"sk-toggleable__control sk-hidden--visually\" id=\"sk-estimator-id-1\" type=\"checkbox\" ><label for=\"sk-estimator-id-1\" class=\"sk-toggleable__label sk-toggleable__label-arrow\">Pipeline</label><div class=\"sk-toggleable__content\"><pre>Pipeline(steps=[(&#x27;preprocessor&#x27;,\n",
              "                 ColumnTransformer(transformers=[(&#x27;num&#x27;,\n",
              "                                                  Pipeline(steps=[(&#x27;imputer&#x27;,\n",
              "                                                                   SimpleImputer()),\n",
              "                                                                  (&#x27;scaler&#x27;,\n",
              "                                                                   StandardScaler())]),\n",
              "                                                  [&#x27;gender&#x27;, &#x27;idg&#x27;, &#x27;condtn&#x27;,\n",
              "                                                   &#x27;wave&#x27;, &#x27;round&#x27;, &#x27;position&#x27;,\n",
              "                                                   &#x27;positin1&#x27;, &#x27;order&#x27;,\n",
              "                                                   &#x27;partner&#x27;, &#x27;pid&#x27;, &#x27;int_corr&#x27;,\n",
              "                                                   &#x27;samerace&#x27;, &#x27;age_o&#x27;,\n",
              "                                                   &#x27;race_o&#x27;, &#x27;pf_o_att&#x27;,\n",
              "                                                   &#x27;pf_o_sin&#x27;, &#x27;pf_o_int&#x27;,\n",
              "                                                   &#x27;pf_o_fun&#x27;, &#x27;pf_o_amb&#x27;,\n",
              "                                                   &#x27;pf_o_sha&#x27;, &#x27;attr_o&#x27;,\n",
              "                                                   &#x27;sinc...\n",
              "                               feature_types=None, gamma=None, gpu_id=None,\n",
              "                               grow_policy=None, importance_type=None,\n",
              "                               interaction_constraints=None, learning_rate=0.02,\n",
              "                               max_bin=None, max_cat_threshold=None,\n",
              "                               max_cat_to_onehot=None, max_delta_step=None,\n",
              "                               max_depth=13, max_leaves=None,\n",
              "                               min_child_weight=None, missing=nan,\n",
              "                               monotone_constraints=None, n_estimators=600,\n",
              "                               n_jobs=None, num_parallel_tree=None,\n",
              "                               predictor=None, random_state=None, ...))])</pre></div></div></div><div class=\"sk-serial\"><div class=\"sk-item sk-dashed-wrapped\"><div class=\"sk-label-container\"><div class=\"sk-label sk-toggleable\"><input class=\"sk-toggleable__control sk-hidden--visually\" id=\"sk-estimator-id-2\" type=\"checkbox\" ><label for=\"sk-estimator-id-2\" class=\"sk-toggleable__label sk-toggleable__label-arrow\">preprocessor: ColumnTransformer</label><div class=\"sk-toggleable__content\"><pre>ColumnTransformer(transformers=[(&#x27;num&#x27;,\n",
              "                                 Pipeline(steps=[(&#x27;imputer&#x27;, SimpleImputer()),\n",
              "                                                 (&#x27;scaler&#x27;, StandardScaler())]),\n",
              "                                 [&#x27;gender&#x27;, &#x27;idg&#x27;, &#x27;condtn&#x27;, &#x27;wave&#x27;, &#x27;round&#x27;,\n",
              "                                  &#x27;position&#x27;, &#x27;positin1&#x27;, &#x27;order&#x27;, &#x27;partner&#x27;,\n",
              "                                  &#x27;pid&#x27;, &#x27;int_corr&#x27;, &#x27;samerace&#x27;, &#x27;age_o&#x27;,\n",
              "                                  &#x27;race_o&#x27;, &#x27;pf_o_att&#x27;, &#x27;pf_o_sin&#x27;, &#x27;pf_o_int&#x27;,\n",
              "                                  &#x27;pf_o_fun&#x27;, &#x27;pf_o_amb&#x27;, &#x27;pf_o_sha&#x27;, &#x27;attr_o&#x27;,\n",
              "                                  &#x27;sinc_o&#x27;, &#x27;intel_o&#x27;, &#x27;fun_o&#x27;, &#x27;amb_o&#x27;,\n",
              "                                  &#x27;shar_o&#x27;, &#x27;like_o&#x27;, &#x27;prob_o&#x27;, &#x27;met_o&#x27;, &#x27;age&#x27;, ...]),\n",
              "                                (&#x27;cat&#x27;,\n",
              "                                 Pipeline(steps=[(&#x27;imputer&#x27;,\n",
              "                                                  SimpleImputer(strategy=&#x27;constant&#x27;)),\n",
              "                                                 (&#x27;onehot&#x27;,\n",
              "                                                  OneHotEncoder(handle_unknown=&#x27;ignore&#x27;))]),\n",
              "                                 [&#x27;field&#x27;, &#x27;from&#x27;, &#x27;income&#x27;, &#x27;career&#x27;])])</pre></div></div></div><div class=\"sk-parallel\"><div class=\"sk-parallel-item\"><div class=\"sk-item\"><div class=\"sk-label-container\"><div class=\"sk-label sk-toggleable\"><input class=\"sk-toggleable__control sk-hidden--visually\" id=\"sk-estimator-id-3\" type=\"checkbox\" ><label for=\"sk-estimator-id-3\" class=\"sk-toggleable__label sk-toggleable__label-arrow\">num</label><div class=\"sk-toggleable__content\"><pre>[&#x27;gender&#x27;, &#x27;idg&#x27;, &#x27;condtn&#x27;, &#x27;wave&#x27;, &#x27;round&#x27;, &#x27;position&#x27;, &#x27;positin1&#x27;, &#x27;order&#x27;, &#x27;partner&#x27;, &#x27;pid&#x27;, &#x27;int_corr&#x27;, &#x27;samerace&#x27;, &#x27;age_o&#x27;, &#x27;race_o&#x27;, &#x27;pf_o_att&#x27;, &#x27;pf_o_sin&#x27;, &#x27;pf_o_int&#x27;, &#x27;pf_o_fun&#x27;, &#x27;pf_o_amb&#x27;, &#x27;pf_o_sha&#x27;, &#x27;attr_o&#x27;, &#x27;sinc_o&#x27;, &#x27;intel_o&#x27;, &#x27;fun_o&#x27;, &#x27;amb_o&#x27;, &#x27;shar_o&#x27;, &#x27;like_o&#x27;, &#x27;prob_o&#x27;, &#x27;met_o&#x27;, &#x27;age&#x27;, &#x27;field_cd&#x27;, &#x27;race&#x27;, &#x27;imprace&#x27;, &#x27;imprelig&#x27;, &#x27;goal&#x27;, &#x27;date&#x27;, &#x27;go_out&#x27;, &#x27;career_c&#x27;, &#x27;sports&#x27;, &#x27;tvsports&#x27;, &#x27;exercise&#x27;, &#x27;dining&#x27;, &#x27;museums&#x27;, &#x27;art&#x27;, &#x27;hiking&#x27;, &#x27;gaming&#x27;, &#x27;clubbing&#x27;, &#x27;reading&#x27;, &#x27;tv&#x27;, &#x27;theater&#x27;, &#x27;movies&#x27;, &#x27;concerts&#x27;, &#x27;music&#x27;, &#x27;shopping&#x27;, &#x27;yoga&#x27;, &#x27;exphappy&#x27;, &#x27;attr1_1&#x27;, &#x27;sinc1_1&#x27;, &#x27;intel1_1&#x27;, &#x27;fun1_1&#x27;, &#x27;amb1_1&#x27;, &#x27;shar1_1&#x27;, &#x27;attr4_1&#x27;, &#x27;sinc4_1&#x27;, &#x27;intel4_1&#x27;, &#x27;fun4_1&#x27;, &#x27;amb4_1&#x27;, &#x27;shar4_1&#x27;, &#x27;attr2_1&#x27;, &#x27;sinc2_1&#x27;, &#x27;intel2_1&#x27;, &#x27;fun2_1&#x27;, &#x27;amb2_1&#x27;, &#x27;shar2_1&#x27;, &#x27;attr3_1&#x27;, &#x27;sinc3_1&#x27;, &#x27;fun3_1&#x27;, &#x27;intel3_1&#x27;, &#x27;amb3_1&#x27;, &#x27;attr5_1&#x27;, &#x27;sinc5_1&#x27;, &#x27;intel5_1&#x27;, &#x27;fun5_1&#x27;, &#x27;amb5_1&#x27;, &#x27;attr&#x27;, &#x27;sinc&#x27;, &#x27;intel&#x27;, &#x27;fun&#x27;, &#x27;amb&#x27;, &#x27;shar&#x27;, &#x27;like&#x27;, &#x27;prob&#x27;, &#x27;met&#x27;, &#x27;match_es&#x27;, &#x27;satis_2&#x27;, &#x27;length&#x27;, &#x27;numdat_2&#x27;, &#x27;attr1_2&#x27;, &#x27;sinc1_2&#x27;, &#x27;intel1_2&#x27;, &#x27;fun1_2&#x27;, &#x27;amb1_2&#x27;, &#x27;shar1_2&#x27;, &#x27;attr4_2&#x27;, &#x27;sinc4_2&#x27;, &#x27;intel4_2&#x27;, &#x27;fun4_2&#x27;, &#x27;amb4_2&#x27;, &#x27;shar4_2&#x27;, &#x27;attr2_2&#x27;, &#x27;sinc2_2&#x27;, &#x27;intel2_2&#x27;, &#x27;fun2_2&#x27;, &#x27;amb2_2&#x27;, &#x27;shar2_2&#x27;, &#x27;attr3_2&#x27;, &#x27;sinc3_2&#x27;, &#x27;intel3_2&#x27;, &#x27;fun3_2&#x27;, &#x27;amb3_2&#x27;, &#x27;attr5_2&#x27;, &#x27;sinc5_2&#x27;, &#x27;id&#x27;]</pre></div></div></div><div class=\"sk-serial\"><div class=\"sk-item\"><div class=\"sk-serial\"><div class=\"sk-item\"><div class=\"sk-estimator sk-toggleable\"><input class=\"sk-toggleable__control sk-hidden--visually\" id=\"sk-estimator-id-4\" type=\"checkbox\" ><label for=\"sk-estimator-id-4\" class=\"sk-toggleable__label sk-toggleable__label-arrow\">SimpleImputer</label><div class=\"sk-toggleable__content\"><pre>SimpleImputer()</pre></div></div></div><div class=\"sk-item\"><div class=\"sk-estimator sk-toggleable\"><input class=\"sk-toggleable__control sk-hidden--visually\" id=\"sk-estimator-id-5\" type=\"checkbox\" ><label for=\"sk-estimator-id-5\" class=\"sk-toggleable__label sk-toggleable__label-arrow\">StandardScaler</label><div class=\"sk-toggleable__content\"><pre>StandardScaler()</pre></div></div></div></div></div></div></div></div><div class=\"sk-parallel-item\"><div class=\"sk-item\"><div class=\"sk-label-container\"><div class=\"sk-label sk-toggleable\"><input class=\"sk-toggleable__control sk-hidden--visually\" id=\"sk-estimator-id-6\" type=\"checkbox\" ><label for=\"sk-estimator-id-6\" class=\"sk-toggleable__label sk-toggleable__label-arrow\">cat</label><div class=\"sk-toggleable__content\"><pre>[&#x27;field&#x27;, &#x27;from&#x27;, &#x27;income&#x27;, &#x27;career&#x27;]</pre></div></div></div><div class=\"sk-serial\"><div class=\"sk-item\"><div class=\"sk-serial\"><div class=\"sk-item\"><div class=\"sk-estimator sk-toggleable\"><input class=\"sk-toggleable__control sk-hidden--visually\" id=\"sk-estimator-id-7\" type=\"checkbox\" ><label for=\"sk-estimator-id-7\" class=\"sk-toggleable__label sk-toggleable__label-arrow\">SimpleImputer</label><div class=\"sk-toggleable__content\"><pre>SimpleImputer(strategy=&#x27;constant&#x27;)</pre></div></div></div><div class=\"sk-item\"><div class=\"sk-estimator sk-toggleable\"><input class=\"sk-toggleable__control sk-hidden--visually\" id=\"sk-estimator-id-8\" type=\"checkbox\" ><label for=\"sk-estimator-id-8\" class=\"sk-toggleable__label sk-toggleable__label-arrow\">OneHotEncoder</label><div class=\"sk-toggleable__content\"><pre>OneHotEncoder(handle_unknown=&#x27;ignore&#x27;)</pre></div></div></div></div></div></div></div></div></div></div><div class=\"sk-item\"><div class=\"sk-estimator sk-toggleable\"><input class=\"sk-toggleable__control sk-hidden--visually\" id=\"sk-estimator-id-9\" type=\"checkbox\" ><label for=\"sk-estimator-id-9\" class=\"sk-toggleable__label sk-toggleable__label-arrow\">XGBClassifier</label><div class=\"sk-toggleable__content\"><pre>XGBClassifier(base_score=None, booster=None, callbacks=None,\n",
              "              colsample_bylevel=None, colsample_bynode=None,\n",
              "              colsample_bytree=0.4, early_stopping_rounds=None,\n",
              "              enable_categorical=False, eval_metric=None, feature_types=None,\n",
              "              gamma=None, gpu_id=None, grow_policy=None, importance_type=None,\n",
              "              interaction_constraints=None, learning_rate=0.02, max_bin=None,\n",
              "              max_cat_threshold=None, max_cat_to_onehot=None,\n",
              "              max_delta_step=None, max_depth=13, max_leaves=None,\n",
              "              min_child_weight=None, missing=nan, monotone_constraints=None,\n",
              "              n_estimators=600, n_jobs=None, num_parallel_tree=None,\n",
              "              predictor=None, random_state=None, ...)</pre></div></div></div></div></div></div></div>"
            ]
          },
          "metadata": {},
          "execution_count": 31
        }
      ]
    },
    {
      "cell_type": "code",
      "source": [
        "# here we specify the search space\n",
        "# `__` denotes an attribute of the preceeding name\n",
        "# (e.g. my_classifier__n_estimators means the `n_estimators` param for `my_classifier`)\n",
        "param_grid = {\n",
        "    'preprocessor__num__imputer__strategy': ['mean'],\n",
        "    # preprocessor__num__imputer__strategy points to preprocessor->num (a Pipeline)-> imputer -> strategy\n",
        "    'my_classifier__n_estimators': [600, 800, 200],  \n",
        "     # my_classifier__n_estimators points to my_classifier->n_estimators \n",
        "    'my_classifier__max_depth':[5, 8, 10]       \n",
        "}\n",
        "\n",
        "# cv=10 means ten-fold cross-validation\n",
        "# n_jobs means the cucurrent number of jobs\n",
        "# (on colab since we only have two cpu cores, we set it to 2)\n",
        "grid_search_dt = GridSearchCV(\n",
        "    full_pipline_dt, param_grid, cv=10, verbose=1, n_jobs=-1, \n",
        "    scoring='roc_auc')\n",
        "\n",
        "grid_search_dt.fit(X_train, y_train)\n",
        "\n",
        "print('best score {}'.format(grid_search_dt.best_score_))\n",
        "print('best score {}'.format(grid_search_dt.best_params_))"
      ],
      "metadata": {
        "colab": {
          "base_uri": "https://localhost:8080/"
        },
        "outputId": "58d51150-4984-4d3b-9faa-43d55dbb9ef5",
        "id": "nOEZSG38fLY4"
      },
      "execution_count": null,
      "outputs": [
        {
          "output_type": "stream",
          "name": "stdout",
          "text": [
            "Fitting 10 folds for each of 9 candidates, totalling 90 fits\n",
            "best score 0.8775470518900448\n",
            "best score {'my_classifier__max_depth': 8, 'my_classifier__n_estimators': 200, 'preprocessor__num__imputer__strategy': 'mean'}\n"
          ]
        }
      ]
    },
    {
      "cell_type": "code",
      "source": [
        "# the resulting model is the same pipeline with the best hyperparameters\n",
        "# trained on the full training set. we can use it directly\n",
        "grid_search_dt.predict(X_VAL)"
      ],
      "metadata": {
        "id": "7Dux7S6AfPXN"
      },
      "execution_count": null,
      "outputs": []
    },
    {
      "cell_type": "markdown",
      "source": [
        "## Trial 3"
      ],
      "metadata": {
        "id": "VOFVIhx4eF8G"
      }
    },
    {
      "cell_type": "markdown",
      "source": [
        "### Third time(trial) to tune with Grid Search with RandomForestClassifier model with different hyperparameter\n",
        "- ' preprocessor__num__imputer__strategy '=mean\n",
        "- ' my_classifier__n_estimators ':[60, 80, 100]\n",
        "- ' my_classifier__max_depth ': [5, 8, 10]"
      ],
      "metadata": {
        "id": "rysnVJIyEvvm"
      }
    },
    {
      "cell_type": "code",
      "source": [
        "import numpy as np\n",
        "from sklearn.compose import ColumnTransformer\n",
        "from sklearn.datasets import fetch_openml\n",
        "from sklearn.pipeline import Pipeline\n",
        "from sklearn.impute import SimpleImputer\n",
        "from sklearn.preprocessing import StandardScaler, OneHotEncoder\n",
        "from sklearn.linear_model import LogisticRegression\n",
        "from sklearn.ensemble import RandomForestClassifier\n",
        "from sklearn.model_selection import train_test_split, GridSearchCV\n",
        "from xgboost.sklearn import XGBClassifier\n",
        "\n",
        "np.random.seed(0)\n",
        "\n",
        "# define a pipe line for numeric feature preprocessing\n",
        "# we gave them a name so we can set their hyperparameters\n",
        "transformer_numeric = Pipeline(\n",
        "    steps=[\n",
        "        ('imputer', SimpleImputer()),\n",
        "        ('scaler', StandardScaler())]\n",
        ")\n",
        "\n",
        "# define a pipe line for categorical feature preprocessing\n",
        "# we gave them a name so we can set their hyperparameters\n",
        "transformer_categorical = Pipeline(\n",
        "    steps=[\n",
        "        ('imputer', SimpleImputer(strategy='constant')),\n",
        "        ('onehot', OneHotEncoder(handle_unknown='ignore'))\n",
        "    ]\n",
        ")\n",
        "# define the preprocessor \n",
        "# we gave them a name so we can set their hyperparameters\n",
        "# we also specify what are the categorical \n",
        "preprocessor = ColumnTransformer(\n",
        "    transformers=[\n",
        "        ('num', transformer_numeric, features_numeric),\n",
        "        ('cat', transformer_categorical, features_categorical)\n",
        "    ]\n",
        ")\n",
        "\n",
        "# combine the preprocessor with the model as a full tunable pipeline\n",
        "# we gave them a name so we can set their hyperparameters\n",
        "full_pipline_2 = Pipeline(\n",
        "    steps=[\n",
        "        ('preprocessor', preprocessor),\n",
        "        ('my_classifier', RandomForestClassifier()\n",
        "        )\n",
        "    ]\n",
        ")\n",
        "full_pipline_2"
      ],
      "metadata": {
        "colab": {
          "base_uri": "https://localhost:8080/",
          "height": 227
        },
        "outputId": "d0ba8307-ca14-4e05-dd11-694686e064f8",
        "id": "jxzuuI2wC_t6"
      },
      "execution_count": null,
      "outputs": [
        {
          "output_type": "execute_result",
          "data": {
            "text/plain": [
              "Pipeline(steps=[('preprocessor',\n",
              "                 ColumnTransformer(transformers=[('num',\n",
              "                                                  Pipeline(steps=[('imputer',\n",
              "                                                                   SimpleImputer()),\n",
              "                                                                  ('scaler',\n",
              "                                                                   StandardScaler())]),\n",
              "                                                  ['gender', 'idg', 'condtn',\n",
              "                                                   'wave', 'round', 'position',\n",
              "                                                   'positin1', 'order',\n",
              "                                                   'partner', 'pid', 'int_corr',\n",
              "                                                   'samerace', 'age_o',\n",
              "                                                   'race_o', 'pf_o_att',\n",
              "                                                   'pf_o_sin', 'pf_o_int',\n",
              "                                                   'pf_o_fun', 'pf_o_amb',\n",
              "                                                   'pf_o_sha', 'attr_o',\n",
              "                                                   'sinc...\n",
              "                               feature_types=None, gamma=None, gpu_id=None,\n",
              "                               grow_policy=None, importance_type=None,\n",
              "                               interaction_constraints=None, learning_rate=0.02,\n",
              "                               max_bin=None, max_cat_threshold=None,\n",
              "                               max_cat_to_onehot=None, max_delta_step=None,\n",
              "                               max_depth=13, max_leaves=None,\n",
              "                               min_child_weight=None, missing=nan,\n",
              "                               monotone_constraints=None, n_estimators=600,\n",
              "                               n_jobs=None, num_parallel_tree=None,\n",
              "                               predictor=None, random_state=None, ...))])"
            ],
            "text/html": [
              "<style>#sk-container-id-1 {color: black;background-color: white;}#sk-container-id-1 pre{padding: 0;}#sk-container-id-1 div.sk-toggleable {background-color: white;}#sk-container-id-1 label.sk-toggleable__label {cursor: pointer;display: block;width: 100%;margin-bottom: 0;padding: 0.3em;box-sizing: border-box;text-align: center;}#sk-container-id-1 label.sk-toggleable__label-arrow:before {content: \"▸\";float: left;margin-right: 0.25em;color: #696969;}#sk-container-id-1 label.sk-toggleable__label-arrow:hover:before {color: black;}#sk-container-id-1 div.sk-estimator:hover label.sk-toggleable__label-arrow:before {color: black;}#sk-container-id-1 div.sk-toggleable__content {max-height: 0;max-width: 0;overflow: hidden;text-align: left;background-color: #f0f8ff;}#sk-container-id-1 div.sk-toggleable__content pre {margin: 0.2em;color: black;border-radius: 0.25em;background-color: #f0f8ff;}#sk-container-id-1 input.sk-toggleable__control:checked~div.sk-toggleable__content {max-height: 200px;max-width: 100%;overflow: auto;}#sk-container-id-1 input.sk-toggleable__control:checked~label.sk-toggleable__label-arrow:before {content: \"▾\";}#sk-container-id-1 div.sk-estimator input.sk-toggleable__control:checked~label.sk-toggleable__label {background-color: #d4ebff;}#sk-container-id-1 div.sk-label input.sk-toggleable__control:checked~label.sk-toggleable__label {background-color: #d4ebff;}#sk-container-id-1 input.sk-hidden--visually {border: 0;clip: rect(1px 1px 1px 1px);clip: rect(1px, 1px, 1px, 1px);height: 1px;margin: -1px;overflow: hidden;padding: 0;position: absolute;width: 1px;}#sk-container-id-1 div.sk-estimator {font-family: monospace;background-color: #f0f8ff;border: 1px dotted black;border-radius: 0.25em;box-sizing: border-box;margin-bottom: 0.5em;}#sk-container-id-1 div.sk-estimator:hover {background-color: #d4ebff;}#sk-container-id-1 div.sk-parallel-item::after {content: \"\";width: 100%;border-bottom: 1px solid gray;flex-grow: 1;}#sk-container-id-1 div.sk-label:hover label.sk-toggleable__label {background-color: #d4ebff;}#sk-container-id-1 div.sk-serial::before {content: \"\";position: absolute;border-left: 1px solid gray;box-sizing: border-box;top: 0;bottom: 0;left: 50%;z-index: 0;}#sk-container-id-1 div.sk-serial {display: flex;flex-direction: column;align-items: center;background-color: white;padding-right: 0.2em;padding-left: 0.2em;position: relative;}#sk-container-id-1 div.sk-item {position: relative;z-index: 1;}#sk-container-id-1 div.sk-parallel {display: flex;align-items: stretch;justify-content: center;background-color: white;position: relative;}#sk-container-id-1 div.sk-item::before, #sk-container-id-1 div.sk-parallel-item::before {content: \"\";position: absolute;border-left: 1px solid gray;box-sizing: border-box;top: 0;bottom: 0;left: 50%;z-index: -1;}#sk-container-id-1 div.sk-parallel-item {display: flex;flex-direction: column;z-index: 1;position: relative;background-color: white;}#sk-container-id-1 div.sk-parallel-item:first-child::after {align-self: flex-end;width: 50%;}#sk-container-id-1 div.sk-parallel-item:last-child::after {align-self: flex-start;width: 50%;}#sk-container-id-1 div.sk-parallel-item:only-child::after {width: 0;}#sk-container-id-1 div.sk-dashed-wrapped {border: 1px dashed gray;margin: 0 0.4em 0.5em 0.4em;box-sizing: border-box;padding-bottom: 0.4em;background-color: white;}#sk-container-id-1 div.sk-label label {font-family: monospace;font-weight: bold;display: inline-block;line-height: 1.2em;}#sk-container-id-1 div.sk-label-container {text-align: center;}#sk-container-id-1 div.sk-container {/* jupyter's `normalize.less` sets `[hidden] { display: none; }` but bootstrap.min.css set `[hidden] { display: none !important; }` so we also need the `!important` here to be able to override the default hidden behavior on the sphinx rendered scikit-learn.org. See: https://github.com/scikit-learn/scikit-learn/issues/21755 */display: inline-block !important;position: relative;}#sk-container-id-1 div.sk-text-repr-fallback {display: none;}</style><div id=\"sk-container-id-1\" class=\"sk-top-container\"><div class=\"sk-text-repr-fallback\"><pre>Pipeline(steps=[(&#x27;preprocessor&#x27;,\n",
              "                 ColumnTransformer(transformers=[(&#x27;num&#x27;,\n",
              "                                                  Pipeline(steps=[(&#x27;imputer&#x27;,\n",
              "                                                                   SimpleImputer()),\n",
              "                                                                  (&#x27;scaler&#x27;,\n",
              "                                                                   StandardScaler())]),\n",
              "                                                  [&#x27;gender&#x27;, &#x27;idg&#x27;, &#x27;condtn&#x27;,\n",
              "                                                   &#x27;wave&#x27;, &#x27;round&#x27;, &#x27;position&#x27;,\n",
              "                                                   &#x27;positin1&#x27;, &#x27;order&#x27;,\n",
              "                                                   &#x27;partner&#x27;, &#x27;pid&#x27;, &#x27;int_corr&#x27;,\n",
              "                                                   &#x27;samerace&#x27;, &#x27;age_o&#x27;,\n",
              "                                                   &#x27;race_o&#x27;, &#x27;pf_o_att&#x27;,\n",
              "                                                   &#x27;pf_o_sin&#x27;, &#x27;pf_o_int&#x27;,\n",
              "                                                   &#x27;pf_o_fun&#x27;, &#x27;pf_o_amb&#x27;,\n",
              "                                                   &#x27;pf_o_sha&#x27;, &#x27;attr_o&#x27;,\n",
              "                                                   &#x27;sinc...\n",
              "                               feature_types=None, gamma=None, gpu_id=None,\n",
              "                               grow_policy=None, importance_type=None,\n",
              "                               interaction_constraints=None, learning_rate=0.02,\n",
              "                               max_bin=None, max_cat_threshold=None,\n",
              "                               max_cat_to_onehot=None, max_delta_step=None,\n",
              "                               max_depth=13, max_leaves=None,\n",
              "                               min_child_weight=None, missing=nan,\n",
              "                               monotone_constraints=None, n_estimators=600,\n",
              "                               n_jobs=None, num_parallel_tree=None,\n",
              "                               predictor=None, random_state=None, ...))])</pre><b>In a Jupyter environment, please rerun this cell to show the HTML representation or trust the notebook. <br />On GitHub, the HTML representation is unable to render, please try loading this page with nbviewer.org.</b></div><div class=\"sk-container\" hidden><div class=\"sk-item sk-dashed-wrapped\"><div class=\"sk-label-container\"><div class=\"sk-label sk-toggleable\"><input class=\"sk-toggleable__control sk-hidden--visually\" id=\"sk-estimator-id-1\" type=\"checkbox\" ><label for=\"sk-estimator-id-1\" class=\"sk-toggleable__label sk-toggleable__label-arrow\">Pipeline</label><div class=\"sk-toggleable__content\"><pre>Pipeline(steps=[(&#x27;preprocessor&#x27;,\n",
              "                 ColumnTransformer(transformers=[(&#x27;num&#x27;,\n",
              "                                                  Pipeline(steps=[(&#x27;imputer&#x27;,\n",
              "                                                                   SimpleImputer()),\n",
              "                                                                  (&#x27;scaler&#x27;,\n",
              "                                                                   StandardScaler())]),\n",
              "                                                  [&#x27;gender&#x27;, &#x27;idg&#x27;, &#x27;condtn&#x27;,\n",
              "                                                   &#x27;wave&#x27;, &#x27;round&#x27;, &#x27;position&#x27;,\n",
              "                                                   &#x27;positin1&#x27;, &#x27;order&#x27;,\n",
              "                                                   &#x27;partner&#x27;, &#x27;pid&#x27;, &#x27;int_corr&#x27;,\n",
              "                                                   &#x27;samerace&#x27;, &#x27;age_o&#x27;,\n",
              "                                                   &#x27;race_o&#x27;, &#x27;pf_o_att&#x27;,\n",
              "                                                   &#x27;pf_o_sin&#x27;, &#x27;pf_o_int&#x27;,\n",
              "                                                   &#x27;pf_o_fun&#x27;, &#x27;pf_o_amb&#x27;,\n",
              "                                                   &#x27;pf_o_sha&#x27;, &#x27;attr_o&#x27;,\n",
              "                                                   &#x27;sinc...\n",
              "                               feature_types=None, gamma=None, gpu_id=None,\n",
              "                               grow_policy=None, importance_type=None,\n",
              "                               interaction_constraints=None, learning_rate=0.02,\n",
              "                               max_bin=None, max_cat_threshold=None,\n",
              "                               max_cat_to_onehot=None, max_delta_step=None,\n",
              "                               max_depth=13, max_leaves=None,\n",
              "                               min_child_weight=None, missing=nan,\n",
              "                               monotone_constraints=None, n_estimators=600,\n",
              "                               n_jobs=None, num_parallel_tree=None,\n",
              "                               predictor=None, random_state=None, ...))])</pre></div></div></div><div class=\"sk-serial\"><div class=\"sk-item sk-dashed-wrapped\"><div class=\"sk-label-container\"><div class=\"sk-label sk-toggleable\"><input class=\"sk-toggleable__control sk-hidden--visually\" id=\"sk-estimator-id-2\" type=\"checkbox\" ><label for=\"sk-estimator-id-2\" class=\"sk-toggleable__label sk-toggleable__label-arrow\">preprocessor: ColumnTransformer</label><div class=\"sk-toggleable__content\"><pre>ColumnTransformer(transformers=[(&#x27;num&#x27;,\n",
              "                                 Pipeline(steps=[(&#x27;imputer&#x27;, SimpleImputer()),\n",
              "                                                 (&#x27;scaler&#x27;, StandardScaler())]),\n",
              "                                 [&#x27;gender&#x27;, &#x27;idg&#x27;, &#x27;condtn&#x27;, &#x27;wave&#x27;, &#x27;round&#x27;,\n",
              "                                  &#x27;position&#x27;, &#x27;positin1&#x27;, &#x27;order&#x27;, &#x27;partner&#x27;,\n",
              "                                  &#x27;pid&#x27;, &#x27;int_corr&#x27;, &#x27;samerace&#x27;, &#x27;age_o&#x27;,\n",
              "                                  &#x27;race_o&#x27;, &#x27;pf_o_att&#x27;, &#x27;pf_o_sin&#x27;, &#x27;pf_o_int&#x27;,\n",
              "                                  &#x27;pf_o_fun&#x27;, &#x27;pf_o_amb&#x27;, &#x27;pf_o_sha&#x27;, &#x27;attr_o&#x27;,\n",
              "                                  &#x27;sinc_o&#x27;, &#x27;intel_o&#x27;, &#x27;fun_o&#x27;, &#x27;amb_o&#x27;,\n",
              "                                  &#x27;shar_o&#x27;, &#x27;like_o&#x27;, &#x27;prob_o&#x27;, &#x27;met_o&#x27;, &#x27;age&#x27;, ...]),\n",
              "                                (&#x27;cat&#x27;,\n",
              "                                 Pipeline(steps=[(&#x27;imputer&#x27;,\n",
              "                                                  SimpleImputer(strategy=&#x27;constant&#x27;)),\n",
              "                                                 (&#x27;onehot&#x27;,\n",
              "                                                  OneHotEncoder(handle_unknown=&#x27;ignore&#x27;))]),\n",
              "                                 [&#x27;field&#x27;, &#x27;from&#x27;, &#x27;income&#x27;, &#x27;career&#x27;])])</pre></div></div></div><div class=\"sk-parallel\"><div class=\"sk-parallel-item\"><div class=\"sk-item\"><div class=\"sk-label-container\"><div class=\"sk-label sk-toggleable\"><input class=\"sk-toggleable__control sk-hidden--visually\" id=\"sk-estimator-id-3\" type=\"checkbox\" ><label for=\"sk-estimator-id-3\" class=\"sk-toggleable__label sk-toggleable__label-arrow\">num</label><div class=\"sk-toggleable__content\"><pre>[&#x27;gender&#x27;, &#x27;idg&#x27;, &#x27;condtn&#x27;, &#x27;wave&#x27;, &#x27;round&#x27;, &#x27;position&#x27;, &#x27;positin1&#x27;, &#x27;order&#x27;, &#x27;partner&#x27;, &#x27;pid&#x27;, &#x27;int_corr&#x27;, &#x27;samerace&#x27;, &#x27;age_o&#x27;, &#x27;race_o&#x27;, &#x27;pf_o_att&#x27;, &#x27;pf_o_sin&#x27;, &#x27;pf_o_int&#x27;, &#x27;pf_o_fun&#x27;, &#x27;pf_o_amb&#x27;, &#x27;pf_o_sha&#x27;, &#x27;attr_o&#x27;, &#x27;sinc_o&#x27;, &#x27;intel_o&#x27;, &#x27;fun_o&#x27;, &#x27;amb_o&#x27;, &#x27;shar_o&#x27;, &#x27;like_o&#x27;, &#x27;prob_o&#x27;, &#x27;met_o&#x27;, &#x27;age&#x27;, &#x27;field_cd&#x27;, &#x27;race&#x27;, &#x27;imprace&#x27;, &#x27;imprelig&#x27;, &#x27;goal&#x27;, &#x27;date&#x27;, &#x27;go_out&#x27;, &#x27;career_c&#x27;, &#x27;sports&#x27;, &#x27;tvsports&#x27;, &#x27;exercise&#x27;, &#x27;dining&#x27;, &#x27;museums&#x27;, &#x27;art&#x27;, &#x27;hiking&#x27;, &#x27;gaming&#x27;, &#x27;clubbing&#x27;, &#x27;reading&#x27;, &#x27;tv&#x27;, &#x27;theater&#x27;, &#x27;movies&#x27;, &#x27;concerts&#x27;, &#x27;music&#x27;, &#x27;shopping&#x27;, &#x27;yoga&#x27;, &#x27;exphappy&#x27;, &#x27;attr1_1&#x27;, &#x27;sinc1_1&#x27;, &#x27;intel1_1&#x27;, &#x27;fun1_1&#x27;, &#x27;amb1_1&#x27;, &#x27;shar1_1&#x27;, &#x27;attr4_1&#x27;, &#x27;sinc4_1&#x27;, &#x27;intel4_1&#x27;, &#x27;fun4_1&#x27;, &#x27;amb4_1&#x27;, &#x27;shar4_1&#x27;, &#x27;attr2_1&#x27;, &#x27;sinc2_1&#x27;, &#x27;intel2_1&#x27;, &#x27;fun2_1&#x27;, &#x27;amb2_1&#x27;, &#x27;shar2_1&#x27;, &#x27;attr3_1&#x27;, &#x27;sinc3_1&#x27;, &#x27;fun3_1&#x27;, &#x27;intel3_1&#x27;, &#x27;amb3_1&#x27;, &#x27;attr5_1&#x27;, &#x27;sinc5_1&#x27;, &#x27;intel5_1&#x27;, &#x27;fun5_1&#x27;, &#x27;amb5_1&#x27;, &#x27;attr&#x27;, &#x27;sinc&#x27;, &#x27;intel&#x27;, &#x27;fun&#x27;, &#x27;amb&#x27;, &#x27;shar&#x27;, &#x27;like&#x27;, &#x27;prob&#x27;, &#x27;met&#x27;, &#x27;match_es&#x27;, &#x27;satis_2&#x27;, &#x27;length&#x27;, &#x27;numdat_2&#x27;, &#x27;attr1_2&#x27;, &#x27;sinc1_2&#x27;, &#x27;intel1_2&#x27;, &#x27;fun1_2&#x27;, &#x27;amb1_2&#x27;, &#x27;shar1_2&#x27;, &#x27;attr4_2&#x27;, &#x27;sinc4_2&#x27;, &#x27;intel4_2&#x27;, &#x27;fun4_2&#x27;, &#x27;amb4_2&#x27;, &#x27;shar4_2&#x27;, &#x27;attr2_2&#x27;, &#x27;sinc2_2&#x27;, &#x27;intel2_2&#x27;, &#x27;fun2_2&#x27;, &#x27;amb2_2&#x27;, &#x27;shar2_2&#x27;, &#x27;attr3_2&#x27;, &#x27;sinc3_2&#x27;, &#x27;intel3_2&#x27;, &#x27;fun3_2&#x27;, &#x27;amb3_2&#x27;, &#x27;attr5_2&#x27;, &#x27;sinc5_2&#x27;, &#x27;id&#x27;]</pre></div></div></div><div class=\"sk-serial\"><div class=\"sk-item\"><div class=\"sk-serial\"><div class=\"sk-item\"><div class=\"sk-estimator sk-toggleable\"><input class=\"sk-toggleable__control sk-hidden--visually\" id=\"sk-estimator-id-4\" type=\"checkbox\" ><label for=\"sk-estimator-id-4\" class=\"sk-toggleable__label sk-toggleable__label-arrow\">SimpleImputer</label><div class=\"sk-toggleable__content\"><pre>SimpleImputer()</pre></div></div></div><div class=\"sk-item\"><div class=\"sk-estimator sk-toggleable\"><input class=\"sk-toggleable__control sk-hidden--visually\" id=\"sk-estimator-id-5\" type=\"checkbox\" ><label for=\"sk-estimator-id-5\" class=\"sk-toggleable__label sk-toggleable__label-arrow\">StandardScaler</label><div class=\"sk-toggleable__content\"><pre>StandardScaler()</pre></div></div></div></div></div></div></div></div><div class=\"sk-parallel-item\"><div class=\"sk-item\"><div class=\"sk-label-container\"><div class=\"sk-label sk-toggleable\"><input class=\"sk-toggleable__control sk-hidden--visually\" id=\"sk-estimator-id-6\" type=\"checkbox\" ><label for=\"sk-estimator-id-6\" class=\"sk-toggleable__label sk-toggleable__label-arrow\">cat</label><div class=\"sk-toggleable__content\"><pre>[&#x27;field&#x27;, &#x27;from&#x27;, &#x27;income&#x27;, &#x27;career&#x27;]</pre></div></div></div><div class=\"sk-serial\"><div class=\"sk-item\"><div class=\"sk-serial\"><div class=\"sk-item\"><div class=\"sk-estimator sk-toggleable\"><input class=\"sk-toggleable__control sk-hidden--visually\" id=\"sk-estimator-id-7\" type=\"checkbox\" ><label for=\"sk-estimator-id-7\" class=\"sk-toggleable__label sk-toggleable__label-arrow\">SimpleImputer</label><div class=\"sk-toggleable__content\"><pre>SimpleImputer(strategy=&#x27;constant&#x27;)</pre></div></div></div><div class=\"sk-item\"><div class=\"sk-estimator sk-toggleable\"><input class=\"sk-toggleable__control sk-hidden--visually\" id=\"sk-estimator-id-8\" type=\"checkbox\" ><label for=\"sk-estimator-id-8\" class=\"sk-toggleable__label sk-toggleable__label-arrow\">OneHotEncoder</label><div class=\"sk-toggleable__content\"><pre>OneHotEncoder(handle_unknown=&#x27;ignore&#x27;)</pre></div></div></div></div></div></div></div></div></div></div><div class=\"sk-item\"><div class=\"sk-estimator sk-toggleable\"><input class=\"sk-toggleable__control sk-hidden--visually\" id=\"sk-estimator-id-9\" type=\"checkbox\" ><label for=\"sk-estimator-id-9\" class=\"sk-toggleable__label sk-toggleable__label-arrow\">XGBClassifier</label><div class=\"sk-toggleable__content\"><pre>XGBClassifier(base_score=None, booster=None, callbacks=None,\n",
              "              colsample_bylevel=None, colsample_bynode=None,\n",
              "              colsample_bytree=0.4, early_stopping_rounds=None,\n",
              "              enable_categorical=False, eval_metric=None, feature_types=None,\n",
              "              gamma=None, gpu_id=None, grow_policy=None, importance_type=None,\n",
              "              interaction_constraints=None, learning_rate=0.02, max_bin=None,\n",
              "              max_cat_threshold=None, max_cat_to_onehot=None,\n",
              "              max_delta_step=None, max_depth=13, max_leaves=None,\n",
              "              min_child_weight=None, missing=nan, monotone_constraints=None,\n",
              "              n_estimators=600, n_jobs=None, num_parallel_tree=None,\n",
              "              predictor=None, random_state=None, ...)</pre></div></div></div></div></div></div></div>"
            ]
          },
          "metadata": {},
          "execution_count": 31
        }
      ]
    },
    {
      "cell_type": "code",
      "source": [
        "# here we specify the search space\n",
        "# `__` denotes an attribute of the preceeding name\n",
        "# (e.g. my_classifier__n_estimators means the `n_estimators` param for `my_classifier`)\n",
        "param_grid = {\n",
        "    'preprocessor__num__imputer__strategy': ['mean'],\n",
        "    # preprocessor__num__imputer__strategy points to preprocessor->num (a Pipeline)-> imputer -> strategy\n",
        "    'my_classifier__n_estimators': [600, 800, 200],  \n",
        "     # my_classifier__n_estimators points to my_classifier->n_estimators \n",
        "    'my_classifier__max_depth':[5, 8, 10]       \n",
        "}\n",
        "\n",
        "# cv=10 means ten-fold cross-validation\n",
        "# n_jobs means the cucurrent number of jobs\n",
        "# (on colab since we only have two cpu cores, we set it to 2)\n",
        "grid_search_third = GridSearchCV(\n",
        "    full_pipline_2, param_grid, cv=10, verbose=1, n_jobs=-1, \n",
        "    scoring='roc_auc')\n",
        "\n",
        "grid_search_third.fit(X_train, y_train)\n",
        "\n",
        "print('best score {}'.format(grid_search_third.best_score_))\n",
        "print('best score {}'.format(grid_search_third.best_params_))"
      ],
      "metadata": {
        "colab": {
          "base_uri": "https://localhost:8080/"
        },
        "outputId": "58d51150-4984-4d3b-9faa-43d55dbb9ef5",
        "id": "VV4f70mBFeyZ"
      },
      "execution_count": null,
      "outputs": [
        {
          "output_type": "stream",
          "name": "stdout",
          "text": [
            "Fitting 10 folds for each of 9 candidates, totalling 90 fits\n",
            "best score 0.8775470518900448\n",
            "best score {'my_classifier__max_depth': 8, 'my_classifier__n_estimators': 200, 'preprocessor__num__imputer__strategy': 'mean'}\n"
          ]
        }
      ]
    },
    {
      "cell_type": "code",
      "source": [
        "# the resulting model is the same pipeline with the best hyperparameters\n",
        "# trained on the full training set. we can use it directly\n",
        "grid_search_third.predict(X_VAL)"
      ],
      "metadata": {
        "id": "lH4QHuA7G-sd"
      },
      "execution_count": null,
      "outputs": []
    },
    {
      "cell_type": "markdown",
      "source": [
        "## Random Search \n",
        "\n",
        "Grid search (global optimal) is expensive when you specify a large search space. Alternatively, random search CV give you local optimal (may be good enough and even more generalizable)"
      ],
      "metadata": {
        "id": "7rv6037apmrg"
      }
    },
    {
      "cell_type": "markdown",
      "source": [
        "## Trial 4"
      ],
      "metadata": {
        "id": "HSFTK7zBeJx-"
      }
    },
    {
      "cell_type": "markdown",
      "source": [
        "### FOUR Trial to tune with Random Search with RandomForestClassifier model with different hyperparameter\n",
        "- ' preprocessor__num__imputer__strategy '=mean\n",
        "- ' my_classifier__n_estimators ':[600, 800, 100]\n",
        "- ' my_classifier__max_depth ': [5, 8, 10]"
      ],
      "metadata": {
        "id": "OtkHSDwlHEVm"
      }
    },
    {
      "cell_type": "code",
      "source": [
        "from sklearn.model_selection import train_test_split, RandomizedSearchCV\n",
        "from sklearn.model_selection import PredefinedSplit\n",
        "\n",
        "random_search = RandomizedSearchCV(\n",
        "    full_pipline_2, param_grid, cv=10, verbose=1, n_jobs=2, \n",
        "    # number of random trials\n",
        "    n_iter=20,\n",
        "    scoring='roc_auc')\n",
        "\n",
        "random_search.fit(X_train, y_train)\n",
        "\n",
        "print('best score {}'.format(random_search.best_score_))\n",
        "print('best score {}'.format(random_search.best_params_))"
      ],
      "metadata": {
        "colab": {
          "base_uri": "https://localhost:8080/"
        },
        "id": "q2y87BZLhhjh",
        "outputId": "7ba134f0-f766-488a-cecc-2ba067028290"
      },
      "execution_count": null,
      "outputs": [
        {
          "output_type": "stream",
          "name": "stderr",
          "text": [
            "/usr/local/lib/python3.9/dist-packages/sklearn/model_selection/_search.py:305: UserWarning: The total space of parameters 9 is smaller than n_iter=10. Running 9 iterations. For exhaustive searches, use GridSearchCV.\n",
            "  warnings.warn(\n"
          ]
        },
        {
          "output_type": "stream",
          "name": "stdout",
          "text": [
            "Fitting 10 folds for each of 9 candidates, totalling 90 fits\n",
            "best score 0.8612595731711583\n",
            "best score {'preprocessor__num__imputer__strategy': 'mean', 'my_classifier__n_estimators': 50, 'my_classifier__max_depth': 40}\n"
          ]
        }
      ]
    },
    {
      "cell_type": "code",
      "source": [
        "# the resulting model is the same pipeline with the best hyperparameters\n",
        "# trained on the full training set. we can use it directly\n",
        "grid_search_third.predict(X_VAL)"
      ],
      "metadata": {
        "id": "QNsFYTNaZ-oV"
      },
      "execution_count": null,
      "outputs": []
    },
    {
      "cell_type": "markdown",
      "source": [
        "## Trial 5"
      ],
      "metadata": {
        "id": "ipukhhm5eNvn"
      }
    },
    {
      "cell_type": "markdown",
      "source": [
        "### Five Trial to tune with Random Search with xbg model with different hyperparameter"
      ],
      "metadata": {
        "id": "OfT3szJgZlZ2"
      }
    },
    {
      "cell_type": "code",
      "source": [
        "from sklearn.model_selection import train_test_split, RandomizedSearchCV\n",
        "from sklearn.model_selection import PredefinedSplit\n",
        "\n",
        "random_search_second= RandomizedSearchCV(\n",
        "    full_pipline, param_grid, cv=10, verbose=1, n_jobs=2, \n",
        "    # number of random trials\n",
        "    n_iter=20,\n",
        "    scoring='roc_auc')\n",
        "\n",
        "random_search_second.fit(X_train, y_train)\n",
        "\n",
        "print('best score {}'.format(random_search_second.best_score_))\n",
        "print('best score {}'.format(random_search_second.best_params_))"
      ],
      "metadata": {
        "colab": {
          "base_uri": "https://localhost:8080/"
        },
        "outputId": "7ba134f0-f766-488a-cecc-2ba067028290",
        "id": "LDDo5iTHcTLn"
      },
      "execution_count": null,
      "outputs": [
        {
          "output_type": "stream",
          "name": "stderr",
          "text": [
            "/usr/local/lib/python3.9/dist-packages/sklearn/model_selection/_search.py:305: UserWarning: The total space of parameters 9 is smaller than n_iter=10. Running 9 iterations. For exhaustive searches, use GridSearchCV.\n",
            "  warnings.warn(\n"
          ]
        },
        {
          "output_type": "stream",
          "name": "stdout",
          "text": [
            "Fitting 10 folds for each of 9 candidates, totalling 90 fits\n",
            "best score 0.8612595731711583\n",
            "best score {'preprocessor__num__imputer__strategy': 'mean', 'my_classifier__n_estimators': 50, 'my_classifier__max_depth': 40}\n"
          ]
        }
      ]
    },
    {
      "cell_type": "markdown",
      "source": [
        "## Bayesian Search\n",
        "\n",
        "We can interpret the hyperparameter search problem as a non-differentiable optimization problem, and use bayesian learning to predict what is the next hyperparamter values we should try given the current trials. \n"
      ],
      "metadata": {
        "id": "y1iqdi2dqKAI"
      }
    },
    {
      "cell_type": "markdown",
      "source": [
        "## Trial 6"
      ],
      "metadata": {
        "id": "ihp01nh3eTUn"
      }
    },
    {
      "cell_type": "markdown",
      "source": [
        "####  The Six Trial to tune with Bayesian Search with svc model"
      ],
      "metadata": {
        "id": "bHU7d7k6cprU"
      }
    },
    {
      "cell_type": "code",
      "source": [
        "!pip install scikit-optimize"
      ],
      "metadata": {
        "colab": {
          "base_uri": "https://localhost:8080/"
        },
        "id": "y-JZz-bTi2jV",
        "outputId": "5d21cce7-6c26-4003-cf2e-0878cba384a2"
      },
      "execution_count": null,
      "outputs": [
        {
          "output_type": "stream",
          "name": "stdout",
          "text": [
            "Looking in indexes: https://pypi.org/simple, https://us-python.pkg.dev/colab-wheels/public/simple/\n",
            "Collecting scikit-optimize\n",
            "  Downloading scikit_optimize-0.9.0-py2.py3-none-any.whl (100 kB)\n",
            "\u001b[2K     \u001b[90m━━━━━━━━━━━━━━━━━━━━━━━━━━━━━━━━━━━━━━━\u001b[0m \u001b[32m100.3/100.3 KB\u001b[0m \u001b[31m3.9 MB/s\u001b[0m eta \u001b[36m0:00:00\u001b[0m\n",
            "\u001b[?25hRequirement already satisfied: scikit-learn>=0.20.0 in /usr/local/lib/python3.9/dist-packages (from scikit-optimize) (1.2.2)\n",
            "Requirement already satisfied: scipy>=0.19.1 in /usr/local/lib/python3.9/dist-packages (from scikit-optimize) (1.10.1)\n",
            "Requirement already satisfied: joblib>=0.11 in /usr/local/lib/python3.9/dist-packages (from scikit-optimize) (1.1.1)\n",
            "Requirement already satisfied: numpy>=1.13.3 in /usr/local/lib/python3.9/dist-packages (from scikit-optimize) (1.22.4)\n",
            "Collecting pyaml>=16.9\n",
            "  Downloading pyaml-21.10.1-py2.py3-none-any.whl (24 kB)\n",
            "Requirement already satisfied: PyYAML in /usr/local/lib/python3.9/dist-packages (from pyaml>=16.9->scikit-optimize) (6.0)\n",
            "Requirement already satisfied: threadpoolctl>=2.0.0 in /usr/local/lib/python3.9/dist-packages (from scikit-learn>=0.20.0->scikit-optimize) (3.1.0)\n",
            "Installing collected packages: pyaml, scikit-optimize\n",
            "Successfully installed pyaml-21.10.1 scikit-optimize-0.9.0\n"
          ]
        }
      ]
    },
    {
      "cell_type": "code",
      "source": [
        "# Let's try this with SVM model\n",
        "from skopt import BayesSearchCV\n",
        "from skopt.space import Real, Categorical, Integer\n",
        "from sklearn.svm import SVC\n",
        "\n",
        "\n",
        "SVC_pipline = Pipeline(\n",
        "    steps=[\n",
        "        ('preprocessor', preprocessor),\n",
        "        ('my_svc', SVC(class_weight='balanced'))\n",
        "    ]\n",
        ")\n",
        "# SVC has a class_weight attribute for unbalanced data\n",
        "\n",
        "\n",
        "# define ranges for bayes search\n",
        "bayes_search = BayesSearchCV(\n",
        "    SVC_pipline,\n",
        "    {\n",
        "        'my_svc__C': Real(1e-6, 1e+6, prior='log-uniform'),\n",
        "        'my_svc__gamma': Real(1e-6, 1e+1, prior='log-uniform'),\n",
        "        'my_svc__degree': Integer(1,8),\n",
        "        'my_svc__kernel': Categorical(['linear', 'poly', 'rbf']),\n",
        "    },\n",
        "    # number of trials \n",
        "    n_iter=3,\n",
        "    random_state=0,\n",
        "    verbose=1,\n",
        "    # we still use \n",
        "    cv=15,\n",
        ")\n",
        "\n",
        "bayes_search.fit(X_train, y_train)\n",
        "\n",
        "print('best score {}'.format(bayes_search.best_score_))\n",
        "print('best score {}'.format(bayes_search.best_params_))\n"
      ],
      "metadata": {
        "colab": {
          "base_uri": "https://localhost:8080/"
        },
        "id": "NqndUcXtitts",
        "outputId": "4eaa616b-9740-43f4-d86a-7a68492bb961"
      },
      "execution_count": null,
      "outputs": [
        {
          "output_type": "stream",
          "name": "stdout",
          "text": [
            "Fitting 15 folds for each of 1 candidates, totalling 15 fits\n",
            "Fitting 15 folds for each of 1 candidates, totalling 15 fits\n",
            "Fitting 15 folds for each of 1 candidates, totalling 15 fits\n",
            "best score 0.830133279753533\n",
            "best score OrderedDict([('my_svc__C', 0.0012602593949011189), ('my_svc__degree', 8), ('my_svc__gamma', 2.285959941576884), ('my_svc__kernel', 'poly')])\n"
          ]
        }
      ]
    },
    {
      "cell_type": "code",
      "source": [
        "# the resulting model is the same pipeline with the best hyperparameters\n",
        "# trained on the full training set. we can use it directly\n",
        "bayes_search.predict(X_VAL)"
      ],
      "metadata": {
        "colab": {
          "base_uri": "https://localhost:8080/",
          "height": 200
        },
        "id": "UdTWe86ynNsi",
        "outputId": "fca7c238-ca04-4ba9-fa63-ae656d42437b"
      },
      "execution_count": null,
      "outputs": [
        {
          "output_type": "error",
          "ename": "NameError",
          "evalue": "ignored",
          "traceback": [
            "\u001b[0;31m---------------------------------------------------------------------------\u001b[0m",
            "\u001b[0;31mNameError\u001b[0m                                 Traceback (most recent call last)",
            "\u001b[0;32m<ipython-input-55-b8eabb4fa991>\u001b[0m in \u001b[0;36m<cell line: 3>\u001b[0;34m()\u001b[0m\n\u001b[1;32m      1\u001b[0m \u001b[0;31m# the resulting model is the same pipeline with the best hyperparameters\u001b[0m\u001b[0;34m\u001b[0m\u001b[0;34m\u001b[0m\u001b[0m\n\u001b[1;32m      2\u001b[0m \u001b[0;31m# trained on the full training set. we can use it directly\u001b[0m\u001b[0;34m\u001b[0m\u001b[0;34m\u001b[0m\u001b[0m\n\u001b[0;32m----> 3\u001b[0;31m \u001b[0mbayes_search\u001b[0m\u001b[0;34m.\u001b[0m\u001b[0mpredict\u001b[0m\u001b[0;34m(\u001b[0m\u001b[0mX_test\u001b[0m\u001b[0;34m)\u001b[0m\u001b[0;34m\u001b[0m\u001b[0;34m\u001b[0m\u001b[0m\n\u001b[0m",
            "\u001b[0;31mNameError\u001b[0m: name 'X_test' is not defined"
          ]
        }
      ]
    },
    {
      "cell_type": "code",
      "source": [
        "X.isnull().sum()"
      ],
      "metadata": {
        "colab": {
          "base_uri": "https://localhost:8080/"
        },
        "id": "HpoOPn_vqkG9",
        "outputId": "1f5d2069-2035-4881-8eeb-b151985f2360"
      },
      "execution_count": null,
      "outputs": [
        {
          "output_type": "execute_result",
          "data": {
            "text/plain": [
              "gender         0\n",
              "idg            0\n",
              "condtn         0\n",
              "wave           0\n",
              "round          0\n",
              "            ... \n",
              "intel5_2    2821\n",
              "fun5_2      2821\n",
              "amb5_2      2821\n",
              "you_call    3105\n",
              "id             0\n",
              "Length: 131, dtype: int64"
            ]
          },
          "metadata": {},
          "execution_count": 56
        }
      ]
    },
    {
      "cell_type": "markdown",
      "source": [
        "##  Submission Result"
      ],
      "metadata": {
        "id": "J-bKqygv5PHY"
      }
    },
    {
      "cell_type": "code",
      "source": [
        "submission = pd.DataFrame()\n",
        "\n",
        "submission['id'] = test_df['id']\n",
        "\n",
        "submission['match'] = grid_search_second.predict_proba(test_df)[:,1]\n",
        "\n",
        "submission.to_csv('sample_submission_walkthrough.csv', index=False)\n",
        "print(\"Submission was saved successfully\")"
      ],
      "metadata": {
        "colab": {
          "base_uri": "https://localhost:8080/"
        },
        "id": "fZ5upySxs5-Q",
        "outputId": "afc6d254-83b2-4da3-fdc2-5df812b08d67"
      },
      "execution_count": null,
      "outputs": [
        {
          "output_type": "stream",
          "name": "stdout",
          "text": [
            "Submission was saved successfully\n"
          ]
        }
      ]
    },
    {
      "cell_type": "code",
      "source": [
        "test_df.id"
      ],
      "metadata": {
        "colab": {
          "base_uri": "https://localhost:8080/"
        },
        "id": "-ZtZ3TaQvxHg",
        "outputId": "2274c07d-7224-4ee9-d576-2b6e1a928330"
      },
      "execution_count": null,
      "outputs": [
        {
          "output_type": "execute_result",
          "data": {
            "text/plain": [
              "0        934\n",
              "1       6539\n",
              "2       6757\n",
              "3       2275\n",
              "4       1052\n",
              "        ... \n",
              "2464    7982\n",
              "2465    7299\n",
              "2466    1818\n",
              "2467     937\n",
              "2468    6691\n",
              "Name: id, Length: 2469, dtype: int64"
            ]
          },
          "metadata": {},
          "execution_count": 67
        }
      ]
    },
    {
      "cell_type": "markdown",
      "source": [
        "# Questions and their answers"
      ],
      "metadata": {
        "id": "tckRSec9QZng"
      }
    },
    {
      "cell_type": "markdown",
      "source": [
        "## Why a simple linear regression model (without any activation function) is not good for classification task, compared to Perceptron/Logistic regression?\n",
        "- There are two things that explain why Linear Regression is not suitable for classification. \n",
        "  - The first one is that Linear Regression deals with continuous values whereas classification problems mandate discrete values. \n",
        "  - The second problem is regarding the shift in threshold value when new data points are added.\n",
        "- A simple linear regression model is not suitable for classification tasks because it does not produce binary outputs. Linear regression models predict continuous numerical values, while classification tasks require binary outputs that represent class labels or probabilities.\n",
        "\n",
        "- Perceptron and logistic regression models, on the other hand, are specifically designed for binary classification tasks. They use activation functions, such as the step function or sigmoid function, to produce binary outputs based on the input features.\n",
        "\n",
        "- The step function used in the Perceptron model produces a binary output of 1 or -1, depending on whether the input falls above or below a threshold value. The sigmoid function used in logistic regression produces a binary output between 0 and 1, which can be interpreted as the probability of belonging to a certain class.\n",
        "\n",
        "- In summary, a simple linear regression model is not suitable for classification tasks because it does not produce binary outputs. Perceptron and logistic regression models are specifically designed for binary classification tasks and use activation functions to produce binary outputs based on the input features.\n"
      ],
      "metadata": {
        "id": "kqlmEpi_eedI"
      }
    },
    {
      "cell_type": "markdown",
      "source": [
        "## What's a decision tree and how it is different to a logistic regression model?\n",
        "- Logistic Regression and trees differ in the way that they generate decision boundaries.\n",
        "- Decision Trees bisect the space into smaller and smaller regions, whereas Logistic Regression fits a single line to divide the space exactly into two.\n",
        "- When it comes to prediction accuracy, Logistic Regression is typically superior.\n",
        "- A decision tree is a type of supervised learning algorithm that is used for classification and regression tasks. It works by recursively splitting the data into subsets based on the values of input features, with the goal of separating the data into homogeneous groups with respect to the output variable.\n",
        "\n",
        "- The decision tree starts with a root node that represents the entire dataset, and then splits the data into subsets based on the values of a chosen feature. Each subset is then recursively split until a stopping criterion is met, such as reaching a maximum depth or a minimum number of samples per leaf.\n",
        "\n",
        "- The resulting tree structure can be used to make predictions for new data by traversing the tree from the root to a leaf node, and outputting the corresponding prediction.\n",
        "\n",
        "- Logistic regression, on the other hand, is a statistical model used for binary or multiclass classification tasks. It works by modeling the probability of a binary or categorical output variable as a function of one or more input variables.\n",
        "\n",
        "- The logistic regression model estimates the coefficients of the input variables and uses them to compute a linear combination of the input variables, which is then transformed using the logistic function to obtain the predicted probability of the output variable.\n",
        "\n",
        "- The main difference between decision trees and logistic regression models is that decision trees recursively partition the feature space into subregions, while logistic regression models estimate a linear decision boundary that separates the feature space into two regions.\n",
        "\n",
        "- In summary, decision trees and logistic regression models are both supervised learning algorithms used for classification tasks. Decision trees recursively partition the feature space into subregions, while logistic regression models estimate a linear decision boundary. The choice between the two techniques depends on the specific task and the characteristics of the data."
      ],
      "metadata": {
        "id": "iZZZeAzeeixo"
      }
    },
    {
      "cell_type": "markdown",
      "source": [
        "## What's the difference between grid search and random search?\n",
        "- grid search looks at every possible combination of hyperparameters to find the best model, random search only selects and tests a random combination of hyperparameters.\n",
        "- Grid search and random search are two common techniques used for hyperparameter tuning in machine learning.\n",
        "\n",
        "- Grid search involves specifying a grid of hyperparameter values to search over. The search algorithm then evaluates the model performance for each combination of hyperparameters in the grid, and returns the combination with the best performance. This approach systematically explores the entire search space, but it can be computationally expensive, especially when the search space is large.\n",
        "\n",
        "- Random search, on the other hand, involves randomly sampling hyperparameter values from a predefined search space. The search algorithm then evaluates the model performance for each combination of hyperparameters, and returns the combination with the best performance. This approach does not explore the entire search space systematically, but it can be more computationally efficient than grid search, especially when the search space is large.\n",
        "\n",
        "- In summary, grid search and random search are both techniques used for hyperparameter tuning in machine learning. Grid search systematically explores the entire search space, while random search randomly samples from the search space. Grid search can be computationally expensive, while random search can be more efficient. The choice between the two techniques depends on the specific task and the characteristics of the data."
      ],
      "metadata": {
        "id": "A5bwSBSMenVo"
      }
    },
    {
      "cell_type": "markdown",
      "source": [
        "## What's the difference between bayesian search and random search?\n",
        "- Unlike the grid search and random search, which treat hyperparameter sets independently, the Bayesian optimization is an informed search method, meaning that it learns from previous iterations. The number of trials in this approach is determined by the user.\n",
        "- the Bayesian optimization method can converge to the optimal hyperparameters. Thus, the best hyperparameters can be obtained without exploring the entire sample space.\n",
        "- With the Bayesian optimization method, users do not have to endure long run times that come from evaluating every hyperparameter set. They also do not have to incorporate randomness and risk missing the optimal solution.\n",
        "- The random search is also an uninformed search method that treats iterations independently.\n",
        "- However, instead of searching for all hyperparameter sets in the search space, it evaluates a specific number of hyperparameter sets at random. This number is determined by the user.\n",
        "- Since it performs fewer trials in hyperparameter tuning, the method requires less computation and run time than the grid search.\n"
      ],
      "metadata": {
        "id": "8X1bMonFQneo"
      }
    }
  ]
}